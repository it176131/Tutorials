{
 "cells": [
  {
   "cell_type": "markdown",
   "metadata": {
    "heading_collapsed": true
   },
   "source": [
    "# [Getting Started](https://bokeh.pydata.org/en/latest/docs/user_guide/quickstart.html#getting-started)"
   ]
  },
  {
   "cell_type": "markdown",
   "metadata": {
    "hidden": true
   },
   "source": [
    "Bokeh is a large library that exposes many capabilities, so this section is only a quick tour of some common Bokeh use cases and workflows. For more detailed information please consult the full [User Guide](https://bokeh.pydata.org/en/latest/docs/user_guide.html#userguide).\n",
    "\n",
    "Let's begin with some examples.\n",
    "\n",
    "Plotting data in basic Python lists as as a line plot including zoom, pan, save, and other tools is simple and straightforward."
   ]
  },
  {
   "cell_type": "code",
   "execution_count": 11,
   "metadata": {
    "hidden": true
   },
   "outputs": [],
   "source": [
    "from bokeh.plotting import figure, output_file, show\n",
    "\n",
    "# prepare some data\n",
    "x = [1, 2, 3, 4, 5]\n",
    "y = [6, 7, 2, 4, 5]\n",
    "\n",
    "# output to static HTML file\n",
    "output_file(filename = 'lines.html')\n",
    "\n",
    "# create a new plot with a title and axis labels\n",
    "p = figure(title = 'simple line example', x_axis_label = 'x', y_axis_label = 'y')\n",
    "\n",
    "# add a line renderer with legend and line thickness\n",
    "p.line(x, y, legend = 'Temp.', line_width = 2)\n",
    "\n",
    "# show the results\n",
    "show(p)"
   ]
  },
  {
   "cell_type": "markdown",
   "metadata": {
    "hidden": true
   },
   "source": [
    "When you execute this script, you will see that a new output file \"`lines.html`\" is created, and that a browser automatically opens a new tab to display it.\n",
    "\n",
    "The basic steps to creating plots with the [bokeh.plotting](https://bokeh.pydata.org/en/latest/docs/reference/plotting.html#bokeh-plotting) interfaces are:\n",
    "* Prepare some data (in this case plain python lists)\n",
    "* Tell Bokeh where to generate output (in this case using `output_file()`, with the filename \"`lines.html`\").\n",
    "* Call `figure()` to create a plot with some overall options like title, tools and axes labels.\n",
    "* Add renderers (i this case, `Figure.line`) for our data, with visual customizations like colors, legends and widths to the plot.\n",
    "* Ask Bokeh to `show()` or `save()` the results.\n",
    "\n",
    "Steps three and four can be repeated to create more than one plot, as shown in some of the examples below.\n",
    "\n",
    "The [bokeh.plotting](https://bokeh.pydata.org/en/latest/docs/reference/plotting.html#bokeh-plotting) interface is also quite handy if we need to customize the output a bit more by adding more data series, glyphs, logarithmic axis, and so on. It's also possible to easily combine multiple glyphs together on one plot as shown below:"
   ]
  },
  {
   "cell_type": "code",
   "execution_count": 12,
   "metadata": {
    "hidden": true
   },
   "outputs": [],
   "source": [
    "from bokeh.plotting import figure, output_file, show\n",
    "\n",
    "# prepare some data\n",
    "x = [0.1, 0.5, 1.0, 1.5, 2.0, 2.5, 3.0]\n",
    "y0 = [i**2 for i in x]\n",
    "y1 = [10**i for i in x]\n",
    "y2 = [10**(i**2) for i in x]\n",
    "\n",
    "# output to static HTML file\n",
    "output_file(filename = 'log_lines.html')\n",
    "\n",
    "# create a new plot\n",
    "p = figure(\n",
    "    tools = 'pan, box_zoom, reset, save',\n",
    "    y_axis_type = 'log', y_range = [0.001, 10**11], title = 'log axis example',\n",
    "    x_axis_label = 'sections', y_axis_label = 'particles'\n",
    ")\n",
    "\n",
    "# add some renderers\n",
    "p.line(x, x, legend = 'y=x')\n",
    "p.circle(x, x, legend = 'y=x', fill_color = 'white', size = 8)\n",
    "p.line(x, y0, legend = 'y=x^2', line_width = 3)\n",
    "p.line(x, y1, legend = 'y=10^x', line_color = 'red')\n",
    "p.circle(x, y1, legend = 'y=10^x', fill_color = 'red', line_color = 'red', size = 6)\n",
    "p.line(x, y2, legend = 'y=10^x^2', line_color = 'orange', line_dash = '4 4')\n",
    "\n",
    "# show the results\n",
    "show(p)"
   ]
  },
  {
   "cell_type": "markdown",
   "metadata": {
    "heading_collapsed": true
   },
   "source": [
    "# [Jupyter Notebooks](https://bokeh.pydata.org/en/latest/docs/user_guide/quickstart.html#jupyter-notebooks)"
   ]
  },
  {
   "cell_type": "markdown",
   "metadata": {
    "hidden": true
   },
   "source": [
    "At this point we should mention Jupyter (formerly IPython) notebooks.\n",
    "\n",
    "Jupyter notebooks are a fantastic tool for exploratory data analysis, widely used across the \"PyData\" community. Bokeh integrates seamlessly with Jupyter notebooks. To view the above examples in a notebook, you would only change `output_file()` to a call to `output_notebook()` instead.\n",
    "\n",
    "Many static examples may be viewed directly online at the [Bokeh NBViewer Gallery](http://nbviewer.ipython.org/github/bokeh/bokeh-notebooks/blob/master/index.ipynb).\n",
    "\n",
    "The [Bokeh GitHub repository](https://github.com/bokeh/bokeh) also has a number of example notebooks in the `example/howto` directory. After cloning the repository, navigate there and run:\n",
    "> `ipython notebook`\n",
    "\n",
    "You can open and interact with any of the notebooks listed in the index page that automatically opens up. In particular, you might check out these examples, which show how Bokeh can be used together with Jupyter interactive widgets:\n",
    "\n",
    "[examples/howto/notebook_comms/Jupyter Interactors.ipynb](https://github.com/bokeh/bokeh/tree/0.12.13/examples/howto/notebook_comms/Jupyter%20Interactors.ipynb)\n",
    "\n",
    "[examples/howto/notebook_comms/Numba Image Example.ipynb](https://github.com/bokeh/bokeh/tree/0.12.13/examples/howto/notebook_comms/Numba%20Image%20Example.ipynb)"
   ]
  },
  {
   "cell_type": "markdown",
   "metadata": {
    "heading_collapsed": true
   },
   "source": [
    "# [Zeppelin Notebooks](https://bokeh.pydata.org/en/latest/docs/user_guide/quickstart.html#zeppelin-notebooks)"
   ]
  },
  {
   "cell_type": "markdown",
   "metadata": {
    "hidden": true
   },
   "source": [
    "At this point we should mention [Apache Zeppelin](http://zeppelin.apache.org/) notebooks.\n",
    "\n",
    "[Apache Zeppelin](http://zeppelin.apache.org/) is a web-based notebook that enables interactive data analytics. You can make beautiful data-driven, interactive and collaborative documents with SQL, Scala, and more. It is widely used across the Spark community. Bokeh integrates seamlessly with Zeppelin notebooks. To view the above examples in a notebook, you would only need change `output_file()` to `output_notebook()` (notebook_type = 'zeppelin') instead.\n",
    "\n",
    "The usage of bokeh in Zeppelin notebook is no difference from Jupyter except you need to specify notebook_type as zeppelin."
   ]
  },
  {
   "cell_type": "markdown",
   "metadata": {
    "heading_collapsed": true
   },
   "source": [
    "# [Other Languages](https://bokeh.pydata.org/en/latest/docs/user_guide/quickstart.html#other-languages)"
   ]
  },
  {
   "cell_type": "markdown",
   "metadata": {
    "hidden": true
   },
   "source": [
    "Bokeh's architecture makes it easy to create bindings for Bokeh in other languages, and in fact several already exist. We are obviously big Python fans, but having many language options is a compelling feature. Here are some of the other ways to use Bokeh:\n",
    "* [Bokeh for R](http://hafen.github.io/rbokeh/)\n",
    "* [Bokeh for Scala](https://github.com/bokeh/bokeh-scala)\n",
    "* [Bokeh for Julia](https://github.com/bokeh/Bokeh.jl)"
   ]
  },
  {
   "cell_type": "markdown",
   "metadata": {
    "heading_collapsed": true
   },
   "source": [
    "# [Sample Data](https://bokeh.pydata.org/en/latest/docs/user_guide/quickstart.html#sample-data)"
   ]
  },
  {
   "cell_type": "markdown",
   "metadata": {
    "hidden": true
   },
   "source": [
    "Some of the examples included in the Bokeh source make use of sample data files that are distributed separately. To download this data, execute the following commands at a Bash or Windows command prompt.\n",
    "> `bokeh sampledata`"
   ]
  },
  {
   "cell_type": "markdown",
   "metadata": {
    "heading_collapsed": true
   },
   "source": [
    "# [Concepts](https://bokeh.pydata.org/en/latest/docs/user_guide/quickstart.html#concepts)"
   ]
  },
  {
   "cell_type": "markdown",
   "metadata": {
    "hidden": true
   },
   "source": [
    "Let's consider the plots above, and use them to help define some core concepts."
   ]
  },
  {
   "cell_type": "markdown",
   "metadata": {
    "heading_collapsed": true,
    "hidden": true
   },
   "source": [
    "## [Plot](https://bokeh.pydata.org/en/latest/docs/user_guide/quickstart.html#plot)"
   ]
  },
  {
   "cell_type": "markdown",
   "metadata": {
    "hidden": true
   },
   "source": [
    "Plots are a central concept in Bokeh. They are containers that hold all the various objects (renderers, guides, data, and tools) that comprise the final visualization that is presented to users. The [bokeh.plotting](https://bokeh.pydata.org/en/latest/docs/reference/plotting.html#bokeh-plotting) interface provides a `Figure` class to help with assembling all the necessary objects, and a convenience function `figure()` for creating `Figure` objects."
   ]
  },
  {
   "cell_type": "markdown",
   "metadata": {
    "heading_collapsed": true,
    "hidden": true
   },
   "source": [
    "## [Glyphs](https://bokeh.pydata.org/en/latest/docs/user_guide/quickstart.html#glyphs)"
   ]
  },
  {
   "cell_type": "markdown",
   "metadata": {
    "hidden": true
   },
   "source": [
    "Glyphs are the basic marks that Bokeh can display. At the lowest level, there are **glyph objects**, such as `Line`. If you are using the low-level [bokeh.models](https://bokeh.pydata.org/en/latest/docs/reference/models.html#bokeh-models) interface, it is your responsibility to create and coordinate all the various Bokeh objects, including glyph objects and their data sources. To make life easier, the [bokeh.plotting](https://bokeh.pydata.org/en/latest/docs/reference/plotting.html#bokeh-plotting) interface exposes higher level **glyph methods** such as the `Figure.line` method used in the first example. The second example also adds in calls to `Figure.circle` to display circle and line glyphs together on the same plot. Besides lines and circles, Bokeh makes many additional [glyphs](https://bokeh.pydata.org/en/latest/docs/reference/models/glyphs.html#bokeh-models-glyphs) and [markers](https://bokeh.pydata.org/en/latest/docs/reference/models/markers.html#bokeh-models-markers) available.\n",
    "\n",
    "The visual appearance of a glyph is tied directly to the data values that are associated with the glyph's various attributes. In the example above we see that positional attributes like *x* and *y* can be set to vectors of data. But glyphs also have some combination of [Line Properties](https://bokeh.pydata.org/en/latest/docs/user_guide/styling.html#userguide-styling-line-properties), [Fill Properties](https://bokeh.pydata.org/en/latest/docs/user_guide/styling.html#userguide-styling-fill-properties), and [Text Properties](https://bokeh.pydata.org/en/latest/docs/user_guide/styling.html#userguide-styling-text-properties) to control their appearance. All of these attributes can be set with \"vectorized\" values as well. We will show examples of this below."
   ]
  },
  {
   "cell_type": "markdown",
   "metadata": {
    "heading_collapsed": true,
    "hidden": true
   },
   "source": [
    "## [Guides and Annotations](https://bokeh.pydata.org/en/latest/docs/user_guide/quickstart.html#guides-and-annotations)"
   ]
  },
  {
   "cell_type": "markdown",
   "metadata": {
    "hidden": true
   },
   "source": [
    "Bokeh plots can also have other visual components that aid presentation or help the user make comparisons. These fall into two categories. **Guides** are visual aids that help users judge distances, angles, etc. These include grid lines or bands, axes (such as linear, log, or datetime) that may have ticks and tick labels as well. **Annotations** are visual aids that label or name parts of the plot. These include titles, legends, etc."
   ]
  },
  {
   "cell_type": "markdown",
   "metadata": {
    "heading_collapsed": true,
    "hidden": true
   },
   "source": [
    "## [Ranges](https://bokeh.pydata.org/en/latest/docs/user_guide/quickstart.html#ranges)"
   ]
  },
  {
   "cell_type": "markdown",
   "metadata": {
    "hidden": true
   },
   "source": [
    "Ranges describe the data-space bounds of a plot. By default, plots generated with the [bokeh.plotting](https://bokeh.pydata.org/en/latest/docs/reference/plotting.html#bokeh-plotting) interface come configured with `DataRange1d` objects that try to automatically set the plot bounds to encompass all the available data. But it is possible to supply explicit `Range1d` objects for fixed bounds. As a convenience these can also typically be spelled as 2-tuples or lists:\n",
    "> `p = figure(x_range=[0,10], y_range=(10,20))`"
   ]
  },
  {
   "cell_type": "markdown",
   "metadata": {
    "heading_collapsed": true,
    "hidden": true
   },
   "source": [
    "## [Resources](https://bokeh.pydata.org/en/latest/docs/user_guide/quickstart.html#resources)"
   ]
  },
  {
   "cell_type": "markdown",
   "metadata": {
    "hidden": true
   },
   "source": [
    "To generate plots, the client library BokehJS JavaScript and CSS code must be loaded into the browser. By default, the `output_file()` function will be loaded into the browser. By default, the `output_file()` function will load BokehJS from http://cdn.pydata.org/. However, you can also configure Bokeh to generate static HTML files with BokehJS resources embedded directly inside, by passing the argument `mode='inline'` to the `output_file()` function."
   ]
  },
  {
   "cell_type": "markdown",
   "metadata": {
    "heading_collapsed": true
   },
   "source": [
    "# [More examples](https://bokeh.pydata.org/en/latest/docs/user_guide/quickstart.html#more-examples)"
   ]
  },
  {
   "cell_type": "markdown",
   "metadata": {
    "hidden": true
   },
   "source": [
    "Here are a few more examples to demonstrate other common tasks and use-cases with the [bokeh.plotting](https://bokeh.pydata.org/en/latest/docs/reference/plotting.html#bokeh-plotting) interface."
   ]
  },
  {
   "cell_type": "markdown",
   "metadata": {
    "heading_collapsed": true,
    "hidden": true
   },
   "source": [
    "## [Vectorized colors and size](https://bokeh.pydata.org/en/latest/docs/user_guide/quickstart.html#vectorized-colors-and-sizes)"
   ]
  },
  {
   "cell_type": "markdown",
   "metadata": {
    "hidden": true
   },
   "source": [
    "This example shows how it is possible to provide sequences of data values for glyph attributes like `fill_color` and `radius`. Other things to look out for in this example:\n",
    "* supplying an explicit list of tool names to `figure()`\n",
    "* fetching BokehJS resources from CDN using the `mode` argument\n",
    "* setting the `x_range` and `y_range` explicitly\n",
    "* turning a line *off* (by setting its value to `None`)\n",
    "* using NumPy arrays for supplying data"
   ]
  },
  {
   "cell_type": "code",
   "execution_count": 13,
   "metadata": {
    "hidden": true
   },
   "outputs": [],
   "source": [
    "import numpy as np\n",
    "\n",
    "from bokeh.plotting import figure, output_file, show\n",
    "\n",
    "# prepare some data\n",
    "N = 4000\n",
    "x = np.random.random(size = N) * 100\n",
    "y = np.random.random(size = N) * 100\n",
    "radii = np.random.random(size = N) * 1.5\n",
    "colors = [\n",
    "    \"#%02x%02x%02x\" % (int(r), int(g), 150) for r, g in zip(50+2*x, 30+2*y)\n",
    "]\n",
    "\n",
    "# output to static HTML file (with CDN resources)\n",
    "output_file('color_scatter.html', title = 'color_scatter.py example', mode = 'cdn')\n",
    "\n",
    "TOOLS = 'crosshair, pan, wheel_zoom, box_zoom, reset, box_select, lasso_select'\n",
    "\n",
    "# create a new plot with the tools above, and explicit ranges\n",
    "p = figure(tools = TOOLS, x_range = (0, 100), y_range = (0, 100))\n",
    "\n",
    "# add a circle renderer with vectorized colors and sizes\n",
    "p.circle(x, y, radius = radii, fill_color = colors, fill_alpha = 0.6, line_color = None)\n",
    "\n",
    "# show the results\n",
    "show(p)"
   ]
  },
  {
   "cell_type": "markdown",
   "metadata": {
    "heading_collapsed": true,
    "hidden": true
   },
   "source": [
    "## [Linked panning and brushing](https://bokeh.pydata.org/en/latest/docs/user_guide/quickstart.html#linked-panning-and-brushing)"
   ]
  },
  {
   "cell_type": "markdown",
   "metadata": {
    "hidden": true
   },
   "source": [
    "Linking together various aspects of different plots can be a useful technique for data visualization. In Bokeh, such linkages are typically accomplished by *sharing* some plot component between plots. Below is an example that demonstrates **linked panning** (where changing the range of one plot causes other to update) by sharing range objects between the plots. Some other things to look out for in this example:\n",
    "* calling `figure()` multiple times to create multiple plots\n",
    "* using `gridplot()` to arrange several plots in an array\n",
    "* showing new glyphs using new glyph methods `Figure.triangle` and `Figure.square`\n",
    "* hiding the toolbar by setting `toolbar_location` to `None`\n",
    "* setting convenience arguments `color` (sets both `line_color` and `fill_color`) and `alpha` (sets both `line_alpha` and `fill_alpha`)"
   ]
  },
  {
   "cell_type": "code",
   "execution_count": 14,
   "metadata": {
    "hidden": true
   },
   "outputs": [],
   "source": [
    "import numpy as np\n",
    "\n",
    "from bokeh.layouts import gridplot\n",
    "from bokeh.plotting import figure, output_file, show\n",
    "\n",
    "# prepare some data\n",
    "N = 100\n",
    "x = np.linspace(0, 4 * np.pi, N)\n",
    "y0 = np.sin(x)\n",
    "y1 = np.cos(x)\n",
    "y2 = np.sin(x) + np.cos(x)\n",
    "\n",
    "# output to static HTML file\n",
    "output_file('linked_panning.html')\n",
    "\n",
    "# create a new plot\n",
    "s1 = figure(width = 250, plot_height = 250, title = None)\n",
    "s1.circle(x, y0, size = 10, color = 'navy', alpha = 0.5)\n",
    "\n",
    "# NEW: create a new plot and share both ranges\n",
    "s2 = figure(width = 250, height = 250, x_range = s1.x_range, y_range = s1.y_range, title = None)\n",
    "s2.triangle(x, y1, size = 10, color = 'firebrick', alpha = 0.5)\n",
    "\n",
    "# NEW: create a new plot and share only one range\n",
    "s3 = figure(width = 250, height = 250, x_range = s1.x_range, title = None)\n",
    "s3.square(x, y2, size = 10, color = 'olive', alpha = 0.5)\n",
    "\n",
    "# NEW: put the subplots in a gridplot\n",
    "p = gridplot([[s1, s2, s3]], toolbar_location = None)\n",
    "\n",
    "# show the results\n",
    "show(p)"
   ]
  },
  {
   "cell_type": "markdown",
   "metadata": {
    "hidden": true
   },
   "source": [
    "Although the toolbar is hidden, the pan tool is still present and active. Click and drag the above plots to pan them, and see how their ranges are linked together.\n",
    "\n",
    "Another linkage that is often useful is **linked brushing** (where a selection on one plot causes a selection to update on other plots). Below is an example that demonstrates linked brushing by sharing a `ColumnDataSource` between two plots:"
   ]
  },
  {
   "cell_type": "code",
   "execution_count": 16,
   "metadata": {
    "hidden": true
   },
   "outputs": [],
   "source": [
    "import numpy as np\n",
    "from bokeh.plotting import *\n",
    "from bokeh.models import ColumnDataSource\n",
    "\n",
    "# prepare some data\n",
    "N = 300\n",
    "x = np.linspace(0, 4 * np.pi, N)\n",
    "y0 = np.sin(x)\n",
    "y1 = np.cos(x)\n",
    "\n",
    "# output to static HTML file\n",
    "output_file('linked_brushing.html')\n",
    "\n",
    "# NEW: create a column data source for the plots to share\n",
    "source = ColumnDataSource(data = dict(x = x, y0 = y0, y1 = y1))\n",
    "\n",
    "TOOLS = 'pan, wheel_zoom, box_zoom, reset, save, box_select, lasso_select'\n",
    "\n",
    "# create a new plot and add a renderer\n",
    "left = figure(tools = TOOLS, width = 350, height = 350, title = None)\n",
    "left.circle('x', 'y0', source = source)\n",
    "\n",
    "# create another new plot and add a renderer\n",
    "right = figure(tools = TOOLS, width = 350, height = 350, title = None)\n",
    "right.circle('x', 'y1', source = source)\n",
    "\n",
    "# put the subplots in a gridplot\n",
    "p = gridplot([[left, right]])\n",
    "\n",
    "# show the results\n",
    "show(p)"
   ]
  },
  {
   "cell_type": "markdown",
   "metadata": {
    "hidden": true
   },
   "source": [
    "Choose the box or lasso select tool, and click and drag to make a selection on one plot, which will update the selection on the other plot."
   ]
  },
  {
   "cell_type": "markdown",
   "metadata": {
    "heading_collapsed": true,
    "hidden": true
   },
   "source": [
    "## [Datetime axes](https://bokeh.pydata.org/en/latest/docs/user_guide/quickstart.html#datetime-axes)"
   ]
  },
  {
   "cell_type": "markdown",
   "metadata": {
    "hidden": true
   },
   "source": [
    "Dealing with date and time series is another common task. Bokeh has a sophisticated `DatetimeAxis` that can change the displayed ticks based on the current scale of the plot. There are some inputs for which Bokeh will automatically default to `DatetimeAxis`, but you can always explicitly ask for one by passing the value `'datetime'` to the `x_axis_type` or `y_axis_type` parameters to `figure()`. A few things of interest to look out for in this example:\n",
    "* setting the `width` and `height` arguments to `figure()`\n",
    "* customizing plots and other objects by assigning values to their attributes\n",
    "* accessing guides and annotations with convenience `Figure` attributes: `legend`, `grid`, `xgrid`, `ygrid`, `axis`, `xaxis`, `yaxis`"
   ]
  },
  {
   "cell_type": "code",
   "execution_count": 25,
   "metadata": {
    "hidden": true
   },
   "outputs": [],
   "source": [
    "import numpy as np\n",
    "\n",
    "from bokeh.plotting import figure, output_file, show\n",
    "from bokeh.sampledata.stocks import AAPL\n",
    "\n",
    "# prepare some data\n",
    "aapl = np.array(AAPL['adj_close'])\n",
    "aapl_dates = np.array(AAPL['date'], dtype = np.datetime64)\n",
    "\n",
    "window_size = 30\n",
    "window = np.ones(window_size)/float(window_size)\n",
    "aapl_avg = np.convolve(aapl, window, 'same')\n",
    "\n",
    "# output to static HTML file\n",
    "output_file('stocks.html', title = 'stocks.py example')\n",
    "\n",
    "# create a new plot with a datetime axis type\n",
    "p = figure(width = 800, height = 350, x_axis_type = 'datetime')\n",
    "\n",
    "# add renderers\n",
    "p.circle(aapl_dates, aapl, size = 4, color = 'darkgrey', alpha = 0.2, legend = 'close')\n",
    "p.line(aapl_dates, aapl_avg, color = 'navy', legend = 'avg')\n",
    "\n",
    "# NEW: customize by setting attributes\n",
    "p.title.text = 'AAPL One-Month Average'\n",
    "p.legend.location = 'top_left'\n",
    "p.grid.grid_line_alpha = 0\n",
    "p.xaxis.axis_label = 'Date'\n",
    "p.yaxis.axis_label = 'Price'\n",
    "p.ygrid.band_fill_color = 'olive'\n",
    "p.ygrid.band_fill_alpha = 0.1\n",
    "\n",
    "# show the results\n",
    "show(p)"
   ]
  },
  {
   "cell_type": "markdown",
   "metadata": {
    "heading_collapsed": true
   },
   "source": [
    "# [Bokeh Plot Server](https://bokeh.pydata.org/en/latest/docs/user_guide/quickstart.html#bokeh-plot-server)"
   ]
  },
  {
   "cell_type": "markdown",
   "metadata": {
    "hidden": true
   },
   "source": [
    "Bokeh also comes with an optional server component, the Bokeh Server. It's possible to create many interesting and interactive visualizations without using the Bokeh server, as we have seen above. However, the Bokeh server affords many novel and powerful capabilities, including:\n",
    "* UI widgets and plot selections driving computations and plot updates.\n",
    "* Intelligent server-side downsampling of large datasets.\n",
    "* Streaming data automatically updating plots.\n",
    "* Sophisticated glyph re-writing and transformations for \"Big Data\".\n",
    "* Plot and dashboard publishing for wider audiences.\n",
    "\n",
    "Details of Bokeh server usage require more space than a Quickstart allows, but you can see (and interact with) a simple Bokeh server app below:\n",
    "\n",
    "More examples of hosted Bokeh applications can be found in the [Server App Examples](https://bokeh.pydata.org/en/latest/docs/gallery.html#gallery-server-examples) section of the [Gallery](https://bokeh.pydata.org/en/latest/docs/gallery.html#gallery). For information about how to use the server and write Bokeh server plots and apps, consult the [Running a Bokeh Server](https://bokeh.pydata.org/en/latest/docs/user_guide/server.html#userguide-server) of the [User Guide](https://bokeh.pydata.org/en/latest/docs/user_guide.html#userguide)."
   ]
  },
  {
   "cell_type": "markdown",
   "metadata": {
    "heading_collapsed": true
   },
   "source": [
    "# [What's next?](https://bokeh.pydata.org/en/latest/docs/user_guide/quickstart.html#what-s-next)"
   ]
  },
  {
   "cell_type": "markdown",
   "metadata": {
    "hidden": true
   },
   "source": [
    "This Quickstart barely scratches the surface of Bokeh capability.\n",
    "\n",
    "For more information about the different APIs Bokeh offers, using the Bokeh server, and how to embed Bokeh plots in your own apps and documents, check out the [User Guide](https://bokeh.pydata.org/en/latest/docs/user_guide.html#userguide). For detailed information about all modules, classes, models, and objects, consult the [Reference Guide](https://bokeh.pydata.org/en/latest/docs/reference.html#refguide). If you are interested in learning how to build and develop Bokeh, or for information about how to create a new language binding, see the [Developer Guide](https://bokeh.pydata.org/en/latest/docs/dev_guide.html#devguide).\n",
    "\n",
    "To see ready-made examples of how you might use Bokeh with your own data, check out the [Gallery](https://bokeh.pydata.org/en/latest/docs/gallery.html#gallery). To see detailed examples and walkthroughs as well as find exercises for learning Bokeh by doing, work through the [Tutorials](https://bokeh.pydata.org/en/latest/docs/user_guide/tutorials.html#userguide-tutorials).\n",
    "\n",
    "For questions and technical assistance, come join the [Bokeh mailing list](https://groups.google.com/a/anaconda.com/forum/#!forum/bokeh).\n",
    "\n",
    "Visit the [Bokeh GitHub repository](https://github.com/bokeh/bokeh) and try the examples.\n",
    "\n",
    "Be sure to follow us on Twitter [@bokehplots](http://twitter.com/BokehPlots), as well as on [Vine](https://vine.co/bokehplots), and [Youtube](https://www.youtube.com/channel/UCK0rSk29mmg4UT4bIOvPYhw)!"
   ]
  }
 ],
 "metadata": {
  "anaconda-cloud": {},
  "kernelspec": {
   "display_name": "Python [default]",
   "language": "python",
   "name": "python3"
  },
  "language_info": {
   "codemirror_mode": {
    "name": "ipython",
    "version": 3
   },
   "file_extension": ".py",
   "mimetype": "text/x-python",
   "name": "python",
   "nbconvert_exporter": "python",
   "pygments_lexer": "ipython3",
   "version": "3.5.4"
  },
  "varInspector": {
   "cols": {
    "lenName": 16,
    "lenType": 16,
    "lenVar": 40
   },
   "kernels_config": {
    "python": {
     "delete_cmd_postfix": "",
     "delete_cmd_prefix": "del ",
     "library": "var_list.py",
     "varRefreshCmd": "print(var_dic_list())"
    },
    "r": {
     "delete_cmd_postfix": ") ",
     "delete_cmd_prefix": "rm(",
     "library": "var_list.r",
     "varRefreshCmd": "cat(var_dic_list()) "
    }
   },
   "types_to_exclude": [
    "module",
    "function",
    "builtin_function_or_method",
    "instance",
    "_Feature"
   ],
   "window_display": false
  }
 },
 "nbformat": 4,
 "nbformat_minor": 2
}

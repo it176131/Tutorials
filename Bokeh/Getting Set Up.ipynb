{
 "cells": [
  {
   "cell_type": "markdown",
   "metadata": {},
   "source": [
    "The first section will guide you through quick installation instructions, and provide some short \"test\" code you can run to verify that your Bokeh installation is working as expected."
   ]
  },
  {
   "cell_type": "markdown",
   "metadata": {
    "heading_collapsed": true
   },
   "source": [
    "# [Installing the Bokeh Library](https://bokeh.pydata.org/en/latest/docs/user_guide/setup.html#installing-the-bokeh-library)"
   ]
  },
  {
   "cell_type": "markdown",
   "metadata": {
    "hidden": true
   },
   "source": [
    "The easiest way to install Bokey and all of its necessary dependencies is to use a package manager such as `conda` or `pip`. If you are using [Anaconda](http://anaconda.com/anaconda), you can install `conda` by running the command:\n",
    "> `conda install bokeh`\n",
    "\n",
    "at your command prompt. Otherwise, to install with `pip`, run the command:\n",
    "> `pip install bokeh`\n",
    "\n",
    "For full details, consult the [installation](https://bokeh.pydata.org/en/latest/docs/installation.html#installation) section of the Bokeh documentation."
   ]
  },
  {
   "cell_type": "markdown",
   "metadata": {
    "heading_collapsed": true
   },
   "source": [
    "# [Verifying your installation](https://bokeh.pydata.org/en/latest/docs/user_guide/setup.html#verifying-your-installation)"
   ]
  },
  {
   "cell_type": "markdown",
   "metadata": {
    "hidden": true
   },
   "source": [
    "The first check you can make is to make sure you can `import bokeh` and verify `bokeh.__version__` from a running python interpreter. If you execute both of those lines in a python interpreter, the result should look something like this:\n",
    "<img src = 'https://bokeh.pydata.org/en/latest/_images/bokeh_import.png'>\n",
    "The next check you can make is to produce a very simple plot. Execute the following few lines of python cod, either by copying them into a script and executing the script, or by running the lines by hand in a python interpreter:"
   ]
  },
  {
   "cell_type": "code",
   "execution_count": 2,
   "metadata": {
    "hidden": true
   },
   "outputs": [],
   "source": [
    "from bokeh.plotting import figure, output_file, show\n",
    "output_file('test.html')\n",
    "p = figure()\n",
    "p.line([1, 2, 3, 4, 5], [6, 7, 2, 4, 5], line_width = 2)\n",
    "show(p)"
   ]
  },
  {
   "cell_type": "markdown",
   "metadata": {
    "hidden": true
   },
   "source": [
    "This should save a `test.html` file locally, and open a browser tab to view the file. The result should look like this:\n",
    "<img src = 'https://bokeh.pydata.org/en/latest/_images/bokeh_simple_test.png'>\n",
    "You can also test your Bokeh installation in an IPython/Jupyter notebook. Execute the lines of python code in the notebook, except with `output_notebook` instead of `output_file`. You should see results like:\n",
    "<img src = 'https://bokeh.pydata.org/en/latest/_images/bokeh_simple_test_notebook.png'>\n",
    "You can also test your Bokeh installation in an Zeppelin notebook. Execute the lines of python code in the notebook, except specifying `notebook_type` as `zeppelin` in method `output_notebook`. You should see results like:\n",
    "<img src = 'https://bokeh.pydata.org/en/latest/_images/bokeh_simple_test_zeppelin.png'>"
   ]
  },
  {
   "cell_type": "markdown",
   "metadata": {
    "heading_collapsed": true
   },
   "source": [
    "# [Finding Help](https://bokeh.pydata.org/en/latest/docs/user_guide/setup.html#finding-help)"
   ]
  },
  {
   "cell_type": "markdown",
   "metadata": {
    "hidden": true
   },
   "source": [
    "If you are having problems either with the installation or with running the basic example code above, please ask for assistance on the [Bokeh mailing list](https://groups.google.com/a/anaconda.com/forum/#!forum/bokeh) or submit an issue on the [Bokeh GitHub issue tracker](https://github.com/bokeh/bokeh/issues)."
   ]
  }
 ],
 "metadata": {
  "anaconda-cloud": {},
  "kernelspec": {
   "display_name": "Python [default]",
   "language": "python",
   "name": "python3"
  },
  "language_info": {
   "codemirror_mode": {
    "name": "ipython",
    "version": 3
   },
   "file_extension": ".py",
   "mimetype": "text/x-python",
   "name": "python",
   "nbconvert_exporter": "python",
   "pygments_lexer": "ipython3",
   "version": "3.5.4"
  },
  "varInspector": {
   "cols": {
    "lenName": 16,
    "lenType": 16,
    "lenVar": 40
   },
   "kernels_config": {
    "python": {
     "delete_cmd_postfix": "",
     "delete_cmd_prefix": "del ",
     "library": "var_list.py",
     "varRefreshCmd": "print(var_dic_list())"
    },
    "r": {
     "delete_cmd_postfix": ") ",
     "delete_cmd_prefix": "rm(",
     "library": "var_list.r",
     "varRefreshCmd": "cat(var_dic_list()) "
    }
   },
   "types_to_exclude": [
    "module",
    "function",
    "builtin_function_or_method",
    "instance",
    "_Feature"
   ],
   "window_display": false
  }
 },
 "nbformat": 4,
 "nbformat_minor": 2
}

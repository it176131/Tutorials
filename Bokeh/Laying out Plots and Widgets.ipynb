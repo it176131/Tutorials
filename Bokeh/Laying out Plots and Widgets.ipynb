{
 "cells": [
  {
   "cell_type": "markdown",
   "metadata": {},
   "source": [
    "Bokeh includes several layout options for arranging plots and widgets. They aim to make it quick to create your interactive data applications. At the heart of the layouts are three core objects Row, Column, and WidgetBox. While you can use these models directly, we recommend using the layout functions [`row()`](https://bokeh.pydata.org/en/latest/docs/reference/layouts.html#bokeh.layouts.row), [`column()`](https://bokeh.pydata.org/en/latest/docs/reference/layouts.html#bokeh.layouts.column), and [`widgetbox()`](https://bokeh.pydata.org/en/latest/docs/reference/layouts.html#bokeh.layouts.widgetbox).\n",
    "\n",
    "The layout functions let you build a grid of plots and widgets. You can nest as many rows, columns, and plots together as you'd like. In addition, Bokeh layouts support a number of \"sizing modes\". These sizing modes allow plots and widgets to resize based on the browser window.\n",
    "\n",
    "There are two things to keep in mind for best results using layout:\n",
    "* All items must have the same sizing mode.\n",
    "* Widgets should be inside a widget box.\n",
    "\n",
    "These guidelines are explained in more detail below:\n",
    "\n",
    "**Consistent sizing mode**\n",
    "> Every item in a layout must have the same sizing mode for the layout to behave as expected. It is for this reason that we recommend using the layout functions as they help ensure that all the children of the row or column have the same sizing mode. We hope to lift this restriction in future releases.\n",
    "\n",
    "**Widget boxes**\n",
    "> Widgets are HTML objects like buttons, and dropdown menus. They behave slightly differently to plots and putting them in a widgetbox is necessary so that they can all work together. In fact, if you try and put a `Widget` in `Row` or `Column` it will be automatically put into a `WidgetBox`. As a result, it's a good idea to wrap your own widgets in a \"WidgetBox\" using [`widgetbox()`](https://bokeh.pydata.org/en/latest/docs/reference/layouts.html#bokeh.layouts.widgetbox) as then yo can be sure about how your widgets are getting arranged."
   ]
  },
  {
   "cell_type": "markdown",
   "metadata": {
    "heading_collapsed": true
   },
   "source": [
    "# [Toolbars](https://bokeh.pydata.org/en/latest/docs/user_guide/layout.html#toolbars)"
   ]
  },
  {
   "cell_type": "markdown",
   "metadata": {
    "hidden": true
   },
   "source": [
    "FOr information about changing the position or orientation of plot toolbars, see [Positioning the Toolbar](https://bokeh.pydata.org/en/latest/docs/user_guide/tools.html#userguide-tools-toolbar) section in the [Configuring Plot Tools](https://bokeh.pydata.org/en/latest/docs/user_guide/tools.html#userguide-tools) chapter of the User's Guide."
   ]
  },
  {
   "cell_type": "markdown",
   "metadata": {
    "heading_collapsed": true
   },
   "source": [
    "# [Columns](https://bokeh.pydata.org/en/latest/docs/user_guide/layout.html#columns)"
   ]
  },
  {
   "cell_type": "markdown",
   "metadata": {
    "hidden": true
   },
   "source": [
    "To display plots or widgets in a vertical fashion, use the [`column()`](https://bokeh.pydata.org/en/latest/docs/reference/layouts.html#bokeh.layouts.column) function:"
   ]
  },
  {
   "cell_type": "code",
   "execution_count": 1,
   "metadata": {
    "hidden": true
   },
   "outputs": [],
   "source": [
    "from bokeh.io import output_file, show\n",
    "from bokeh.layouts import column\n",
    "from bokeh.plotting import figure\n",
    "\n",
    "output_file('layout.html')\n",
    "\n",
    "x = list(range(11))\n",
    "y0 = x\n",
    "y1 = [10 - i for i in x]\n",
    "y2 = [abs(i - 5) for i in x]\n",
    "\n",
    "# create a new plot\n",
    "s1 = figure(plot_width = 250, plot_height = 250, title = None)\n",
    "s1.circle(x, y0, size = 10, color = 'navy', alpha = 0.5)\n",
    "\n",
    "# create another one\n",
    "s2 = figure(plot_width = 250, plot_height = 250, title = None)\n",
    "s2.triangle(x, y1, size = 10, color = 'firebrick', alpha = 0.5)\n",
    "\n",
    "# and another\n",
    "s3 = figure(plot_width = 250, plot_height = 250, title = None)\n",
    "s3.square(x, y2, color = 'olive', alpha = 0.5)\n",
    "\n",
    "# put the results in a column and show\n",
    "show(column(s1, s2, s3))"
   ]
  },
  {
   "cell_type": "markdown",
   "metadata": {
    "heading_collapsed": true
   },
   "source": [
    "# [Rows](https://bokeh.pydata.org/en/latest/docs/user_guide/layout.html#rows)"
   ]
  },
  {
   "cell_type": "markdown",
   "metadata": {
    "hidden": true
   },
   "source": [
    "To display plots horizontally, use the [`row()`](https://bokeh.pydata.org/en/latest/docs/reference/layouts.html#bokeh.layouts.row) function."
   ]
  },
  {
   "cell_type": "code",
   "execution_count": 3,
   "metadata": {
    "hidden": true
   },
   "outputs": [],
   "source": [
    "from bokeh.io import output_file, show\n",
    "from bokeh.layouts import row\n",
    "from bokeh.plotting import figure\n",
    "\n",
    "output_file('layout.html')\n",
    "\n",
    "x = list(range(11))\n",
    "y0 = x\n",
    "y1 = [10 - i for i in x]\n",
    "y2 = [abs(i - 5) for i in x]\n",
    "\n",
    "# create a new plot\n",
    "s1 = figure(plot_width = 250, plot_height = 250, title = None)\n",
    "s1.circle(x, y0, size = 10, color = 'navy', alpha = 0.5)\n",
    "\n",
    "# create another one\n",
    "s2 = figure(plot_width = 250, plot_height = 250, title = None)\n",
    "s2.triangle(x, y1, size = 10, color = 'firebrick', alpha = 0.5)\n",
    "\n",
    "# and another\n",
    "s3 = figure(plot_width = 250, plot_height = 250, title = None)\n",
    "s3.square(x, y2, size = 10, color = 'olive', alpha = 0.5)\n",
    "\n",
    "# put the results in a row\n",
    "show(row(s1, s2, s3))"
   ]
  },
  {
   "cell_type": "markdown",
   "metadata": {
    "heading_collapsed": true
   },
   "source": [
    "# [Widgets](https://bokeh.pydata.org/en/latest/docs/user_guide/layout.html#widgets)"
   ]
  },
  {
   "cell_type": "markdown",
   "metadata": {
    "hidden": true
   },
   "source": [
    "Layout a group of widgets with the [`widgetbox()`](https://bokeh.pydata.org/en/latest/docs/reference/layouts.html#bokeh.layouts.widgetbox) function."
   ]
  },
  {
   "cell_type": "code",
   "execution_count": 5,
   "metadata": {
    "hidden": true
   },
   "outputs": [],
   "source": [
    "from bokeh.io import output_file, show\n",
    "from bokeh.layouts import widgetbox\n",
    "from bokeh.models.widgets import Button, RadioButtonGroup, Select, Slider\n",
    "\n",
    "output_file('layout_widgets.html')\n",
    "\n",
    "# create some widgets\n",
    "slider = Slider(start = 0, end = 10, value = 1, title = 'Slider')\n",
    "button_group = RadioButtonGroup(labels = ['Option 1', 'Option 2', 'Option 3'], active = 0)\n",
    "select = Select(title = 'Option:', value = 'foo', options = ['foo', 'bar', 'baz', 'quux'])\n",
    "button_1 = Button(label = 'Button 1')\n",
    "button_2 = Button(label = 'Button 2')\n",
    "\n",
    "# put the results in a row\n",
    "show(widgetbox(button_1, slider, button_group, select, button_2, width = 300))"
   ]
  },
  {
   "cell_type": "markdown",
   "metadata": {
    "heading_collapsed": true
   },
   "source": [
    "# [Grids Layout for Plots](https://bokeh.pydata.org/en/latest/docs/user_guide/layout.html#grids-layout-for-plots)"
   ]
  },
  {
   "cell_type": "markdown",
   "metadata": {
    "hidden": true
   },
   "source": [
    "The [`gridplot()`](https://bokeh.pydata.org/en/latest/docs/reference/layouts.html#bokeh.layouts.gridplot) function can be used to arrange Bokeh Plots in grid layout. [`gridplot()`](https://bokeh.pydata.org/en/latest/docs/reference/layouts.html#bokeh.layouts.gridplot) also collects all tools into a single toolbar, and the currently active tool is the same for all plots in the grid. It is possible to leave \"empty\" spaces in the grid by passing `None` instead of a plot object."
   ]
  },
  {
   "cell_type": "code",
   "execution_count": 3,
   "metadata": {
    "hidden": true
   },
   "outputs": [],
   "source": [
    "from bokeh.io import output_file, show\n",
    "from bokeh.layouts import gridplot\n",
    "from bokeh.palettes import Viridis3\n",
    "from bokeh.plotting import figure\n",
    "\n",
    "output_file('layout_grid.html')\n",
    "\n",
    "x = list(range(11))\n",
    "y0 = x\n",
    "y1 = [10 - i for i in x]\n",
    "y2 = [abs(i - 5) for i in x]\n",
    "\n",
    "# create three plots\n",
    "p1 = figure(plot_width = 250, plot_height = 250, title = None)\n",
    "p1.circle(x, y0, size = 10, color = Viridis3[0])\n",
    "p2 = figure(plot_width = 250, plot_height = 250, title = None)\n",
    "p2.triangle(x, y1, size = 10, color = Viridis3[1])\n",
    "p3 = figure(plot_width = 250, plot_height = 250, title = None)\n",
    "p3.square(x, y2, size = 10, color = Viridis3[2])\n",
    "\n",
    "# make a grid\n",
    "grid = gridplot([[p1, p2], [p3, None]])\n",
    "\n",
    "# show the results\n",
    "show(grid)"
   ]
  },
  {
   "cell_type": "markdown",
   "metadata": {
    "hidden": true
   },
   "source": [
    "For convenience you can also just pass a list of plots, and specify the number of columns you want in your grid. For example,\n",
    "> `gridplot([[s1, s2], [s3, None]])`\n",
    "\n",
    "and\n",
    "> `gridplot([s1, s2, s3], ncols = 2)`\n",
    "\n",
    "are equivalent. In addition, you can pass in `plot_width` and `plot_height` arguments, and this will set the size of all your plots. By default, `gridplot` will merge all tools within each child plot to a single toolbar attached to the grid. To disable this behavior, you can set the option `merge_tools` to `False`.\n",
    "\n",
    "**Note**\n",
    "\n",
    "You cannot use `None` with the `ncols` argument. It must only be a list of `Plot` objects at once."
   ]
  },
  {
   "cell_type": "code",
   "execution_count": 8,
   "metadata": {
    "hidden": true
   },
   "outputs": [],
   "source": [
    "from bokeh.io import output_file, show\n",
    "from bokeh.layouts import gridplot\n",
    "from bokeh.palettes import Viridis3\n",
    "from bokeh.plotting import figure\n",
    "\n",
    "output_file('layout_grid_convenient.html')\n",
    "\n",
    "x = list(range(11))\n",
    "y0 = x\n",
    "y1 = [10 - i for i in x]\n",
    "y2 = [abs(i - 5) for i in x]\n",
    "\n",
    "# create three plots\n",
    "s1 = figure()\n",
    "s1.circle(x, y0, size = 10, color = Viridis3[0])\n",
    "s2 = figure()\n",
    "s2.triangle(x, y1, size = 10, color = Viridis3[1])\n",
    "s3 = figure()\n",
    "s3.square(x, y2, size = 10, color = Viridis3[2])\n",
    "\n",
    "# make a grid\n",
    "grid = gridplot([s1, s2, s3], ncols = 2, plot_width = 250, plot_height = 250)\n",
    "\n",
    "# show the results\n",
    "show(grid)"
   ]
  },
  {
   "cell_type": "markdown",
   "metadata": {
    "heading_collapsed": true
   },
   "source": [
    "# [General Grid Layout](https://bokeh.pydata.org/en/latest/docs/user_guide/layout.html#general-grid-layout)"
   ]
  },
  {
   "cell_type": "markdown",
   "metadata": {
    "hidden": true
   },
   "source": [
    "The [`layout()`](https://bokeh.pydata.org/en/latest/docs/reference/layouts.html#bokeh.layouts.layout) function can be used to arrange both Plots and Widgets in a grid, generating the necessary [`row()`](https://bokeh.pydata.org/en/latest/docs/reference/layouts.html#bokeh.layouts.row) and [`column()`](https://bokeh.pydata.org/en/latest/docs/reference/layouts.html#bokeh.layouts.column) layouts automatically. This allows for quickly spelling a layout like this:\n",
    "> `l = layout([\n",
    "    [bollinger],\n",
    "    [sliders, plot],\n",
    "    [p1, p2, p3],\n",
    "], sizing_mode = 'stretch_both')`\n",
    "\n",
    "Which produces the following layout:\n",
    "<img src = 'https://bokeh.pydata.org/en/latest/_images/dashboard.png'>\n",
    "The full code for this plot is available at [examples/howto/layouts/dashboard.py](https://github.com/bokeh/bokeh/tree/0.12.13/examples/howto/layouts/dashboard.py) in the project GitHub repository."
   ]
  }
 ],
 "metadata": {
  "anaconda-cloud": {},
  "kernelspec": {
   "display_name": "Python [default]",
   "language": "python",
   "name": "python3"
  },
  "language_info": {
   "codemirror_mode": {
    "name": "ipython",
    "version": 3
   },
   "file_extension": ".py",
   "mimetype": "text/x-python",
   "name": "python",
   "nbconvert_exporter": "python",
   "pygments_lexer": "ipython3",
   "version": "3.5.4"
  },
  "varInspector": {
   "cols": {
    "lenName": 16,
    "lenType": 16,
    "lenVar": 40
   },
   "kernels_config": {
    "python": {
     "delete_cmd_postfix": "",
     "delete_cmd_prefix": "del ",
     "library": "var_list.py",
     "varRefreshCmd": "print(var_dic_list())"
    },
    "r": {
     "delete_cmd_postfix": ") ",
     "delete_cmd_prefix": "rm(",
     "library": "var_list.r",
     "varRefreshCmd": "cat(var_dic_list()) "
    }
   },
   "types_to_exclude": [
    "module",
    "function",
    "builtin_function_or_method",
    "instance",
    "_Feature"
   ],
   "window_display": false
  }
 },
 "nbformat": 4,
 "nbformat_minor": 2
}

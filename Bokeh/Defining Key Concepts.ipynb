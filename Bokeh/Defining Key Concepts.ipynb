{
 "cells": [
  {
   "cell_type": "markdown",
   "metadata": {
    "heading_collapsed": true
   },
   "source": [
    "# [Glossary](https://bokeh.pydata.org/en/latest/docs/user_guide/concepts.html#glossary)"
   ]
  },
  {
   "cell_type": "markdown",
   "metadata": {
    "hidden": true
   },
   "source": [
    "In order to make the best use of this User Guide, it is important to have context for some high level concepts and terms. Here is a small glossary of some of the most important concepts in Bokeh.\n",
    "___\n",
    "**Application**\n",
    "> A Bokeh application is a rendered Bokeh document, running in a browser.\n",
    "\n",
    "**BokehJS**\n",
    "> The JavaScript client library that actually renders the visuals and handles the UI interactions for Bokeh plots and widgets in the browser. Typically, users will not have to think about this aspect of Bokeh much *(\"We write the JavaScript, so you don't have to!\")* but it is good to have basic knowledge of this dichotomy. For full details, see the [BokehJS](https://bokeh.pydata.org/en/latest/docs/dev_guide/bokehjs.html#devguide-bokehjs) chapter of the [Developer Guide](https://bokeh.pydata.org/en/latest/docs/dev_guide.html#devguide)\n",
    "\n",
    "**Documents**\n",
    "> An organizing data structure for Bokeh applications. Documents contain all the Bokeh Models and data needed to render an interactive visualization or application in the browser.\n",
    "\n",
    "**Embedding**\n",
    "> Various methods of including Bokeh plots and widgets into web apps and pages, or the IPython notebook. See [Embedding Plots and Apps](https://bokeh.pydata.org/en/latest/docs/user_guide/embed.html#userguide-embed) for more details.\n",
    "\n",
    "**Glyphs**\n",
    "> The basic visual building blocks of Bokeh plots, e.g. lines, rectangles, squares, wedges, patches, etc. The `bokeh.plotting` interface provides a convenient way to create plots centered around glyphs. See [Plotting with Basic Glyphs](https://bokeh.pydata.org/en/latest/docs/user_guide/plotting.html#userguide-plotting) for more information.\n",
    "\n",
    "**Models**\n",
    "> The lowest-level objects that comprise Bokeh \"scenegraphs\". These live in the `bokeh.models` interface. *Most users will not use this level of interface to assemble plots directly*. However, ultimately all Bokeh plots consist of collections of models, so it is important to understand them enough to configure their attributes and properties. See [Styling Visual Attributes](https://bokeh.pydata.org/en/latest/docs/user_guide/styling.html#userguide-styling) for more information.\n",
    "\n",
    "**Server**\n",
    "> The Bokeh server is an optional component that can be used for sharing and publishing Bokeh plots and apps, for handling streaming of large data sets, or for enabling sophisticated user interactions based off of widgets and selections. See [Running a Bokeh Server](https://bokeh.pydata.org/en/latest/docs/user_guide/server.html#userguide-server) for more explanation.\n",
    "\n",
    "**Widgets**\n",
    "> User interface elements outside of a Bokeh plot such as sliders, drop down menus, buttons, etc. Events and updates from widgets can inform additional computations, or cause Bokeh plots to update. Widgets can be used in both standalone applications or with the Bokeh server. For examples and information, see [Adding Interactions](https://bokeh.pydata.org/en/latest/docs/user_guide/interaction.html#userguide-interaction)\n",
    "\n",
    "___"
   ]
  },
  {
   "cell_type": "markdown",
   "metadata": {
    "heading_collapsed": true
   },
   "source": [
    "# [Output Methods](https://bokeh.pydata.org/en/latest/docs/user_guide/concepts.html#output-methods)"
   ]
  },
  {
   "cell_type": "markdown",
   "metadata": {
    "hidden": true
   },
   "source": [
    "As we will see  demonstrated frequently throughout the User Guide, there are various ways to generate output for Bokeh documents. The most common for interactive usage are:\n",
    "\n",
    "**`output_file`**\n",
    "> For generating simple standalone HTML documents for Bokeh visualization.\n",
    "\n",
    "**`output_notebook`**\n",
    "> For displaying Bokeh visualizations inline in Jupyter/Zeppelin notebook cells.\n",
    "\n",
    "These functions are most often used together with the `show` or `save` functions. Scripts that output with these typically look something like:"
   ]
  },
  {
   "cell_type": "code",
   "execution_count": null,
   "metadata": {
    "hidden": true
   },
   "outputs": [],
   "source": [
    "from bokeh.plotting import figure, output_file, show\n",
    "\n",
    "output_file('output.html')\n",
    "\n",
    "p = figure()\n",
    "p.line(x = [1, 2, 3], y = [4, 6, 2])\n",
    "\n",
    "show(p)"
   ]
  },
  {
   "cell_type": "markdown",
   "metadata": {
    "hidden": true
   },
   "source": [
    "If this script is called `foo.py` then executing `python foo.py` will result in an HTML file `output.html` being generated with the line plot. These functions are often useful in interactive settings, or for creating standalone Bokeh documents to serve from (Flask, Django, etc.) web applications.\n",
    "\n",
    "However, Bokeh also comes with a powerful command line tool `bokeh` that can also be used to generate various kinds of output:\n",
    "\n",
    "**`bokeh html`**\n",
    "> Create standalone HTML documents from any kind of Bokeh application source: e.g., python scripts, app directories, JSON files, and others.\n",
    "\n",
    "**`bokeh json`**\n",
    "> Generate a serialized JSON representation of Bokeh document from any kind of Bokeh application source.\n",
    "\n",
    "**`bokeh serve`**\n",
    ">Publish Bokeh documents as interactive web applications.\n",
    "\n",
    "An advantage of using the `bokeh` command  is that the code you write does not have to specify any particular output method or format. You can write *just the visualization code* once, and decide later to output in different ways. The above example would be simplified to:"
   ]
  },
  {
   "cell_type": "code",
   "execution_count": null,
   "metadata": {
    "hidden": true
   },
   "outputs": [],
   "source": [
    "from bokeh.plotting import figure, curdoc\n",
    "\n",
    "p = figure()\n",
    "p.line(x = [1, 2, 3], y = [4, 6, 2])\n",
    "curdoc().add_root(p)"
   ]
  },
  {
   "cell_type": "markdown",
   "metadata": {
    "hidden": true
   },
   "source": [
    "Now, you can run `bokeh html foo.py` to generate a standalone HTML file, or `bokeh serve foo.py` to start serving this document as a web application. For more information on the command line tool see [Using bokeh Commands](https://bokeh.pydata.org/en/latest/docs/user_guide/cli.html#userguide-cli)."
   ]
  },
  {
   "cell_type": "markdown",
   "metadata": {
    "heading_collapsed": true
   },
   "source": [
    "# [Interfaces](https://bokeh.pydata.org/en/latest/docs/user_guide/concepts.html#interfaces)"
   ]
  },
  {
   "cell_type": "markdown",
   "metadata": {
    "hidden": true
   },
   "source": [
    "Bokeh is intended to provide a quick and simple interface to data scientists and domain experts who do not want to be distracted by the details of the software, and also provide a richly detailed interface to application developers and software engineers who may want more control or access to more sophisticated features. Because of this, Bokeh takes a layered approach and offers different programming interfaces appropriate to different levels of use. This section provides an overview of the various interfaces that are available to Bokeh users, as well as more context about the most important concepts central to the library. If you'd like to jump right into basic plotting, go to [Plotting with Basic Glyphs](https://bokeh.pydata.org/en/latest/docs/user_guide/plotting.html#userguide-plotting)"
   ]
  },
  {
   "cell_type": "markdown",
   "metadata": {
    "heading_collapsed": true,
    "hidden": true
   },
   "source": [
    "## [*bokeh.models*](https://bokeh.pydata.org/en/latest/docs/user_guide/concepts.html#bokeh-models)"
   ]
  },
  {
   "cell_type": "markdown",
   "metadata": {
    "hidden": true
   },
   "source": [
    "Bokeh is actually composed of two library components.\n",
    "\n",
    "The first component is a JavaScript library, BokehJS, that runs in the browser. This library is responsible for all of the rendering and user interaction. Its input is a collection of declarative JSON objects that comprise a \"scenegraph\". The objects in this scenegraph describe everything that BokehJS should handle: what plots and widgets are present and in what arrangement, what tools and renderers and axes the plots will have, etc. These JSON objects are converted into [Backbone](http://backbonejs.org/) Models in the browser, and are rendered by corresponding [Backbone](http://backbonejs.org/).\n",
    "\n",
    "The second component is a library in Python (or [other languages](https://bokeh.pydata.org/en/latest/docs/user_guide/quickstart.html#quickstart-other-languages) that can generate the JSON described above. In the Python Bokeh library, this is accomplished at the lowest level by exposing a set of \"model\" classes that exactly mirror the set of [Backbone](http://backbonejs.org/) Models that are created in the browser. These python model classes know how to validate their content and attributes, and also how to serialize themselves to JSON. ALl of these low level models live in the **low-level** [bokeh.models](https://bokeh.pydata.org/en/latest/docs/reference/models.html#bokeh-models) interface. Most of the models are very simple, usually consisting of a few property attributes and no methods. Model attributes can either be configured when the model is created, or later by setting attribute values on the model object. Here are some examples for a [`Rect`](https://bokeh.pydata.org/en/latest/docs/reference/models/glyphs/rect.html#bokeh.models.glyphs.Rect) glyph object:"
   ]
  },
  {
   "cell_type": "code",
   "execution_count": null,
   "metadata": {
    "hidden": true,
    "scrolled": true
   },
   "outputs": [],
   "source": [
    "from bokeh.models import Rect\n",
    "\n",
    "# properties can be configured when a model object is intialized\n",
    "glyph = Rect(x = 'x', y = 'y', w = 10, h = 20, line_color = None)\n",
    "\n",
    "# or by assigning values to attributes on the model later\n",
    "glyph.fill_alpha = 0.5\n",
    "glyph.fill_color = 'navy'"
   ]
  },
  {
   "cell_type": "markdown",
   "metadata": {
    "hidden": true
   },
   "source": [
    "These methods of configuration work in general for all Bokeh models. Because of that, and because all Bokeh interfaces ultimately produce collections of Bokeh models, styling and configuring plots and widgets is accomplished in basically the same way, regardless of which interface is used.\n",
    "\n",
    "Using the [bokeh.models](https://bokeh.pydata.org/en/latest/docs/reference/models.html#bokeh-models) interface provides complete control over how Bokeh plots and Bokeh widgets are put together and configured. However, it provides no help with assembling the models in meaningful or correct ways. It is entirely up to developers to build the scenegraph \"by hand\". For this reason, most users will probably want to use one of the higher level interfaces described below, unless they have specialized requirements that necessitate finer control. For more information about the details of all Bokeh modes, consult the [Reference Guide](https://bokeh.pydata.org/en/latest/docs/reference.html#refguide)."
   ]
  },
  {
   "cell_type": "markdown",
   "metadata": {
    "heading_collapsed": true,
    "hidden": true
   },
   "source": [
    "## [*bokeh.plotting*](https://bokeh.pydata.org/en/latest/docs/user_guide/concepts.html#bokeh-plotting)"
   ]
  },
  {
   "cell_type": "markdown",
   "metadata": {
    "hidden": true
   },
   "source": [
    "Boekh provides a **mid-level** general purpose [bokeh.plotting](https://bokeh.pydata.org/en/latest/docs/reference/plotting.html#bokeh-plotting) interface, which is similar in specificity to [Matplotlib](http://matplotlib.org/) or [Matlab](http://www.mathworks.com/products/matlab/) style plotting interfaces. It is centered around having users relate the visual glyphs they would like to have displayed to their data, and otherwise taking care of putting together plots with sensible default axes, grids, and tools. All the hard work to assemble the appropriate Boke Models to form a scenegraph that BokehJS can render is handled automatically.\n",
    "\n",
    "The main class in the [bokeh.plotting](https://bokeh.pydata.org/en/latest/docs/reference/plotting.html#bokeh-plotting) interface is the `Figure` class. This is a subclass of the basic [`Plot`](https://bokeh.pydata.org/en/latest/docs/reference/models/plots.html#bokeh.models.plots.Plot) model, that includes methods for easily adding different kinds of glyphs to a plot. Additionally it composes default axes, grids, and tools in the proper way without any extra effort. Typically, users will  want to create `Figure` objects by using the `figure()` function.\n",
    "\n",
    "A prototypical example of the [bokeh.plotting](https://bokeh.pydata.org/en/latest/docs/reference/plotting.html#bokeh-plotting) usage is show below, along with the resulting plot:"
   ]
  },
  {
   "cell_type": "code",
   "execution_count": 8,
   "metadata": {
    "hidden": true
   },
   "outputs": [],
   "source": [
    "from bokeh.plotting import figure, output_file, show\n",
    "\n",
    "# create a Figure object\n",
    "p = figure(plot_width = 300, plot_height = 300, tools = 'pan, reset, save')\n",
    "\n",
    "# add a Circle renderer to this figure\n",
    "p.circle([1, 2.5, 3, 2], [2, 3, 1, 1.5], radius = 0.3, alpha = 0.5)\n",
    "\n",
    "# specify how to output the plots\n",
    "output_file('foo.html')\n",
    "\n",
    "# display the figure\n",
    "show(p)"
   ]
  },
  {
   "cell_type": "markdown",
   "metadata": {
    "hidden": true
   },
   "source": [
    "The main observation is that the typical usage involves creating plot objects with the `figure()` function, then using the glyph methods like `Figure.circle` to add renderers for our data. We do not have to worry about configuring any axes or grids although we can configure them if we need to), and specifying tools is done simply with the names of tools to add. Finally we use some output functions to display our plot.\n",
    "\n",
    "There are many other possibilities: saving our plot instead of showing it, styling or removing the axes or grids, adding additional renderers, and laying out multiple plots together. The [Plotting with Basic Glyphs](https://bokeh.pydata.org/en/latest/docs/user_guide/plotting.html#userguide-plotting) section of this [User Guide](https://bokeh.pydata.org/en/latest/docs/user_guide.html#userguide) will walk through many more examples and common use cases of using the [bokeh.plotting](https://bokeh.pydata.org/en/latest/docs/reference/plotting.html#bokeh-plotting) interface."
   ]
  }
 ],
 "metadata": {
  "anaconda-cloud": {},
  "kernelspec": {
   "display_name": "Python [default]",
   "language": "python",
   "name": "python3"
  },
  "language_info": {
   "codemirror_mode": {
    "name": "ipython",
    "version": 3
   },
   "file_extension": ".py",
   "mimetype": "text/x-python",
   "name": "python",
   "nbconvert_exporter": "python",
   "pygments_lexer": "ipython3",
   "version": "3.5.4"
  },
  "varInspector": {
   "cols": {
    "lenName": 16,
    "lenType": 16,
    "lenVar": 40
   },
   "kernels_config": {
    "python": {
     "delete_cmd_postfix": "",
     "delete_cmd_prefix": "del ",
     "library": "var_list.py",
     "varRefreshCmd": "print(var_dic_list())"
    },
    "r": {
     "delete_cmd_postfix": ") ",
     "delete_cmd_prefix": "rm(",
     "library": "var_list.r",
     "varRefreshCmd": "cat(var_dic_list()) "
    }
   },
   "types_to_exclude": [
    "module",
    "function",
    "builtin_function_or_method",
    "instance",
    "_Feature"
   ],
   "window_display": false
  }
 },
 "nbformat": 4,
 "nbformat_minor": 2
}

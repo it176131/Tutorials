{
 "cells": [
  {
   "cell_type": "markdown",
   "metadata": {},
   "source": [
    "Bokeh has added native support for creating network graph visualizations with configurable interactions between edges and nodes."
   ]
  },
  {
   "cell_type": "markdown",
   "metadata": {
    "heading_collapsed": true
   },
   "source": [
    "# [Edge and Node Renderers](https://bokeh.pydata.org/en/latest/docs/user_guide/graph.html#edge-and-node-renderers)"
   ]
  },
  {
   "cell_type": "markdown",
   "metadata": {
    "hidden": true
   },
   "source": [
    "The key feature of the `GraphRenderer` is that it maintains separate sub-GlyphRenderers for the graph nodes and the graph edges. This allows for customizing the nodes by modifying the GraphRenderer's `node_renderer` property. It's possible to replace the default Circle node glyph with any XYGlyph instance, for example a Rect or Oval glyph. Similaryly, the style properties of the edges can be modified through the `edge_renderer` property. The edge glyph is currently limited to a MultiLine glyph.\n",
    "\n",
    "There are a couple requirements for the data sources belonging to these sub-renderers:\n",
    "* The ColumnDataSource associated with the node sub-renderer must have a column named `\"index\"` that contains the unique indices of the nodes.\n",
    "* The ColumnDataSource associated with the edge sub-renderer has two required columns: `\"start\"` and `\"end\"`. These columns contain the node indices for the `start` and `end` of the edges.\n",
    "\n",
    "It's possible to add extra meta-data to these data sources to in order to add vectorized glyph styling or make data available for callback or hover tooltips.\n",
    "\n",
    "Here's a code snippet that:\n",
    "* replaces the node glyph with an Oval\n",
    "* sets the `height` and `width` attributes of the Oval as scalar values\n",
    "* sets the `fill_color` attribute of the Oval as a vectorized field and adds the values to the node data source."
   ]
  },
  {
   "cell_type": "code",
   "execution_count": null,
   "metadata": {
    "hidden": true
   },
   "outputs": [],
   "source": [
    "import math\n",
    "from bokeh.plotting import figure\n",
    "from bokeh.models import GraphRenderer, Oval\n",
    "from bokeh.palettes import Spectral8\n",
    "\n",
    "N = 8\n",
    "node_indices = list(range(N))\n",
    "\n",
    "plot = figure(title = 'Graph Layout Demonstration', x_range = (-1.1, 1.1), y_range = (-1.1, 1.1),\n",
    "              tools = '', toolbar_location = None)\n",
    "\n",
    "graph = GraphRenderer()\n",
    "\n",
    "graph.node_renderer.glyph = Oval(height = 0.1, width = 0.2, fill_color = 'fill_color')\n",
    "graph.node_renderer.data_source.data = dict(index = node_indices, fill_color = Spectral8)\n",
    "\n",
    "graph.edge_renderer.data_source.data = dict(start = [0]*N, end = node_indices)"
   ]
  },
  {
   "cell_type": "markdown",
   "metadata": {
    "hidden": true
   },
   "source": [
    "No graph will be rendered by running the above code snippet because we haven't specified how to arrange the graph in 2D space. You can learn how to do that in the following section."
   ]
  },
  {
   "cell_type": "markdown",
   "metadata": {
    "heading_collapsed": true
   },
   "source": [
    "# [Layout Providers](https://bokeh.pydata.org/en/latest/docs/user_guide/graph.html#layout-providers)"
   ]
  },
  {
   "cell_type": "markdown",
   "metadata": {
    "hidden": true
   },
   "source": [
    "Bokeh uses a separate `LayoutProvider` model in order to supply the coordinates of a `graph` in Cartesian space. Currently the only built-in provider is the `StaticLayoutProvider` model, which contains a dictionary of (x, y) coordinates for the nodes.\n",
    "\n",
    "This example adds a provider to the above code snippet:"
   ]
  },
  {
   "cell_type": "code",
   "execution_count": 2,
   "metadata": {
    "hidden": true
   },
   "outputs": [
    {
     "name": "stderr",
     "output_type": "stream",
     "text": [
      "E-1001 (BAD_COLUMN_NAME): Glyph refers to nonexistent column name: fill_color [renderer: GlyphRenderer(id='f67a82e4-14de-484e-874c-20c953173f65', ...)]\n",
      "E-1001 (BAD_COLUMN_NAME): Glyph refers to nonexistent column name: fill_color [renderer: GlyphRenderer(id='b5cc45cb-15ec-461e-83be-6f3be4e9d9d2', ...)]\n"
     ]
    }
   ],
   "source": [
    "import math\n",
    "\n",
    "from bokeh.io import show, output_file\n",
    "from bokeh.plotting import figure\n",
    "from bokeh.models import GraphRenderer, StaticLayoutProvider, Oval\n",
    "from bokeh.palettes import Spectral8\n",
    "\n",
    "N = 8\n",
    "node_indices = list(range(N))\n",
    "\n",
    "plot = figure(title = 'Graph Layout Demonstration', x_range = (-1.1, 1.1), y_range = (-1.1, 1.1),\n",
    "              tools = '', toolbar_location = None)\n",
    "\n",
    "graph = GraphRenderer()\n",
    "\n",
    "graph.node_renderer.glyph = Oval(height = 0.1, width= 0.2, fill_color = 'fill_color')\n",
    "graph.node_renderer.data_source.data = dict(index = node_indices, fill_color = Spectral8)\n",
    "\n",
    "graph.edge_renderer.data_source.data = dict(start = [0]*N, end = node_indices)\n",
    "\n",
    "# start of layout code\n",
    "circ = [i*2*math.pi/8 for i in node_indices]\n",
    "x = [math.cos(i) for i in circ]\n",
    "y = [math.sin(i) for i in circ]\n",
    "\n",
    "graph_layout = dict(zip(node_indices, zip(x, y)))\n",
    "graph.layout_provider = StaticLayoutProvider(graph_layout = graph_layout)\n",
    "\n",
    "plot.renderers.append(graph)\n",
    "\n",
    "output_file('graph.html')\n",
    "show(plot)"
   ]
  },
  {
   "cell_type": "markdown",
   "metadata": {
    "heading_collapsed": true
   },
   "source": [
    "# [Explicit Paths](https://bokeh.pydata.org/en/latest/docs/user_guide/graph.html#explicit-paths)"
   ]
  },
  {
   "cell_type": "markdown",
   "metadata": {
    "hidden": true
   },
   "source": [
    "By default the `StaticLayoutProvider` will draw straight-line paths between the supplied node positions. In order to supply explicit edge paths you may also supply lists of paths to the `edge_renderer` and `bokeh.models.sources.ColumnDataSource`. The `StaticLayoutProvider` will look for these paths on the `\"xs\"` and `\"ys\"` columns of the data source. Note that these paths should be in the same order as the `\"start\"` and `\"end\"` points. Also note that there is no validation that they match up with the node positions so be extra careful when setting explicit paths.\n",
    "\n",
    "This example extends the example form above to draw quadratic bezier paths between the nodes:"
   ]
  },
  {
   "cell_type": "code",
   "execution_count": 4,
   "metadata": {
    "hidden": true
   },
   "outputs": [
    {
     "name": "stderr",
     "output_type": "stream",
     "text": [
      "E-1001 (BAD_COLUMN_NAME): Glyph refers to nonexistent column name: fill_color [renderer: GlyphRenderer(id='f67a82e4-14de-484e-874c-20c953173f65', ...)]\n",
      "E-1001 (BAD_COLUMN_NAME): Glyph refers to nonexistent column name: fill_color [renderer: GlyphRenderer(id='b5cc45cb-15ec-461e-83be-6f3be4e9d9d2', ...)]\n",
      "E-1001 (BAD_COLUMN_NAME): Glyph refers to nonexistent column name: fill_color [renderer: GlyphRenderer(id='df3ee912-e62f-4592-906e-6dd72772548f', ...)]\n"
     ]
    }
   ],
   "source": [
    "import math\n",
    "\n",
    "from bokeh.io import show, output_file\n",
    "from bokeh.plotting import figure\n",
    "from bokeh.models import GraphRenderer, StaticLayoutProvider, Oval\n",
    "from bokeh.palettes import Spectral8\n",
    "\n",
    "N = 8\n",
    "node_indices = list(range(N))\n",
    "\n",
    "plot = figure(title = 'Graph Layout Demonstration', x_range = (-1.1, 1.1), y_range = (-1.1, 1.1), tools = '', toolbar_location = None)\n",
    "\n",
    "graph = GraphRenderer()\n",
    "\n",
    "graph.node_renderer.data_source.data = dict(index = node_indices, fill_color = Spectral8)\n",
    "graph.node_renderer.glyph = Oval(height = 0.1, width = 0.2, fill_color = 'fill_color')\n",
    "\n",
    "graph.edge_renderer.data_source.data = dict(start = [0]*N, end = node_indices)\n",
    "\n",
    "# start of layout code\n",
    "circ = [i*2*math.pi/8 for i in node_indices]\n",
    "x = [math.cos(i) for i in circ]\n",
    "y = [math.sin(i) for i in circ]\n",
    "graph_layout = dict(zip(node_indices, zip(x, y)))\n",
    "graph.layout_provider = StaticLayoutProvider(graph_layout = graph_layout)\n",
    "\n",
    "# Draw quadratic bezier paths\n",
    "def bezier(start, end, control, steps):\n",
    "    return [(1 - s)**2*start + 2*(1- s)*s*control + s**2*end for s in steps]\n",
    "\n",
    "xs, ys = [], []\n",
    "sx, sy = graph_layout[0]\n",
    "steps = [i/100 for i in range(100)]\n",
    "for node_index in node_indices:\n",
    "    ex, ey = graph_layout[node_index]\n",
    "    xs.append(bezier(sx, ex, 0, steps))\n",
    "    ys.append(bezier(sy, ey, 0, steps))\n",
    "\n",
    "graph.edge_renderer.data_source.data['xs'] = xs\n",
    "graph.edge_renderer.data_source.data['ys'] = ys\n",
    "\n",
    "plot.renderers.append(graph)\n",
    "\n",
    "output_file('graph.html')\n",
    "show(plot)"
   ]
  },
  {
   "cell_type": "markdown",
   "metadata": {
    "heading_collapsed": true
   },
   "source": [
    "# [Networkx Integration](https://bokeh.pydata.org/en/latest/docs/user_guide/graph.html#networkx-integration)"
   ]
  },
  {
   "cell_type": "markdown",
   "metadata": {
    "hidden": true
   },
   "source": [
    "Bokeh supports quickly plotting a network graph with its networkx integration. The `bokeh.models.graph.from_networkx` convenience method accepts a `networkx.Graph` object and a networkx layout method in order to return a configured GraphRenderer instance.\n",
    "\n",
    "Here is an example of using the `networkx.spring_layout` method to layout networkx's built-in \"Zachary's Karate Club graph\" dataset:"
   ]
  },
  {
   "cell_type": "code",
   "execution_count": 6,
   "metadata": {
    "hidden": true
   },
   "outputs": [
    {
     "name": "stderr",
     "output_type": "stream",
     "text": [
      "E-1001 (BAD_COLUMN_NAME): Glyph refers to nonexistent column name: fill_color [renderer: GlyphRenderer(id='f67a82e4-14de-484e-874c-20c953173f65', ...)]\n",
      "E-1001 (BAD_COLUMN_NAME): Glyph refers to nonexistent column name: fill_color [renderer: GlyphRenderer(id='b5cc45cb-15ec-461e-83be-6f3be4e9d9d2', ...)]\n",
      "E-1001 (BAD_COLUMN_NAME): Glyph refers to nonexistent column name: fill_color [renderer: GlyphRenderer(id='df3ee912-e62f-4592-906e-6dd72772548f', ...)]\n"
     ]
    }
   ],
   "source": [
    "import networkx as nx\n",
    "\n",
    "from bokeh.io import show, output_file\n",
    "from bokeh.plotting import figure\n",
    "from bokeh.models.graphs import from_networkx\n",
    "\n",
    "G = nx.karate_club_graph()\n",
    "\n",
    "plot = figure(title = 'Networkx Integration Demonstration', x_range = (-1.1, 1.1), y_range = (-1.1, 1.1), tools = '', toolbar_location = None)\n",
    "\n",
    "graph = from_networkx(G, nx.spring_layout, scale = 2, center = (0,0))\n",
    "plot.renderers.append(graph)\n",
    "\n",
    "output_file('networkx_graph.html')\n",
    "show(plot)"
   ]
  },
  {
   "cell_type": "markdown",
   "metadata": {
    "heading_collapsed": true
   },
   "source": [
    "# [Interaction Policies](https://bokeh.pydata.org/en/latest/docs/user_guide/graph.html#interaction-policies)"
   ]
  },
  {
   "cell_type": "markdown",
   "metadata": {
    "hidden": true
   },
   "source": [
    "It's possible to configure the selection or inspection behavior of graphs by setting the GraphRenderer's `selection_policy` and `inspection_policy` attributes. These policy attributes accept a special `GraphHitTestPolicy` model instance.\n",
    "\n",
    "For example, setting `selection_policy = NodesAndLinkedEdges()` will cause a selected node to also select the associated edges. Similarly, setting `inspection_policy = EdgesAndLinkedNodes()` will cause the start and end nodes of an edge to also be inspected upon hovering an edge with the HoverTool.\n",
    "\n",
    "Users may want to customize the `selection_glyph`, `nonselection_glyph`, and/or `hover/glyph` attributes of the edge and node sub-renderers in order to add dynamic visual elements to their graph interactions.\n",
    "\n",
    "Here's a graph example with added node and edge interactions:"
   ]
  },
  {
   "cell_type": "code",
   "execution_count": 8,
   "metadata": {
    "hidden": true
   },
   "outputs": [
    {
     "name": "stderr",
     "output_type": "stream",
     "text": [
      "E-1001 (BAD_COLUMN_NAME): Glyph refers to nonexistent column name: fill_color [renderer: GlyphRenderer(id='f67a82e4-14de-484e-874c-20c953173f65', ...)]\n",
      "E-1001 (BAD_COLUMN_NAME): Glyph refers to nonexistent column name: fill_color [renderer: GlyphRenderer(id='b5cc45cb-15ec-461e-83be-6f3be4e9d9d2', ...)]\n",
      "E-1001 (BAD_COLUMN_NAME): Glyph refers to nonexistent column name: fill_color [renderer: GlyphRenderer(id='df3ee912-e62f-4592-906e-6dd72772548f', ...)]\n"
     ]
    }
   ],
   "source": [
    "import networkx as nx\n",
    "\n",
    "from bokeh.io import show, output_file\n",
    "from bokeh.models import Plot, Range1d, MultiLine, Circle, HoverTool, TapTool, BoxSelectTool\n",
    "from bokeh.models.graphs import from_networkx, NodesAndLinkedEdges, EdgesAndLinkedNodes\n",
    "from bokeh.palettes import Spectral4\n",
    "\n",
    "G = nx.karate_club_graph()\n",
    "\n",
    "plot = Plot(plot_width = 400, plot_height = 400,\n",
    "            x_range = Range1d(-1.1, 1.1), y_range = Range1d(-1.1, 1.1))\n",
    "plot.title.text = 'Graph Interaction Demonstration'\n",
    "\n",
    "plot.add_tools(HoverTool(tooltips = None), TapTool(), BoxSelectTool())\n",
    "\n",
    "graph_renderer = from_networkx(G, nx.circular_layout, scale = 1, center = (0,0))\n",
    "\n",
    "graph_renderer.node_renderer.glyph = Circle(size = 15, fill_color = Spectral4[0])\n",
    "graph_renderer.node_renderer.selection_glyph = Circle(size = 15, fill_color = Spectral4[2])\n",
    "graph_renderer.node_renderer.hover_glyph = Circle(size = 15, fill_color = Spectral4[1])\n",
    "\n",
    "graph_renderer.edge_renderer.glyph = MultiLine(line_color = '#CCCCCC', line_alpha = 0.8, line_width = 5)\n",
    "graph_renderer.edge_renderer.selection_glyph = MultiLine(line_color = Spectral4[2], line_width = 5)\n",
    "graph_renderer.edge_renderer.hover_glyph = MultiLine(line_color = Spectral4[1], line_width = 5)\n",
    "\n",
    "graph_renderer.selection_policy = NodesAndLinkedEdges()\n",
    "graph_renderer.inspection_policy = EdgesAndLinkedNodes()\n",
    "\n",
    "plot.renderers.append(graph_renderer)\n",
    "\n",
    "output_file('interactive_graphs.html')\n",
    "show(plot)"
   ]
  }
 ],
 "metadata": {
  "anaconda-cloud": {},
  "kernelspec": {
   "display_name": "Python [default]",
   "language": "python",
   "name": "python3"
  },
  "varInspector": {
   "cols": {
    "lenName": 16,
    "lenType": 16,
    "lenVar": 40
   },
   "kernels_config": {
    "python": {
     "delete_cmd_postfix": "",
     "delete_cmd_prefix": "del ",
     "library": "var_list.py",
     "varRefreshCmd": "print(var_dic_list())"
    },
    "r": {
     "delete_cmd_postfix": ") ",
     "delete_cmd_prefix": "rm(",
     "library": "var_list.r",
     "varRefreshCmd": "cat(var_dic_list()) "
    }
   },
   "types_to_exclude": [
    "module",
    "function",
    "builtin_function_or_method",
    "instance",
    "_Feature"
   ],
   "window_display": false
  }
 },
 "nbformat": 4,
 "nbformat_minor": 2
}

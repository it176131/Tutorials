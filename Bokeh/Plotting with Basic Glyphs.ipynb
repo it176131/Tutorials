{
 "cells": [
  {
   "cell_type": "markdown",
   "metadata": {
    "heading_collapsed": true
   },
   "source": [
    "# [Creating Figures](https://bokeh.pydata.org/en/latest/docs/user_guide/plotting.html#creating-figures)"
   ]
  },
  {
   "cell_type": "markdown",
   "metadata": {
    "hidden": true
   },
   "source": [
    "Note that Bokeh plots created using the [bokeh.plotting](https://bokeh.pydata.org/en/latest/docs/reference/plotting.html#bokeh-plotting) interface come with a default set of tools, and default visual styles. See [Styling Visual Attributes](https://bokeh.pydata.org/en/latest/docs/user_guide/styling.html#userguide-styling) for information about how to customize the visual style of plots, and [Configuring Plot Tools](https://bokeh.pydata.org/en/latest/docs/user_guide/tools.html#userguide-tools) for information about changing or specifying tools."
   ]
  },
  {
   "cell_type": "markdown",
   "metadata": {
    "heading_collapsed": true,
    "hidden": true
   },
   "source": [
    "## [Scatter Markers](https://bokeh.pydata.org/en/latest/docs/user_guide/plotting.html#scatter-markers)"
   ]
  },
  {
   "cell_type": "markdown",
   "metadata": {
    "hidden": true
   },
   "source": [
    "To scatter circle markers on a plot, use the [`circle()`](https://bokeh.pydata.org/en/latest/docs/reference/plotting.html#bokeh.plotting.figure.Figure.circle) method of [`Figure`](https://bokeh.pydata.org/en/latest/docs/reference/plotting.html#bokeh.plotting.figure.Figure):"
   ]
  },
  {
   "cell_type": "code",
   "execution_count": 1,
   "metadata": {
    "hidden": true
   },
   "outputs": [],
   "source": [
    "from bokeh.plotting import figure, output_file, show\n",
    "\n",
    "# output to static HTML file\n",
    "output_file('line.html')\n",
    "\n",
    "p = figure(plot_width = 400, plot_height = 400)\n",
    "\n",
    "# add a circle renderer with a size, color, and alpha\n",
    "p.circle([1, 2, 3, 4, 5], [6, 7, 2, 4, 5], size = 20, color = 'navy', alpha = 0.5)\n",
    "\n",
    "# show the results\n",
    "show(p)"
   ]
  },
  {
   "cell_type": "markdown",
   "metadata": {
    "hidden": true
   },
   "source": [
    "Similarly, to scatter square markers, use the [`square()`](https://bokeh.pydata.org/en/latest/docs/reference/plotting.html#bokeh.plotting.figure.Figure.square) method of [`Figure`](https://bokeh.pydata.org/en/latest/docs/reference/plotting.html#bokeh.plotting.figure.Figure):"
   ]
  },
  {
   "cell_type": "code",
   "execution_count": 2,
   "metadata": {
    "hidden": true
   },
   "outputs": [],
   "source": [
    "from bokeh.plotting import figure, output_file, show\n",
    "\n",
    "# output to static HTML file\n",
    "output_file('square.html')\n",
    "\n",
    "p = figure(plot_width = 400, plot_height = 400)\n",
    "\n",
    "# add a square renderer with a size, color, and alpha\n",
    "p.square([1, 2, 3, 4, 5], [6, 7, 2, 4, 5], size = 20, color = 'olive', alpha = 0.5)\n",
    "\n",
    "# show the results\n",
    "show(p)"
   ]
  },
  {
   "cell_type": "markdown",
   "metadata": {
    "hidden": true
   },
   "source": [
    "There are lots of marker types available in Bokeh, you can see details and example plots for all of them by clicking on entries in the list below:\n",
    "* [`asterisk()`](https://bokeh.pydata.org/en/latest/docs/reference/plotting.html#bokeh.plotting.figure.Figure.asterisk)\n",
    "* [`circle()`](https://bokeh.pydata.org/en/latest/docs/reference/plotting.html#bokeh.plotting.figure.Figure.circle)\n",
    "* [`circle_cross()`](https://bokeh.pydata.org/en/latest/docs/reference/plotting.html#bokeh.plotting.figure.Figure.circle_cross)\n",
    "* [`circle_x()`](https://bokeh.pydata.org/en/latest/docs/reference/plotting.html#bokeh.plotting.figure.Figure.circle_x)\n",
    "* [`cross()`](https://bokeh.pydata.org/en/latest/docs/reference/plotting.html#bokeh.plotting.figure.Figure.cross)\n",
    "* [`diamond()`](https://bokeh.pydata.org/en/latest/docs/reference/plotting.html#bokeh.plotting.figure.Figure.diamond)\n",
    "* [`diamond_cross()`](https://bokeh.pydata.org/en/latest/docs/reference/plotting.html#bokeh.plotting.figure.Figure.diamond_cross)\n",
    "* [`inverted_triangle()`](https://bokeh.pydata.org/en/latest/docs/reference/plotting.html#bokeh.plotting.figure.Figure.inverted_triangle)\n",
    "* [`square()`](https://bokeh.pydata.org/en/latest/docs/reference/plotting.html#bokeh.plotting.figure.Figure.square)\n",
    "* [`square_cross()`](https://bokeh.pydata.org/en/latest/docs/reference/plotting.html#bokeh.plotting.figure.Figure.square_cross)\n",
    "* [`square_x()`](https://bokeh.pydata.org/en/latest/docs/reference/plotting.html#bokeh.plotting.figure.Figure.square_x)\n",
    "* [`triangle()`](https://bokeh.pydata.org/en/latest/docs/reference/plotting.html#bokeh.plotting.figure.Figure.triangle)\n",
    "* [`x()`](https://bokeh.pydata.org/en/latest/docs/reference/plotting.html#bokeh.plotting.figure.Figure.x)\n",
    "\n",
    "All the markers have the same set of properties: `x`, `y`, `size` (in [screen units](https://bokeh.pydata.org/en/latest/docs/user_guide/styling.html#userguide-styling-units), and `angle` (radians by default). Additionally, [`circle()`](https://bokeh.pydata.org/en/latest/docs/reference/plotting.html#bokeh.plotting.figure.Figure.circle) has a `radius` property that can be used to specify [data-space units](https://bokeh.pydata.org/en/latest/docs/user_guide/styling.html#userguide-styling-units)."
   ]
  },
  {
   "cell_type": "markdown",
   "metadata": {
    "heading_collapsed": true,
    "hidden": true
   },
   "source": [
    "## [Line Glyphs](https://bokeh.pydata.org/en/latest/docs/user_guide/plotting.html#line-glyphs)"
   ]
  },
  {
   "cell_type": "markdown",
   "metadata": {
    "heading_collapsed": true,
    "hidden": true
   },
   "source": [
    "### [Single Lines](https://bokeh.pydata.org/en/latest/docs/user_guide/plotting.html#single-lines)"
   ]
  },
  {
   "cell_type": "markdown",
   "metadata": {
    "hidden": true
   },
   "source": [
    "Below is an example that shows how to generate a single line glyph from one dimensional sequences of *x* and *y* points using the [`line()`](https://bokeh.pydata.org/en/latest/docs/reference/plotting.html#bokeh.plotting.figure.Figure.line) glyph method:"
   ]
  },
  {
   "cell_type": "code",
   "execution_count": 3,
   "metadata": {
    "hidden": true
   },
   "outputs": [],
   "source": [
    "from bokeh.plotting import figure, output_file, show\n",
    "\n",
    "output_file('line.html')\n",
    "\n",
    "p = figure(plot_width = 400, plot_height = 400)\n",
    "\n",
    "# add a line renderer\n",
    "p.line([1, 2, 3, 4, 5], [6, 7, 2, 4, 5], line_width = 2)\n",
    "\n",
    "show(p)"
   ]
  },
  {
   "cell_type": "markdown",
   "metadata": {
    "heading_collapsed": true,
    "hidden": true
   },
   "source": [
    "### [Step Lines](https://bokeh.pydata.org/en/latest/docs/user_guide/plotting.html#step-lines)"
   ]
  },
  {
   "cell_type": "markdown",
   "metadata": {
    "hidden": true
   },
   "source": [
    "For some kinds of data, it may be more appropriate to draw discrete steps between data points, instead of connecting points with linear segments. The [`step()`](https://bokeh.pydata.org/en/latest/docs/reference/plotting.html#bokeh.plotting.figure.Figure.step) glyph method can be used to accomplish this:"
   ]
  },
  {
   "cell_type": "code",
   "execution_count": 4,
   "metadata": {
    "hidden": true
   },
   "outputs": [],
   "source": [
    "from bokeh.plotting import figure, output_file, show\n",
    "\n",
    "output_file('line.html')\n",
    "\n",
    "p = figure(plot_width = 400, plot_height = 400)\n",
    "\n",
    "# add a steps renderer\n",
    "p.step([1, 2, 3, 4, 5], [6, 7, 2, 4, 5], line_width = 2, mode = 'center')\n",
    "\n",
    "show(p)"
   ]
  },
  {
   "cell_type": "markdown",
   "metadata": {
    "hidden": true
   },
   "source": [
    "Step levels can be drawn before, after, or centered on the x-coordinates, as configured by the `mode` paramter."
   ]
  },
  {
   "cell_type": "markdown",
   "metadata": {
    "heading_collapsed": true,
    "hidden": true
   },
   "source": [
    "### [Multiple Lines](https://bokeh.pydata.org/en/latest/docs/user_guide/plotting.html#multiple-lines)"
   ]
  },
  {
   "cell_type": "markdown",
   "metadata": {
    "hidden": true
   },
   "source": [
    "Sometimes it is useful to plot multiple lines all at once. This can be accomplished with the [`multi_line()`](https://bokeh.pydata.org/en/latest/docs/reference/plotting.html#bokeh.plotting.figure.Figure.multi_line) glyph method:"
   ]
  },
  {
   "cell_type": "code",
   "execution_count": 5,
   "metadata": {
    "hidden": true
   },
   "outputs": [],
   "source": [
    "from bokeh.plotting import figure, output_file, show\n",
    "\n",
    "output_file('patch.html')\n",
    "\n",
    "p = figure(plot_width = 400, plot_height = 400)\n",
    "\n",
    "p.multi_line([[1, 3, 2], [3, 4, 6, 6]], [[2, 1, 4], [4, 7, 8, 5]],\n",
    "             color = ['firebrick', 'navy'], alpha = [0.8, 0.3], line_width = 4)\n",
    "\n",
    "show(p)"
   ]
  },
  {
   "cell_type": "markdown",
   "metadata": {
    "hidden": true
   },
   "source": [
    "**Note**\n",
    "\n",
    "This glyph is unlike most other glyps. Instead of accepting a one dimensional list or array of scalar values, it accepts a \"list of lists\" for x and y positions of each line, parameters xs and ys. multi_line also expects a scalar value or a list of scalers per each line for parameters such as color, alpha, linewidth, etc. Similarly, a ColumnDataSource may be used consisting of a \"list of lists\" and a list of scalars where the lenght of the list of scalars and length of lists must match."
   ]
  },
  {
   "cell_type": "markdown",
   "metadata": {
    "heading_collapsed": true,
    "hidden": true
   },
   "source": [
    "### [Missing Points](https://bokeh.pydata.org/en/latest/docs/user_guide/plotting.html#missing-points)"
   ]
  },
  {
   "cell_type": "markdown",
   "metadata": {
    "hidden": true
   },
   "source": [
    "`NaN` values can be passed to [`line()`](https://bokeh.pydata.org/en/latest/docs/reference/plotting.html#bokeh.plotting.figure.Figure.line) and [`multi_line()`](https://bokeh.pydata.org/en/latest/docs/reference/plotting.html#bokeh.plotting.figure.Figure.multi_line) glyphs. In this case, you end up with single logical line objects, that have multiple disjoint components when rendered:"
   ]
  },
  {
   "cell_type": "code",
   "execution_count": 6,
   "metadata": {
    "hidden": true
   },
   "outputs": [],
   "source": [
    "from bokeh.plotting import figure, output_file, show\n",
    "\n",
    "output_file('line.html')\n",
    "\n",
    "p = figure(plot_width = 400, plot_height = 400)\n",
    "\n",
    "# add a line renderer with a NaN\n",
    "nan = float('nan')\n",
    "p.line([1, 2, 3, nan, 4, 5], [6, 7, 2, 4, 4, 5], line_width = 2)\n",
    "\n",
    "show(p)"
   ]
  },
  {
   "cell_type": "markdown",
   "metadata": {
    "heading_collapsed": true,
    "hidden": true
   },
   "source": [
    "## [Bars and Rectangles](https://bokeh.pydata.org/en/latest/docs/user_guide/plotting.html#bars-and-rectangles)"
   ]
  },
  {
   "cell_type": "markdown",
   "metadata": {
    "heading_collapsed": true,
    "hidden": true
   },
   "source": [
    "### [Rectangles](https://bokeh.pydata.org/en/latest/docs/user_guide/plotting.html#rectangles)"
   ]
  },
  {
   "cell_type": "markdown",
   "metadata": {
    "hidden": true
   },
   "source": [
    "To draw *axis aligned* rectangles (\"quads\") by specifying the `left`, `right`, `top`, and `bottom` positions, use the [`quad()`](https://bokeh.pydata.org/en/latest/docs/reference/plotting.html#bokeh.plotting.figure.Figure.quad) glyph function:"
   ]
  },
  {
   "cell_type": "code",
   "execution_count": 7,
   "metadata": {
    "hidden": true
   },
   "outputs": [],
   "source": [
    "from bokeh.plotting import figure, show, output_file\n",
    "\n",
    "output_file('rectangles.html')\n",
    "\n",
    "p = figure(plot_width = 400, plot_height = 400)\n",
    "p.quad(top = [2, 3, 4], bottom = [1, 2, 3], left = [1, 2, 3],\n",
    "       right = [1.2, 2.5, 3.7], color = '#B3DE69')\n",
    "\n",
    "show(p)"
   ]
  },
  {
   "cell_type": "markdown",
   "metadata": {
    "hidden": true
   },
   "source": [
    "To draw arbitrary rectangles by specifying a center point, width, height, and angle, use the [`rect()`](https://bokeh.pydata.org/en/latest/docs/reference/plotting.html#bokeh.plotting.figure.Figure.rect) glyph function:"
   ]
  },
  {
   "cell_type": "code",
   "execution_count": 8,
   "metadata": {
    "hidden": true
   },
   "outputs": [],
   "source": [
    "from math import pi\n",
    "from bokeh.plotting import figure, show, output_file\n",
    "\n",
    "output_file('rectangles_rotated.html')\n",
    "\n",
    "p = figure(plot_width = 400, plot_height = 400)\n",
    "p.rect(x = [1, 2, 3], y = [1, 2, 3], width = 0.2, height = 40, color = '#CAB2D6',\n",
    "       angle = pi/3, height_units = 'screen')\n",
    "\n",
    "show(p)"
   ]
  },
  {
   "cell_type": "markdown",
   "metadata": {
    "heading_collapsed": true,
    "hidden": true
   },
   "source": [
    "### [Bars](https://bokeh.pydata.org/en/latest/docs/user_guide/plotting.html#bars)"
   ]
  },
  {
   "cell_type": "markdown",
   "metadata": {
    "hidden": true
   },
   "source": [
    "When drawing rectangular bars (often representing intervals) it is often more convenient to have coordinates that are a hybrid of the two systems above. Bokeh provides the [`hbar()`](https://bokeh.pydata.org/en/latest/docs/reference/plotting.html#bokeh.plotting.figure.Figure.hbar) and [`vbar()`](https://bokeh.pydata.org/en/latest/docs/reference/plotting.html#bokeh.plotting.figure.Figure.vbar) glyphs function for this purpose.\n",
    "\n",
    "To draw vertical bars by specifying a (center) x-coordinate, width, and top and bottom endpoints, use the [`vbar()`](https://bokeh.pydata.org/en/latest/docs/reference/plotting.html#bokeh.plotting.figure.Figure.vbar) glyph function:"
   ]
  },
  {
   "cell_type": "code",
   "execution_count": 9,
   "metadata": {
    "hidden": true
   },
   "outputs": [],
   "source": [
    "from bokeh.plotting import figure, show, output_file\n",
    "\n",
    "output_file('vbar.html')\n",
    "\n",
    "p = figure(plot_width = 400, plot_height = 400)\n",
    "p.vbar(x = [1, 2, 3], width = 0.5, bottom = 0,\n",
    "       top = [1.2, 2.5, 3.7], color = 'firebrick')\n",
    "\n",
    "show(p)"
   ]
  },
  {
   "cell_type": "markdown",
   "metadata": {
    "hidden": true
   },
   "source": [
    "To draw horizontal bars by specifying a (center) y-coordinate, height, and left and right endpoints, use the [`hbar()`](https://bokeh.pydata.org/en/latest/docs/reference/plotting.html#bokeh.plotting.figure.Figure.hbar) glyph function:"
   ]
  },
  {
   "cell_type": "code",
   "execution_count": 10,
   "metadata": {
    "hidden": true
   },
   "outputs": [],
   "source": [
    "from bokeh.plotting import figure, show, output_file\n",
    "\n",
    "output_file('hbar.html')\n",
    "\n",
    "p = figure(plot_width = 400,  plot_height = 400)\n",
    "p.hbar(y = [1, 2, 3], height = 0.5, left = 0,\n",
    "       right = [1.2, 2.5, 3.7], color = 'navy')\n",
    "\n",
    "show(p)"
   ]
  },
  {
   "cell_type": "markdown",
   "metadata": {
    "heading_collapsed": true,
    "hidden": true
   },
   "source": [
    "## [Patch Glyphs](https://bokeh.pydata.org/en/latest/docs/user_guide/plotting.html#patch-glyphs)"
   ]
  },
  {
   "cell_type": "markdown",
   "metadata": {
    "heading_collapsed": true,
    "hidden": true
   },
   "source": [
    "### [Single Patches](https://bokeh.pydata.org/en/latest/docs/user_guide/plotting.html#single-patches)"
   ]
  },
  {
   "cell_type": "markdown",
   "metadata": {
    "hidden": true
   },
   "source": [
    "Below is an example that shows how to generate a single polygonal patch glyph from one dimensional sequences of *x* and *y* points using the [`patch()`](https://bokeh.pydata.org/en/latest/docs/reference/plotting.html#bokeh.plotting.figure.Figure.patch) glyph method:"
   ]
  },
  {
   "cell_type": "code",
   "execution_count": 11,
   "metadata": {
    "hidden": true
   },
   "outputs": [],
   "source": [
    "from bokeh.plotting import figure, output_file, show\n",
    "\n",
    "output_file('patch.html')\n",
    "\n",
    "p = figure(plot_width = 400, plot_height = 400)\n",
    "\n",
    "# add a patch renderer with an alpha and line width\n",
    "p.patch([1, 2, 3, 4, 5], [6, 7, 8, 7, 3], alpha = 0.5, line_width = 2)\n",
    "\n",
    "show(p)"
   ]
  },
  {
   "cell_type": "markdown",
   "metadata": {
    "heading_collapsed": true,
    "hidden": true
   },
   "source": [
    "### [Multiple Patches](https://bokeh.pydata.org/en/latest/docs/user_guide/plotting.html#multiple-patches)"
   ]
  },
  {
   "cell_type": "markdown",
   "metadata": {
    "hidden": true
   },
   "source": [
    "Sometime it is useful to plot multiple polygonal patches all at once. This can be accomplished with the [`patches()`](https://bokeh.pydata.org/en/latest/docs/reference/plotting.html#bokeh.plotting.figure.Figure.patches) glyph method:"
   ]
  },
  {
   "cell_type": "code",
   "execution_count": 12,
   "metadata": {
    "hidden": true
   },
   "outputs": [],
   "source": [
    "from bokeh.plotting import figure, output_file, show\n",
    "\n",
    "output_file('patch.html')\n",
    "\n",
    "p = figure(plot_width = 400, plot_height = 400)\n",
    "\n",
    "p.patches([[1, 3, 2], [3, 4, 6, 6]], [[2, 1, 4], [4, 7, 8, 5]],\n",
    "          color = ['firebrick', 'navy'], alpha = [0.8, 0.3], line_width = 2)\n",
    "\n",
    "show(p)"
   ]
  },
  {
   "cell_type": "markdown",
   "metadata": {
    "hidden": true
   },
   "source": [
    "**Note**\n",
    "\n",
    "This glyph is unlike most other glyphs. Instead of accepting a one dimensional list or array of scalar values, it accepts a \"list of lists\" for x and y positions of each patch, parameters xs and ys. patches also expects a scalar value or a list of scalers per each patch for parameters such as color, alpha, linewidth, etc. Similarly, a ColumnDataSource may be used consisting of a \"list of lists\" and a list of scalars where the lenght of the list of scalars and length of lists must match."
   ]
  },
  {
   "cell_type": "markdown",
   "metadata": {
    "heading_collapsed": true,
    "hidden": true
   },
   "source": [
    "### [Missing Points](https://bokeh.pydata.org/en/latest/docs/user_guide/plotting.html#id1)"
   ]
  },
  {
   "cell_type": "markdown",
   "metadata": {
    "hidden": true
   },
   "source": [
    "Just as with [`line()`](https://bokeh.pydata.org/en/latest/docs/reference/plotting.html#bokeh.plotting.figure.Figure.line) and [`multi_line()`](https://bokeh.pydata.org/en/latest/docs/reference/plotting.html#bokeh.plotting.figure.Figure.multi_line), `NaN` values can be passed to [`patch()`](https://bokeh.pydata.org/en/latest/docs/reference/plotting.html#bokeh.plotting.figure.Figure.patch) and [`patches()`](https://bokeh.pydata.org/en/latest/docs/reference/plotting.html#bokeh.plotting.figure.Figure.patches) glyphs. In this case, you end up with single logical patch objects, that have multiple disjoint components when rendered:"
   ]
  },
  {
   "cell_type": "code",
   "execution_count": 13,
   "metadata": {
    "hidden": true
   },
   "outputs": [],
   "source": [
    "from bokeh.plotting import figure, output_file, show\n",
    "\n",
    "output_file('patch.html')\n",
    "\n",
    "p = figure(plot_width = 400, plot_height = 400)\n",
    "\n",
    "# add a patch renderer with a NaN value\n",
    "nan = float('nan')\n",
    "p.patch([1, 2, 3, nan, 4, 5, 6], [6, 7, 5, nan, 7, 3, 6], alpha = 0.5, line_width = 2)\n",
    "\n",
    "show(p)"
   ]
  },
  {
   "cell_type": "markdown",
   "metadata": {
    "hidden": true
   },
   "source": [
    "**Warning**\n",
    "\n",
    "Hit testing on patch objects with `NaN` values is not currently supported."
   ]
  },
  {
   "cell_type": "markdown",
   "metadata": {
    "heading_collapsed": true,
    "hidden": true
   },
   "source": [
    "## [Ovals and Ellipses](https://bokeh.pydata.org/en/latest/docs/user_guide/plotting.html#ovals-and-ellipses)"
   ]
  },
  {
   "cell_type": "markdown",
   "metadata": {
    "hidden": true
   },
   "source": [
    "The [`oval()`](https://bokeh.pydata.org/en/latest/docs/reference/plotting.html#bokeh.plotting.figure.Figure.oval) glyph method accepts the same properties as [`rect()`](https://bokeh.pydata.org/en/latest/docs/reference/plotting.html#bokeh.plotting.figure.Figure.rect), but renders oval shapes:"
   ]
  },
  {
   "cell_type": "code",
   "execution_count": 14,
   "metadata": {
    "hidden": true
   },
   "outputs": [],
   "source": [
    "from math import pi\n",
    "from bokeh.plotting import figure, show, output_file\n",
    "\n",
    "output_file('ovals.html')\n",
    "\n",
    "p = figure(plot_width = 400, plot_height = 400)\n",
    "p.oval(x = [1, 2, 3], y = [1, 2, 3], width = 0.2, height = 40, color = '#CAB2D6',\n",
    "       angle = pi/3, height_units = 'screen')\n",
    "\n",
    "show(p)"
   ]
  },
  {
   "cell_type": "markdown",
   "metadata": {
    "hidden": true
   },
   "source": [
    "The [`ellipse()`](https://bokeh.pydata.org/en/latest/docs/reference/plotting.html#bokeh.plotting.figure.Figure.ellipse) glyph accepts the same properties as [`oval()`](https://bokeh.pydata.org/en/latest/docs/reference/plotting.html#bokeh.plotting.figure.Figure.oval) and [`rect()`](https://bokeh.pydata.org/en/latest/docs/reference/plotting.html#bokeh.plotting.figure.Figure.rect) but renders ellipse shapes, which are different from oval ones. In particular, the same value for width and height will render a circle using the [`ellipse()`](https://bokeh.pydata.org/en/latest/docs/reference/plotting.html#bokeh.plotting.figure.Figure.ellipse) glyph but not the [`oval()`](https://bokeh.pydata.org/en/latest/docs/reference/plotting.html#bokeh.plotting.figure.Figure.oval) one:"
   ]
  },
  {
   "cell_type": "code",
   "execution_count": 15,
   "metadata": {
    "hidden": true
   },
   "outputs": [],
   "source": [
    "from math import pi\n",
    "from bokeh.plotting import figure, show, output_file\n",
    "\n",
    "output_file('ellipses.html')\n",
    "\n",
    "p = figure(plot_width = 400, plot_height = 400)\n",
    "p.ellipse(x = [1, 2, 3], y = [1, 2, 3], width = [0.2, 0.3, 0.1], height = 0.3,\n",
    "          angle = pi/3, color = '#CAB2D6')\n",
    "\n",
    "show(p)"
   ]
  },
  {
   "cell_type": "markdown",
   "metadata": {
    "heading_collapsed": true,
    "hidden": true
   },
   "source": [
    "## [Images](https://bokeh.pydata.org/en/latest/docs/user_guide/plotting.html#images)"
   ]
  },
  {
   "cell_type": "markdown",
   "metadata": {
    "hidden": true
   },
   "source": [
    "You can display images on Bokeh plots using the [`image()`](https://bokeh.pydata.org/en/latest/docs/reference/plotting.html#bokeh.plotting.figure.Figure.image), [`image_rgba()`](https://bokeh.pydata.org/en/latest/docs/reference/plotting.html#bokeh.plotting.figure.Figure.image_rgba), and [`image_url()`](https://bokeh.pydata.org/en/latest/docs/reference/plotting.html#bokeh.plotting.figure.Figure.image_url) glyph methods.\n",
    "\n",
    "The first example here shows how to display images in Bokeh plots from raw RGBA data using [`image_rgba()`](https://bokeh.pydata.org/en/latest/docs/reference/plotting.html#bokeh.plotting.figure.Figure.image_rgba):\n",
    "\n",
    "**Note**\n",
    "\n",
    "This example depends on the open source NumPy library in order to more easily generate an array of RGBA data."
   ]
  },
  {
   "cell_type": "code",
   "execution_count": 16,
   "metadata": {
    "hidden": true
   },
   "outputs": [],
   "source": [
    "from __future__ import division\n",
    "\n",
    "import numpy as np\n",
    "\n",
    "from bokeh.plotting import figure, output_file, show\n",
    "\n",
    "# create an array of RGBA data\n",
    "N = 20\n",
    "img = np.empty((N, N), dtype = np.uint32)\n",
    "view = img.view(dtype = np.uint8).reshape((N, N, 4))\n",
    "for i in range(N):\n",
    "    for j in range(N):\n",
    "        view[i, j, 0] = int(255 * i / N)\n",
    "        view[i, j, 1] = 158\n",
    "        view[i, j, 2] = int(255 * j / N)\n",
    "        view[i, j, 3] = 255\n",
    "\n",
    "output_file('image_rgba.html')\n",
    "\n",
    "p = figure(plot_width = 400, plot_height = 400, x_range = (0, 10), y_range = (0, 10))\n",
    "\n",
    "p.image_rgba(image = [img], x = [0], y = [0], dw = [10], dh = [10])\n",
    "\n",
    "show(p)"
   ]
  },
  {
   "cell_type": "markdown",
   "metadata": {
    "heading_collapsed": true,
    "hidden": true
   },
   "source": [
    "## [Segments and Rays](https://bokeh.pydata.org/en/latest/docs/user_guide/plotting.html#segments-and-rays)"
   ]
  },
  {
   "cell_type": "markdown",
   "metadata": {
    "hidden": true
   },
   "source": [
    "Sometimes it is useful to be able to draw many individual line segments at once. Bokeh provides the [`segment()`](https://bokeh.pydata.org/en/latest/docs/reference/plotting.html#bokeh.plotting.figure.Figure.segment) and [`ray()`](https://bokeh.pydata.org/en/latest/docs/reference/plotting.html#bokeh.plotting.figure.Figure.ray) glyph methods to render these.\n",
    "\n",
    "The [`segment()`](https://bokeh.pydata.org/en/latest/docs/reference/plotting.html#bokeh.plotting.figure.Figure.segment) function accepts start points `x0`, `y0` and end points `x1`, `y1` and renders segments between these:"
   ]
  },
  {
   "cell_type": "code",
   "execution_count": 17,
   "metadata": {
    "hidden": true
   },
   "outputs": [],
   "source": [
    "from bokeh.plotting import figure, show\n",
    "\n",
    "p = figure(plot_width = 400, plot_height = 400)\n",
    "p.segment(x0 = [1, 2, 3], y0 = [1, 2, 3], x1 = [1.2, 2.4, 3.1],\n",
    "          y1 = [1.2, 2.5, 3.7], color = '#F4A582', line_width = 3)\n",
    "\n",
    "show(p)"
   ]
  },
  {
   "cell_type": "markdown",
   "metadata": {
    "hidden": true
   },
   "source": [
    "The [`ray()`](https://bokeh.pydata.org/en/latest/docs/reference/plotting.html#bokeh.plotting.figure.Figure.ray) function accepts start points `x`, `y` with a length (in [screen units](https://bokeh.pydata.org/en/latest/docs/user_guide/styling.html#userguide-styling-units) and an `angle`. The default `angle_units` are `\"rad\"` but can also be changed to `\"deg\"`. To have an \"infinite\" ray, that always extends to the edge of the plot, specify `0` for the length:"
   ]
  },
  {
   "cell_type": "code",
   "execution_count": 18,
   "metadata": {
    "hidden": true
   },
   "outputs": [],
   "source": [
    "from bokeh.plotting import figure, show\n",
    "\n",
    "p = figure(plot_width = 400, plot_height = 400)\n",
    "p.ray(x = [1, 2, 3], y = [1, 2, 3], length = 45, angle = [30, 45, 60],\n",
    "      angle_units = 'deg', color = '#FB8072', line_width = 2)\n",
    "\n",
    "show(p)"
   ]
  },
  {
   "cell_type": "markdown",
   "metadata": {
    "heading_collapsed": true,
    "hidden": true
   },
   "source": [
    "## [Wedges and Arcs](https://bokeh.pydata.org/en/latest/docs/user_guide/plotting.html#wedges-and-arcs)"
   ]
  },
  {
   "cell_type": "markdown",
   "metadata": {
    "hidden": true
   },
   "source": [
    "To draw a simple line arc, Bokeh provides the [`arc()`](https://bokeh.pydata.org/en/latest/docs/reference/plotting.html#bokeh.plotting.figure.Figure.arc) glyph method, which accepts `radius`, `start_angle`, and `end_angle` to determine position. Additionally, the `direction` property determines whether to render clockwise (`\"clock\"`) or anti-clockwise (`\"anticlock\"`) between the start and end angles."
   ]
  },
  {
   "cell_type": "code",
   "execution_count": 19,
   "metadata": {
    "hidden": true
   },
   "outputs": [],
   "source": [
    "from bokeh.plotting import figure, show\n",
    "\n",
    "p = figure(plot_width = 400, plot_height = 400)\n",
    "p.arc(x = [1, 2, 3], y = [1, 2, 3], radius = 0.1, start_angle = 0.4, end_angle = 4.8, color = 'navy')\n",
    "\n",
    "show(p)"
   ]
  },
  {
   "cell_type": "markdown",
   "metadata": {
    "hidden": true
   },
   "source": [
    "The [`wedge()`](https://bokeh.pydata.org/en/latest/docs/reference/plotting.html#bokeh.plotting.figure.Figure.wedge) glyph method accepts the same properties as [`arc()`](https://bokeh.pydata.org/en/latest/docs/reference/plotting.html#bokeh.plotting.figure.Figure.arc), but renders a filled wedge instead:"
   ]
  },
  {
   "cell_type": "code",
   "execution_count": 20,
   "metadata": {
    "hidden": true
   },
   "outputs": [],
   "source": [
    "from bokeh.plotting import figure, show\n",
    "\n",
    "p = figure(plot_width = 400, plot_height = 400)\n",
    "p.wedge(x = [1, 2, 3], y = [1, 2, 3], radius = 0.2, start_angle = 0.4, end_angle = 4.8,\n",
    "        color = 'firebrick', alpha = 0.6, direction = 'clock')\n",
    "\n",
    "show(p)"
   ]
  },
  {
   "cell_type": "markdown",
   "metadata": {
    "hidden": true
   },
   "source": [
    "The [`annular_wedge()`](https://bokeh.pydata.org/en/latest/docs/reference/plotting.html#bokeh.plotting.figure.Figure.annular_wedge) glyph method is similar to [`arc()`](https://bokeh.pydata.org/en/latest/docs/reference/plotting.html#bokeh.plotting.figure.Figure.arc), but draws a filled are. It accepts a `inner_radius` and `outer_radius` instead of just `radius`:"
   ]
  },
  {
   "cell_type": "code",
   "execution_count": 21,
   "metadata": {
    "hidden": true
   },
   "outputs": [],
   "source": [
    "from bokeh.plotting import figure, show\n",
    "\n",
    "p = figure(plot_width = 400, plot_height = 400)\n",
    "p.annular_wedge(x = [1, 2, 3], y = [1, 2, 3], inner_radius = 0.1, outer_radius = 0.25,\n",
    "                start_angle = 0.4, end_angle = 4.8, color = 'green', alpha = 0.6)\n",
    "\n",
    "show(p)"
   ]
  },
  {
   "cell_type": "markdown",
   "metadata": {
    "hidden": true
   },
   "source": [
    "Finally, the [`annulus()`](https://bokeh.pydata.org/en/latest/docs/reference/plotting.html#bokeh.plotting.figure.Figure.annulus) glyph methods, which accepts `inner_radius` and `outer_radius`, can be used to draw filled rings:"
   ]
  },
  {
   "cell_type": "code",
   "execution_count": 22,
   "metadata": {
    "hidden": true
   },
   "outputs": [],
   "source": [
    "from bokeh.plotting import figure, show\n",
    "\n",
    "p = figure(plot_width = 400, plot_height = 400)\n",
    "p.annulus(x = [1, 2, 3], y = [1, 2, 3], inner_radius = 0.1, outer_radius = 0.25,\n",
    "          color = 'orange', alpha = 0.6)\n",
    "\n",
    "show(p)"
   ]
  },
  {
   "cell_type": "markdown",
   "metadata": {
    "heading_collapsed": true,
    "hidden": true
   },
   "source": [
    "## [Specialized Curves](https://bokeh.pydata.org/en/latest/docs/user_guide/plotting.html#specialized-curves)"
   ]
  },
  {
   "cell_type": "markdown",
   "metadata": {
    "hidden": true
   },
   "source": [
    "Bokeh also provides [`quadratic()`](https://bokeh.pydata.org/en/latest/docs/reference/plotting.html#bokeh.plotting.figure.Figure.quadratic) and [`bezier()`](https://bokeh.pydata.org/en/latest/docs/reference/plotting.html#bokeh.plotting.figure.Figure.bezier) glyph methods for drawing parameterized quadratic and cubic curves. These are somewhat uncommon; please refer to the [reference documentation](https://bokeh.pydata.org/en/latest/docs/reference/plotting.html#bokeh-plotting) for details."
   ]
  },
  {
   "cell_type": "markdown",
   "metadata": {
    "heading_collapsed": true
   },
   "source": [
    "# [Combining Multiple Glyphs](https://bokeh.pydata.org/en/latest/docs/user_guide/plotting.html#combining-multiple-glyphs)"
   ]
  },
  {
   "cell_type": "markdown",
   "metadata": {
    "hidden": true
   },
   "source": [
    "Combining multiple glyphs on a single plot is a matter of calling more than one glyph method on a single [`Figure`](https://bokeh.pydata.org/en/latest/docs/reference/plotting.html#bokeh.plotting.figure.Figure)"
   ]
  },
  {
   "cell_type": "code",
   "execution_count": 23,
   "metadata": {
    "hidden": true
   },
   "outputs": [],
   "source": [
    "from bokeh.plotting import figure, output_file, show\n",
    "\n",
    "x = [1, 2, 3, 4, 5]\n",
    "y = [6, 7, 8, 7, 3]\n",
    "\n",
    "output_file('multiple.html')\n",
    "\n",
    "p = figure(plot_width = 400, plot_height = 400)\n",
    "\n",
    "# add both a line and circles on the same plot\n",
    "p.line(x, y, line_width = 2)\n",
    "p.circle(x, y, fill_color = 'white', size = 8)\n",
    "\n",
    "show(p)"
   ]
  },
  {
   "cell_type": "markdown",
   "metadata": {
    "hidden": true
   },
   "source": [
    "This principle holds in general for all the glyph methods in [bokeh.plotting](https://bokeh.pydata.org/en/latest/docs/reference/plotting.html#bokeh-plotting). Any number of glyphs may be added to a Bokeh plot."
   ]
  },
  {
   "cell_type": "markdown",
   "metadata": {
    "heading_collapsed": true
   },
   "source": [
    "# [Setting Ranges](https://bokeh.pydata.org/en/latest/docs/user_guide/plotting.html#setting-ranges)"
   ]
  },
  {
   "cell_type": "markdown",
   "metadata": {
    "hidden": true
   },
   "source": [
    "By default, Bokeh will attempt to automatically set the data bounds of plots to fit snugly around the data. Sometimes you may need to set a plot's range explicitly. This can be accomplished by setting the `x_range` or `y_range` properties using a `Range1d` object that gives the *start* and *end* points of the range you want:\n",
    "> `p.x_range = Range1d(0, 100)`\n",
    "\n",
    "As a convenience, the `figure()` function can also accept tuples of *(start, end)* as values for the `x_range` or `y_range` parameters. Below is an example that shows both methdos of setting the range:"
   ]
  },
  {
   "cell_type": "code",
   "execution_count": 27,
   "metadata": {
    "hidden": true
   },
   "outputs": [],
   "source": [
    "from bokeh.plotting import figure, output_file, show\n",
    "from bokeh.models import Range1d\n",
    "\n",
    "output_file('title.html')\n",
    "\n",
    "# create a new plot with a range set with a tuple\n",
    "p = figure(plot_width = 400, plot_height = 400, x_range = (0, 20))\n",
    "\n",
    "# set a range using a Range1d\n",
    "p.y_range = Range1d(0, 15)\n",
    "\n",
    "p.circle([1, 2, 3, 4, 5], [2, 5, 8, 2, 7], size = 10)\n",
    "\n",
    "show(p)"
   ]
  },
  {
   "cell_type": "markdown",
   "metadata": {
    "hidden": true
   },
   "source": [
    "Ranges can also accept a min and max property that allow you to specify the edges of the plot that you do not want the user to be able to pan/zoo beyond."
   ]
  },
  {
   "cell_type": "markdown",
   "metadata": {
    "heading_collapsed": true
   },
   "source": [
    "# [Specifying Axis Types](https://bokeh.pydata.org/en/latest/docs/user_guide/plotting.html#specifying-axis-types)"
   ]
  },
  {
   "cell_type": "markdown",
   "metadata": {
    "hidden": true
   },
   "source": [
    "All the examples above use the default linear axis. This axis is suitable for many plots that need to show numerical data on a linear scale. In other cases you may have categorical data, or need to display numerical data on a datetime or log scale. This section shows how to specify the axis type when using [bokeh.plotting](https://bokeh.pydata.org/en/latest/docs/reference/plotting.html#bokeh-plotting) interface."
   ]
  },
  {
   "cell_type": "markdown",
   "metadata": {
    "heading_collapsed": true,
    "hidden": true
   },
   "source": [
    "## [Categorical Axes](https://bokeh.pydata.org/en/latest/docs/user_guide/plotting.html#categorical-axes)"
   ]
  },
  {
   "cell_type": "markdown",
   "metadata": {
    "hidden": true
   },
   "source": [
    "Categorical axes are created by specifying a [`FactorRange`](https://bokeh.pydata.org/en/latest/docs/reference/models/ranges.html#bokeh.models.ranges.FactorRange) for one of the plot ranges (or a list of factors to be converted to one). Below is a simple example, for complete details see [Handling Categorical Data](https://bokeh.pydata.org/en/latest/docs/user_guide/categorical.html#userguide-categorical)."
   ]
  },
  {
   "cell_type": "code",
   "execution_count": 28,
   "metadata": {
    "hidden": true
   },
   "outputs": [],
   "source": [
    "from bokeh.plotting import figure, output_file, show\n",
    "\n",
    "factors = ['a', 'b', 'c', 'd', 'e', 'f', 'g', 'h']\n",
    "x = [50, 40, 65, 10, 25, 37, 80, 60]\n",
    "\n",
    "output_file('categorical.html')\n",
    "\n",
    "p = figure(y_range = factors)\n",
    "\n",
    "p.circle(x, factors, size = 15, fill_color = 'orange', line_color = 'green', line_width = 3)\n",
    "\n",
    "show(p)"
   ]
  },
  {
   "cell_type": "markdown",
   "metadata": {
    "heading_collapsed": true,
    "hidden": true
   },
   "source": [
    "## [Datetime Axes](https://bokeh.pydata.org/en/latest/docs/user_guide/plotting.html#datetime-axes)"
   ]
  },
  {
   "cell_type": "markdown",
   "metadata": {
    "hidden": true
   },
   "source": [
    "When dealing with timeseries data, or any data that involves dates or times, it is desirable to have an axis that can display labels that are appropriate to different date and time scales.\n",
    "\n",
    "**Note**\n",
    "\n",
    "This example requires a network connection, and depends on the open source Pandas library in order to more easily present realistic timeseries data.\n",
    "\n",
    "We have seen how to use the `figure()` function to create plots using the [bokeh.plotting](https://bokeh.pydata.org/en/latest/docs/reference/plotting.html#bokeh-plotting) interface. This function accepts `x_axis_type` and `y_axis_type` as arguments. To specify a datetime axis, pass `\"datetime\"` for the value of either of these parameters."
   ]
  },
  {
   "cell_type": "code",
   "execution_count": 29,
   "metadata": {
    "hidden": true
   },
   "outputs": [],
   "source": [
    "import pandas as pd\n",
    "from bokeh.plotting import figure, output_file, show\n",
    "from bokeh.sampledata.stocks import AAPL\n",
    "\n",
    "df = pd.DataFrame(AAPL)\n",
    "df['date'] = pd.to_datetime(df.date)\n",
    "\n",
    "output_file('datetime.html')\n",
    "\n",
    "# create a new plot with a datetime axis type\n",
    "p = figure(plot_width = 800, plot_height = 250, x_axis_type = 'datetime')\n",
    "\n",
    "p.line(df.date, df.close, color = 'navy', alpha = 0.5)\n",
    "\n",
    "show(p)"
   ]
  },
  {
   "cell_type": "markdown",
   "metadata": {
    "hidden": true
   },
   "source": [
    "**Note**\n",
    "\n",
    "Future versions of Bokeh will attempt to auto-detect situations when datetime axes are appropriate, and add them automatically by default."
   ]
  },
  {
   "cell_type": "markdown",
   "metadata": {
    "heading_collapsed": true,
    "hidden": true
   },
   "source": [
    "## [Log Scale Axes](https://bokeh.pydata.org/en/latest/docs/user_guide/plotting.html#log-scale-axes)"
   ]
  },
  {
   "cell_type": "markdown",
   "metadata": {
    "hidden": true
   },
   "source": [
    "When dealing with data that grows exponentially or is of many order of magnitude, it is often necessary to have one axis on a log scale. Another scenario involves plotting data that has a power law relationship, when it is desirable to use log scales on both axes.\n",
    "\n",
    "As we saw above, the `figure()` functions accepts `x_axis_type` and `y_axis_type` as arguments. To specify a log axis, pass `\"log\"` for the value of either of these parameters.\n",
    "\n",
    "By default, log axis ranges are calculated to fit around positive valued data. To set your own ranges, see the section on [Setting Ranges](https://bokeh.pydata.org/en/latest/docs/user_guide/plotting.html#userguide-plotting-setting-ranges)"
   ]
  },
  {
   "cell_type": "code",
   "execution_count": 30,
   "metadata": {
    "hidden": true
   },
   "outputs": [],
   "source": [
    "from bokeh.plotting import figure, output_file, show\n",
    "\n",
    "x = [0.1, 0.5, 1.0, 1.5, 2.0, 2.5, 3.0]\n",
    "y = [10**xx for xx in x]\n",
    "\n",
    "output_file('log.html')\n",
    "\n",
    "# create a new plot with a log axis type\n",
    "p = figure(plot_width = 400, plot_height = 400, y_axis_type = 'log')\n",
    "\n",
    "p.line(x, y, line_width = 2)\n",
    "p.circle(x, y, fill_color = 'white', size = 8)\n",
    "\n",
    "show(p)"
   ]
  },
  {
   "cell_type": "markdown",
   "metadata": {
    "heading_collapsed": true,
    "hidden": true
   },
   "source": [
    "## [Twin Axes](https://bokeh.pydata.org/en/latest/docs/user_guide/plotting.html#twin-axes)"
   ]
  },
  {
   "cell_type": "markdown",
   "metadata": {
    "hidden": true
   },
   "source": [
    "It is possible to add multiple axes representing different ranges to a single plot. To do this, configure the plot with \"extra\" named ranges in the `extra_x_range` and `extra_y_range` properties. These these named ranges can be referred to when adding new glyph methods, and also to add new axes objects using the `add_layout` method on [`Plot`](https://bokeh.pydata.org/en/latest/docs/reference/models/plots.html#bokeh.models.plots.Plot). An example is given below:"
   ]
  },
  {
   "cell_type": "code",
   "execution_count": 32,
   "metadata": {
    "hidden": true
   },
   "outputs": [],
   "source": [
    "from numpy import pi, arange, sin, linspace\n",
    "\n",
    "from bokeh.plotting import output_file, figure, show\n",
    "from bokeh.models import LinearAxis, Range1d\n",
    "\n",
    "x = arange(-2*pi, 2*pi, 0.1)\n",
    "y = sin(x)\n",
    "y2 = linspace(0, 100, len(y))\n",
    "\n",
    "output_file('twin_axis.html')\n",
    "\n",
    "p = figure(x_range = (-6.5, 6.5), y_range = (-1.1, 1.1))\n",
    "\n",
    "p.circle(x, y, color = 'red')\n",
    "\n",
    "p.extra_y_ranges = {'foo' : Range1d(start = 0, end = 100)}\n",
    "p.circle(x, y2, color = 'blue', y_range_name = 'foo')\n",
    "p.add_layout(LinearAxis(y_range_name = 'foo'), 'left')\n",
    "\n",
    "show(p)"
   ]
  },
  {
   "cell_type": "markdown",
   "metadata": {
    "heading_collapsed": true
   },
   "source": [
    "# [Adding Annotations](https://bokeh.pydata.org/en/latest/docs/user_guide/plotting.html#adding-annotations)"
   ]
  },
  {
   "cell_type": "markdown",
   "metadata": {
    "hidden": true
   },
   "source": [
    "The section on adding annotations to plots has moved. Please see [Adding Annotations](https://bokeh.pydata.org/en/latest/docs/user_guide/annotations.html#userguide-annotations)"
   ]
  }
 ],
 "metadata": {
  "anaconda-cloud": {},
  "kernelspec": {
   "display_name": "Python [default]",
   "language": "python",
   "name": "python3"
  },
  "language_info": {
   "codemirror_mode": {
    "name": "ipython",
    "version": 3
   },
   "file_extension": ".py",
   "mimetype": "text/x-python",
   "name": "python",
   "nbconvert_exporter": "python",
   "pygments_lexer": "ipython3",
   "version": "3.5.4"
  },
  "varInspector": {
   "cols": {
    "lenName": 16,
    "lenType": 16,
    "lenVar": 40
   },
   "kernels_config": {
    "python": {
     "delete_cmd_postfix": "",
     "delete_cmd_prefix": "del ",
     "library": "var_list.py",
     "varRefreshCmd": "print(var_dic_list())"
    },
    "r": {
     "delete_cmd_postfix": ") ",
     "delete_cmd_prefix": "rm(",
     "library": "var_list.r",
     "varRefreshCmd": "cat(var_dic_list()) "
    }
   },
   "types_to_exclude": [
    "module",
    "function",
    "builtin_function_or_method",
    "instance",
    "_Feature"
   ],
   "window_display": false
  }
 },
 "nbformat": 4,
 "nbformat_minor": 2
}

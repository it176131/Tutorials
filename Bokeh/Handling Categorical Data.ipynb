{
 "cells": [
  {
   "cell_type": "markdown",
   "metadata": {},
   "source": [
    "**Note**\n",
    "\n",
    "Several examples in this chapter use [Pandas](http://pandas.pydata.org/), for ease of presentation and because it is a common tool for data manipulation. However `Pandas` is not required to create anything show here."
   ]
  },
  {
   "cell_type": "markdown",
   "metadata": {
    "heading_collapsed": true
   },
   "source": [
    "# [Bars](https://bokeh.pydata.org/en/latest/docs/user_guide/categorical.html#bars)"
   ]
  },
  {
   "cell_type": "markdown",
   "metadata": {
    "heading_collapsed": true,
    "hidden": true
   },
   "source": [
    "## [Basic](https://bokeh.pydata.org/en/latest/docs/user_guide/categorical.html#basic)"
   ]
  },
  {
   "cell_type": "markdown",
   "metadata": {
    "hidden": true
   },
   "source": [
    "Bokeh make it simple to create basic bar charts using the [`hbar()`](https://bokeh.pydata.org/en/latest/docs/reference/plotting.html#bokeh.plotting.figure.Figure.hbar) and [`vbar()`](https://bokeh.pydata.org/en/latest/docs/reference/plotting.html#bokeh.plotting.figure.Figure.vbar) glyphs methods. In the example below, we have the following sequence of simle 1-level factors:"
   ]
  },
  {
   "cell_type": "code",
   "execution_count": null,
   "metadata": {
    "hidden": true
   },
   "outputs": [],
   "source": [
    "fruits = ['Apples', 'Pears', 'Nectarines', 'Plums', 'Grapes', 'Strawberries']"
   ]
  },
  {
   "cell_type": "markdown",
   "metadata": {
    "hidden": true
   },
   "source": [
    "To inform Bokeh that the x-axis is categorical, we pass this list of factors as the `x_range` argument to `figure()`:\n",
    "> `p = figure(x_range = fruits, ...)`\n",
    "\n",
    "Note that passing the list of factors is a convenient shorthand notation for creating a `FactorRange`. The equivalent explicit notation is:\n",
    "> `p = figure(x_range = FactorRange(field = fruits), ...)`\n",
    "\n",
    "This more explicit form is useful when you want to customize the `FactorRange`, e.g. by changing the range or category padding.\n",
    "\n",
    "Next we can call `vbar` with the list of fruit name factors as the `x` coordinate, the bar height at the `top` coordinate, and optionally any `width` or other properties that we would like to set:\n",
    "> `p.vbar(x = fruits, top = [5, 3, 4, 2, 4, 6], width = 0.9)`\n",
    "\n",
    "All put together, we the output:"
   ]
  },
  {
   "cell_type": "code",
   "execution_count": null,
   "metadata": {
    "hidden": true
   },
   "outputs": [],
   "source": [
    "from bokeh.io import show, output_file\n",
    "from bokeh.plotting import figure\n",
    "\n",
    "output_file('bars.html')\n",
    "\n",
    "fruits = ['Apples', 'Pears', 'Nectarines', 'Plums', 'Grapes', 'Strawberries']\n",
    "\n",
    "p = figure(x_range = fruits, plot_height = 250, title = 'Fruit Counts',\n",
    "           toolbar_location = None, tools = '')\n",
    "\n",
    "p.vbar(x = fruits, top = [5, 3, 4, 2, 4, 6], width = 0.9)\n",
    "\n",
    "p.xgrid.grid_line_color = None\n",
    "p.y_range.start = 0\n",
    "\n",
    "show(p)"
   ]
  },
  {
   "cell_type": "markdown",
   "metadata": {
    "hidden": true
   },
   "source": [
    "As usual, the data could also be put into a `ColumnDataSource` supplied as the `source` parameter to `vbar` instead of passing the data directly as parameters. The next example will demonstrate this."
   ]
  },
  {
   "cell_type": "markdown",
   "metadata": {
    "heading_collapsed": true,
    "hidden": true
   },
   "source": [
    "## [Colors](https://bokeh.pydata.org/en/latest/docs/user_guide/categorical.html#colors)"
   ]
  },
  {
   "cell_type": "markdown",
   "metadata": {
    "hidden": true
   },
   "source": [
    "Often times we may want to have bars that are shaded some color. This can be accomplished in different ways. One way is to supply all the colors up front. This can be done by putting all the data, including the colors for each bar, in a `ColumnDataSource`. Then the name of the column containing the colors is passed to `figure` as the `color` (or `line_color`/`fill_color`) arguments. This is shown below:"
   ]
  },
  {
   "cell_type": "code",
   "execution_count": null,
   "metadata": {
    "hidden": true
   },
   "outputs": [],
   "source": [
    "from bokeh.io import show, output_file\n",
    "from bokeh.models import ColumnDataSource\n",
    "from bokeh.palettes import Spectral6\n",
    "from bokeh.plotting import figure\n",
    "\n",
    "output_file('colormapped_bars.html')\n",
    "\n",
    "fruits = ['Apples', 'Pears', 'Nectarines', 'Plums', 'Grapes', 'Strawberries']\n",
    "counts = [5, 3, 4, 2, 4, 6]\n",
    "\n",
    "source = ColumnDataSource(data = dict(fruits = fruits, counts = counts, color = Spectral6))\n",
    "\n",
    "p = figure(x_range = fruits, y_range = (0, 9), plot_height = 250, title = 'Fruit Counts',\n",
    "           toolbar_location = None, tools = '')\n",
    "\n",
    "p.vbar(x = 'fruits', top = 'counts', width = 0.9, color = 'color', legend = 'fruits', source = source)\n",
    "\n",
    "p.xgrid.grid_line_color = None\n",
    "p.legend.orientation = 'horizontal'\n",
    "p.legend.location = 'top_center'\n",
    "\n",
    "show(p)"
   ]
  },
  {
   "cell_type": "markdown",
   "metadata": {
    "hidden": true
   },
   "source": [
    "Another way to shade the bars is to use a `CategoricalColorMapper` that colormaps the bars inside the browser. There is a function [`factor_cmap()`](https://bokeh.pydata.org/en/latest/docs/reference/transform.html#bokeh.transform.factor_cmap) that makes this simple to do:\n",
    "> `factor_cmap('fruits', palette = Spectral6, factors = fruits)`\n",
    "\n",
    "This can be passed to `figure` in the same way as the column name in the previous example. Putting everything together we obtain the same plot in a different way:"
   ]
  },
  {
   "cell_type": "code",
   "execution_count": null,
   "metadata": {
    "hidden": true
   },
   "outputs": [],
   "source": [
    "from bokeh.io import show, output_file\n",
    "from bokeh.models import ColumnDataSource\n",
    "from bokeh.palettes import Spectral6\n",
    "from bokeh.plotting import figure\n",
    "from bokeh.transform import factor_cmap\n",
    "\n",
    "output_file('colormapped_bars.html')\n",
    "\n",
    "fruits = ['Apples', 'Pears', 'Nectarines', 'Plums', 'Grapes', 'Strawberries']\n",
    "counts = [5, 3, 4, 2, 4, 6]\n",
    "\n",
    "source = ColumnDataSource(data = dict(fruits = fruits, counts = counts))\n",
    "\n",
    "p = figure(x_range = fruits, plot_height = 250, toolbar_location = None, title = 'Fruit Counts')\n",
    "p.vbar(x = 'fruits', top = 'counts', width = 0.9, source = source, legend = 'fruits',\n",
    "       line_color = 'white', fill_color = factor_cmap('fruits', palette = Spectral6, factors = fruits))\n",
    "\n",
    "p.xgrid.grid_line_color = None\n",
    "p.y_range.start = 0\n",
    "p.y_range.end = 9\n",
    "p.legend.orientation = 'horizontal'\n",
    "p.legend.location = 'top_center'\n",
    "\n",
    "show(p)"
   ]
  },
  {
   "cell_type": "markdown",
   "metadata": {
    "heading_collapsed": true,
    "hidden": true
   },
   "source": [
    "## [Grouped](https://bokeh.pydata.org/en/latest/docs/user_guide/categorical.html#grouped)"
   ]
  },
  {
   "cell_type": "markdown",
   "metadata": {
    "hidden": true
   },
   "source": [
    "When creating bar charts, it is often desirable to visually display the data according to sub-groups. There are two basic methods that can be used, depending on your use case: using nested categorical coordinates, or applying visual dodges."
   ]
  },
  {
   "cell_type": "markdown",
   "metadata": {
    "heading_collapsed": true,
    "hidden": true
   },
   "source": [
    "### [Nested Categories](https://bokeh.pydata.org/en/latest/docs/user_guide/categorical.html#nested-categories)"
   ]
  },
  {
   "cell_type": "markdown",
   "metadata": {
    "hidden": true
   },
   "source": [
    "If the coordinates of a plot range and data have two or three levels, then Bokeh will automatically group the factors on the axis, including a hierarchical tick labeling with separators between the groups. In the case of bar charts, this results in bars grouped together by the top-level factors. This is probably the most common way to achieve grouped bars, especially if you are starting from \"tidy\" data.\n",
    "\n",
    "The example below shows this approach by creating a single column of coordinates that are each 2-tuples of the form `(fruit, year)`. Accordingly, the plot groups the axes by fruit type, with a single call to `vbar`:"
   ]
  },
  {
   "cell_type": "code",
   "execution_count": null,
   "metadata": {
    "hidden": true
   },
   "outputs": [],
   "source": [
    "from bokeh.io import show, output_file\n",
    "from bokeh.models import ColumnDataSource, FactorRange\n",
    "from bokeh.plotting import figure\n",
    "\n",
    "output_file('bars.html')\n",
    "\n",
    "fruits = ['Apples', 'Pears', 'Nectarines', 'Plums', 'Grapes', 'Strawberries']\n",
    "years = ['2015', '2016', '2017']\n",
    "\n",
    "data = {'fruits' : fruits,\n",
    "        '2015' : [2, 1, 4, 3, 2, 4],\n",
    "        '2016' : [5, 3, 3, 2, 4, 6],\n",
    "        '2017' : [3, 2, 4, 4, 5, 3]}\n",
    "\n",
    "# this creates [ ('Apples', '2015'), ('Apples', '2016'), ('Apples', '2017'), ('Pears', '2015'), ...]\n",
    "x = [ (fruit, year) for fruit in fruits for year in years]\n",
    "counts = sum(zip(data['2015'], data['2016'], data['2017']), ()) # like an hstack\n",
    "\n",
    "source = ColumnDataSource(data = dict(x = x, counts = counts))\n",
    "\n",
    "p = figure(x_range = FactorRange(*x), plot_height = 250, title = 'Fruit Counts by Year',\n",
    "           toolbar_location = None, tools = '')\n",
    "\n",
    "p.vbar(x = 'x', top = 'counts', width = 0.9, source = source)\n",
    "\n",
    "p.y_range.start = 0\n",
    "p.x_range.range_padding = 0.1\n",
    "p.xaxis.major_label_orientation = 1\n",
    "p.xgrid.grid_line_color = None\n",
    "\n",
    "show(p)"
   ]
  },
  {
   "cell_type": "markdown",
   "metadata": {
    "hidden": true
   },
   "source": [
    "We can also apply a color mapping, similar to the earlier example. To obtain same grouped bar plot of fruits data as above, except with the bars shaded by the year, change the `vbar` function call to use `factor_cmap` for the `fill_color`:"
   ]
  },
  {
   "cell_type": "code",
   "execution_count": null,
   "metadata": {
    "hidden": true
   },
   "outputs": [],
   "source": [
    "p.vbar(x = 'x', top = 'counts', width = 0.9, source = source, line_color = 'white',\n",
    "      \n",
    "       # use the palette to colormap based on the x[1:2] values\n",
    "       fill_color = factor_cmap('x', palette = palette, factors = years, start = 1, end = 2))"
   ]
  },
  {
   "cell_type": "markdown",
   "metadata": {
    "hidden": true
   },
   "source": [
    "Recall that the factors are of the for `(fruit, year)`. The `start = 1` and `end = 2` in the call to `factor_cmap` select the second part of data factors to use when color mapping."
   ]
  },
  {
   "cell_type": "markdown",
   "metadata": {
    "heading_collapsed": true,
    "hidden": true
   },
   "source": [
    "### [Visual Dodge](https://bokeh.pydata.org/en/latest/docs/user_guide/categorical.html#visual-dodge)"
   ]
  },
  {
   "cell_type": "markdown",
   "metadata": {
    "hidden": true
   },
   "source": [
    "Another method for achieving grouped bars is to explicitly specify a visual displacement for the bars. Such a visual offset is also referred to as a *dodge*.\n",
    "\n",
    "In this scenario, our data is not \"tidy\". Instead a single table with rows indexed by factors `(fruit, year)`, we have separate series for each year. We can plot all the year series using separate calls `vbar` but since every bar in each group has the same `fruit` factor, the bars would overlap visually. We can prevent this overlap and distinguish the bars visually by using the `dodge()` function to provide an offset for each different call to `vbar`:"
   ]
  },
  {
   "cell_type": "code",
   "execution_count": null,
   "metadata": {
    "hidden": true
   },
   "outputs": [],
   "source": [
    "from bokeh.core.properties import value\n",
    "from bokeh.io import show, output_file\n",
    "from bokeh.models import ColumnDataSource\n",
    "from bokeh.plotting import figure\n",
    "from bokeh.transform import dodge\n",
    "\n",
    "output_file('dodged_bars.html')\n",
    "\n",
    "fruits = ['Apples', 'Pears', 'Nectarines', 'Plums', 'Grapes', 'Strawberries']\n",
    "years = ['2015', '2016', '2017']\n",
    "\n",
    "data = {'fruits' : fruits,\n",
    "        '2015' : [2, 1, 4, 3, 2, 4],\n",
    "        '2016' : [5, 3, 3, 2, 4, 6],\n",
    "        '2017' : [3, 2, 4, 4, 5, 3]}\n",
    "\n",
    "source = ColumnDataSource(data = data)\n",
    "\n",
    "p = figure(x_range = fruits, y_range = (0, 10), plot_height = 250, title = 'Fruit Counts by Year',\n",
    "           toolbar_location = None, tools = '')\n",
    "\n",
    "p.vbar(x = dodge('fruits', -0.25, range = p.x_range), top = '2015', width = 0.2, source = source,\n",
    "       color = '#c9d9d3', legend = value('2015'))\n",
    "\n",
    "p.vbar(x = dodge('fruits', 0.0, range = p.x_range), top = '2016', width = 0.2, source = source,\n",
    "       color = '#718dbf', legend = value('2016'))\n",
    "\n",
    "p.vbar(x = dodge('fruits', 0.25, range = p.x_range), top = '2017', width = 0.2, source = source,\n",
    "       color = '#e84d60', legend = value('2017'))\n",
    "\n",
    "p.x_range.range_padding = 0.1\n",
    "p.xgrid.grid_line_color = None\n",
    "p.legend.location = 'top_left'\n",
    "p.legend.orientation = 'horizontal'\n",
    "\n",
    "show(p)"
   ]
  },
  {
   "cell_type": "markdown",
   "metadata": {
    "heading_collapsed": true,
    "hidden": true
   },
   "source": [
    "## [Stacked](https://bokeh.pydata.org/en/latest/docs/user_guide/categorical.html#stacked)"
   ]
  },
  {
   "cell_type": "markdown",
   "metadata": {
    "hidden": true
   },
   "source": [
    "Another common operation or bar charts is to stack bars on top of one another. Bokeh makes this easy to do with the specialized [`hbar_stack()`](https://bokeh.pydata.org/en/latest/docs/reference/plotting.html#bokeh.plotting.figure.Figure.hbar_stack) and [`vbar_stack()`](https://bokeh.pydata.org/en/latest/docs/reference/plotting.html#bokeh.plotting.figure.Figure.vbar_stack) functions. The example below shows the fruits data from above, but with the bars for each fruit type stacked instead of grouped:"
   ]
  },
  {
   "cell_type": "code",
   "execution_count": null,
   "metadata": {
    "hidden": true
   },
   "outputs": [],
   "source": [
    "from bokeh.core.properties import value\n",
    "from bokeh.io import show, output_file\n",
    "from bokeh.models import ColumnDataSource\n",
    "from bokeh.plotting import figure\n",
    "\n",
    "output_file('stacked.html')\n",
    "\n",
    "fruits = ['Apples', 'Pears', 'Necatrines', 'Plums', 'Grapes', 'Strawberries']\n",
    "years = ['2015', '2016', '2017']\n",
    "colors = ['#c9d9d3', '#718dbf', '#e84d60']\n",
    "\n",
    "data = {'fruits' : fruits,\n",
    "        '2015' : [2, 1, 4, 3, 2, 4],\n",
    "        '2016' : [5, 3, 4, 2, 4, 6],\n",
    "        '2017' : [3, 2, 4, 4, 5, 3]}\n",
    "\n",
    "source = ColumnDataSource(data = data)\n",
    "\n",
    "p = figure(x_range = fruits, plot_height = 250, title = 'Fruit Counts by Year',\n",
    "           toolbar_location = None, tools = '')\n",
    "\n",
    "p.vbar_stack(years, x = 'fruits', width = 0.9, color = colors, source = source,\n",
    "             legend = [value(x) for x in years])\n",
    "\n",
    "p.y_range.start = 0\n",
    "p.x_range.range_padding = 0.1\n",
    "p.xgrid.grid_line_color = None\n",
    "p.axis.minor_tick_line_color = None\n",
    "p.outline_line_color = None\n",
    "p.legend.location = 'top_left'\n",
    "p.legend.orientation = 'horizontal'\n",
    "\n",
    "show(p)"
   ]
  },
  {
   "cell_type": "markdown",
   "metadata": {
    "hidden": true
   },
   "source": [
    "Note that behind the scenes, these functions work by stacking up the successive columns in separate calls tp `vbar` or `hbar`. This kind of operation is akin to the `dodge` example above (i.e. the data in this case is *not* in a \"tidy\" data format).\n",
    "\n",
    "Sometimes we may want to stack data bars that have both positive and negative extents. The example below shows how it is possible to create such a stacked bar chart that is split by positive and negative values:"
   ]
  },
  {
   "cell_type": "code",
   "execution_count": null,
   "metadata": {
    "hidden": true
   },
   "outputs": [],
   "source": [
    "from bokeh.io import output_file, show\n",
    "from bokeh.models import ColumnDataSource\n",
    "from bokeh.palettes import GnBu3, OrRd3\n",
    "from bokeh.plotting import figure\n",
    "\n",
    "output_file('stacked_split.html')\n",
    "\n",
    "fruits = ['Apples', 'Pears', 'Nectarines', 'Plums', 'Grapes', 'Strawberries']\n",
    "years = ['2015', '2016', '2017']\n",
    "\n",
    "exports = {'fruits' : fruits,\n",
    "           '2015' : [2, 1, 4, 3, 2, 4],\n",
    "           '2016' : [5, 3, 4, 2, 4, 6],\n",
    "           '2017' : [3, 2, 4, 4, 5, 3]}\n",
    "imports = {'fruits' : fruits,\n",
    "           '2015' : [-1, 0, -1, -3, -2, -1],\n",
    "           '2016' : [-2, -1, -3, -1, -2, -2],\n",
    "           '2017' : [-1, -2, -1, 0, -2, -2]}\n",
    "\n",
    "p = figure(y_range = fruits, plot_height = 250, x_range = (-16, 16), title = 'Fruit import/export, by year',\n",
    "           toolbar_location = None)\n",
    "\n",
    "p.hbar_stack(years, y = 'fruits', height = 0.9, color = GnBu3, source = ColumnDataSource(exports),\n",
    "             legend = ['%s exports' % x for x in years])\n",
    "\n",
    "p.hbar_stack(years, y = 'fruits', height = 0.9, color = OrRd3, source = ColumnDataSource(imports),\n",
    "             legend = ['%s imports' % x for x in years])\n",
    "\n",
    "p.y_range.range_padding = 0.1\n",
    "p.ygrid.grid_line_color = None\n",
    "p.legend.location = 'top_left'\n",
    "p.axis.minor_tick_line_color = None\n",
    "p.outline_line_color = None\n",
    "\n",
    "show(p)"
   ]
  },
  {
   "cell_type": "markdown",
   "metadata": {
    "heading_collapsed": true,
    "hidden": true
   },
   "source": [
    "## [Mixed Factors](https://bokeh.pydata.org/en/latest/docs/user_guide/categorical.html#mixed-factors)"
   ]
  },
  {
   "cell_type": "markdown",
   "metadata": {
    "hidden": true
   },
   "source": [
    "When dealing with hierarchical categories of two or three levels, it's possible to use just the \"higher level\" portion of a coordinate to position glyphs. For example, if you have range with the hierarchical factors"
   ]
  },
  {
   "cell_type": "code",
   "execution_count": null,
   "metadata": {
    "hidden": true
   },
   "outputs": [],
   "source": [
    "factors = [\n",
    "    ('East', 'Sales'), ('East', 'Marketing'), ('East', 'Dev'),\n",
    "    ('West', 'Sales'), ('West', 'Marketing'), ('West', 'Dev'),\n",
    "]"
   ]
  },
  {
   "cell_type": "markdown",
   "metadata": {
    "hidden": true
   },
   "source": [
    "Then it is possible to use just *\"Sales\"* and *\"Marketing\"* etc. as positions for glyphs. In this case the position is the center of the entire group. The example below shows bars for each month, grouped by financial quarter, and also adds a line (perhaps for a quarterly average) at the coordinates for `Q1`, `Q2`, etc.:"
   ]
  },
  {
   "cell_type": "code",
   "execution_count": null,
   "metadata": {
    "hidden": true
   },
   "outputs": [],
   "source": [
    "from bokeh.io import show, output_file\n",
    "from bokeh.models import FactorRange\n",
    "from bokeh.plotting import figure\n",
    "\n",
    "output_file('mixed.html')\n",
    "\n",
    "factors = [\n",
    "    ('Q1', 'jan'), ('Q1', 'feb'), ('Q1', 'mar'),\n",
    "    ('Q2', 'apr'), ('Q2', 'may'), ('Q2', 'jun'),\n",
    "    ('Q3', 'jul'), ('Q3', 'aug'), ('Q3', 'sep'),\n",
    "    ('Q4', 'oct'), ('Q4', 'nov'), ('Q4', 'dec'),\n",
    "    \n",
    "]\n",
    "\n",
    "p = figure(x_range = FactorRange(*factors), plot_height = 250,\n",
    "           toolbar_location = None, tools = '')\n",
    "\n",
    "x = [10, 12, 16, 9, 10, 8, 12, 13, 14, 14, 12, 16]\n",
    "p.vbar(x = factors, top = x, width = 0.9, alpha = 0.5)\n",
    "\n",
    "p.line(x = ['Q1', 'Q2', 'Q3', 'Q4'], y = [12, 9, 13, 14], color = 'red', line_width = 2)\n",
    "\n",
    "p.y_range.start = 0\n",
    "p.x_range.range_padding = 0.1\n",
    "p.xaxis.major_label_orientation = 1\n",
    "p.xgrid.grid_line_color = None\n",
    "\n",
    "show(p)"
   ]
  },
  {
   "cell_type": "markdown",
   "metadata": {
    "hidden": true
   },
   "source": [
    "This example also demonstrates that other glyphs such as lines also function with categorical coordinates."
   ]
  },
  {
   "cell_type": "markdown",
   "metadata": {
    "heading_collapsed": true,
    "hidden": true
   },
   "source": [
    "## [Pandas](https://bokeh.pydata.org/en/latest/docs/user_guide/categorical.html#pandas)"
   ]
  },
  {
   "cell_type": "markdown",
   "metadata": {
    "hidden": true
   },
   "source": [
    "[Pandas](http://pandas.pydata.org/) is a powerful and common tool for doing data analysis on tabular and timeseries data in Python. Although it is not *required* by Bokeh, Bokeh tries to make life easier when you do.\n",
    "\n",
    "Below is a plot that demonstrates some advantages when using Pandas with Bokeh:\n",
    "* Pandas `GroupBy` objects can be used to initialize a `ColumnDataSource`, automatically creating columns for many statistical measures such as the group mean or count\n",
    "* `GroupBy` objects may also be passed directly as a range argument to `figure`."
   ]
  },
  {
   "cell_type": "code",
   "execution_count": null,
   "metadata": {
    "hidden": true
   },
   "outputs": [],
   "source": [
    "from bokeh.io import show, output_file\n",
    "from bokeh.models import ColumnDataSource\n",
    "from bokeh.palettes import Spectral5\n",
    "from bokeh.plotting import figure\n",
    "from bokeh.sampledata.autompg import autompg as df\n",
    "from bokeh.transform import factor_cmap\n",
    "\n",
    "output_file('groupby.html')\n",
    "\n",
    "df.cyl = df.cyl.astype(str)\n",
    "group = df.groupby('cyl')\n",
    "\n",
    "source = ColumnDataSource(group)\n",
    "\n",
    "cyl_cmap = factor_cmap('cyl', palette = Spectral5, factors = sorted(df.cyl.unique()))\n",
    "\n",
    "p = figure(plot_height = 350, x_range = group, title = 'MPG by # Cylinders',\n",
    "           toolbar_location = None, tools = '')\n",
    "p.vbar(x = 'cyl', top = 'mpg_mean', width = 1, source = source,\n",
    "           line_color = cyl_cmap, fill_color = cyl_cmap)\n",
    "\n",
    "p.y_range.start = 0\n",
    "p.xgrid.grid_line_color = None\n",
    "p.xaxis.axis_label = 'some stuff'\n",
    "p.xaxis.major_label_orientation = 1.2\n",
    "p.outline_line_color = None\n",
    "\n",
    "show(p)"
   ]
  },
  {
   "cell_type": "markdown",
   "metadata": {
    "hidden": true
   },
   "source": [
    "Note that in the example above, we grouped by the column `'cyl'` for this index. Additionally, other non-grouped columns like `'mpg'` have had associated columns such `'mpg_mean'` added, that give the mean MPG value for each group.\n",
    "\n",
    "This usage also works when the grouping is multi-level. The example below show how grouping the same data by `('cyl', 'mfr')` results in a hierarchical nested axis. In this case, the index column name `'cyl_mfr'` is made by joining the names of the grouped columns together."
   ]
  },
  {
   "cell_type": "code",
   "execution_count": null,
   "metadata": {
    "hidden": true
   },
   "outputs": [],
   "source": [
    "from bokeh.io import show, output_file\n",
    "from bokeh.models import ColumnDataSource, HoverTool\n",
    "from bokeh.plotting import figure\n",
    "from bokeh.palettes import Spectral5\n",
    "from bokeh.sampledata.autompg import autompg_clean as df\n",
    "from bokeh.transform import factor_cmap\n",
    "\n",
    "output_file('bars.html')\n",
    "\n",
    "df.cyl = df.cyl.astype(str)\n",
    "df.yr = df.yr.astype(str)\n",
    "\n",
    "group = df.groupby(('cyl', 'mfr'))\n",
    "\n",
    "source = ColumnDataSource(group)\n",
    "index_cmap = factor_cmap('cyl_mfr', palette = Spectral5, factors = sorted(df.cyl.unique()), end = 1)\n",
    "\n",
    "p = figure(plot_width = 800, plot_height= 300, title = 'Mean MPG by # Cylinders and Manufacturer',\n",
    "           x_range = group, toolbar_location = None, tools = '')\n",
    "\n",
    "p.vbar(x = 'cyl_mfr', top = 'mpg_mean', width = 1, source= source,\n",
    "       line_color = 'white', fill_color = index_cmap, )\n",
    "\n",
    "p.y_range.start = 0\n",
    "p.x_range.range_padding = 0.05\n",
    "p.xgrid.grid_line_color = None\n",
    "p.xaxis.axis_label = 'Manufacturer grouped by # Cylinders'\n",
    "p.xaxis.major_label_orientation = 1.2\n",
    "p.outline_line_color = None\n",
    "\n",
    "p.add_tools(HoverTool(tooltips = [('MPG', '@mpg_mean'), ('Cyl, Mfr', '@cyl_mfr')]))\n",
    "\n",
    "show(p)"
   ]
  },
  {
   "cell_type": "markdown",
   "metadata": {
    "heading_collapsed": true
   },
   "source": [
    "# [Intervals](https://bokeh.pydata.org/en/latest/docs/user_guide/categorical.html#intervals)"
   ]
  },
  {
   "cell_type": "markdown",
   "metadata": {
    "hidden": true
   },
   "source": [
    "So far we have seen the bar glyphs used to create bar charts, which imply bars drawn from a common baseline. However, the bar glyphs can also be used to represent arbitrary intervals across a range.\n",
    "\n",
    "The example below uses `hbar` with both `left` and `right` properties supplied, to show the spread in times between bronze and gold medalists in Olympic sprinting over many years:"
   ]
  },
  {
   "cell_type": "code",
   "execution_count": null,
   "metadata": {
    "hidden": true
   },
   "outputs": [],
   "source": [
    "from bokeh.io import show, output_file\n",
    "from bokeh.models import ColumnDataSource\n",
    "from bokeh.plotting import figure\n",
    "from bokeh.sampledata.sprint import sprint\n",
    "\n",
    "output_file('sprint.html')\n",
    "\n",
    "sprint.Year = sprint.Year.astype(str)\n",
    "group = sprint.groupby('Year')\n",
    "source = ColumnDataSource(group)\n",
    "\n",
    "p = figure(y_range = group, x_range = (9.5, 12.7), plot_width = 400, plot_height = 550, toolbar_location = None,\n",
    "           title = 'Time Spreads for Sprint Medalists (by Year)')\n",
    "p.hbar(y = 'Year', left = 'Time_min', right = 'Time_max', height = 0.4, source = source)\n",
    "\n",
    "p.ygrid.grid_line_color = None\n",
    "p.xaxis.axis_label = 'Time (seconds)'\n",
    "p.outline_line_color = None\n",
    "\n",
    "show(p)"
   ]
  },
  {
   "cell_type": "markdown",
   "metadata": {
    "heading_collapsed": true
   },
   "source": [
    "# [Scatters](https://bokeh.pydata.org/en/latest/docs/user_guide/categorical.html#scatters)"
   ]
  },
  {
   "cell_type": "markdown",
   "metadata": {
    "heading_collapsed": true,
    "hidden": true
   },
   "source": [
    "## [Adding Jitter](https://bokeh.pydata.org/en/latest/docs/user_guide/categorical.html#adding-jitter)"
   ]
  },
  {
   "cell_type": "markdown",
   "metadata": {
    "hidden": true
   },
   "source": [
    "When plotting many scatter points in a single categorical category, it is common for points to start to visually overlap. In this case, Bokeh provides a [`jitter()`](https://bokeh.pydata.org/en/latest/docs/reference/transform.html#bokeh.transform.jitter) function that can automatically apply a random dodge to every point.\n",
    "\n",
    "The example below shows a scatter plot of every commit time for a GitHub user between 2012 and 2016, grouped by day of the week. A naive plot of this data would result in thousands of points overlapping in a narrow line for each day. By using `jitter` we can differentiate the points to obtain a useful plot:"
   ]
  },
  {
   "cell_type": "code",
   "execution_count": null,
   "metadata": {
    "hidden": true
   },
   "outputs": [],
   "source": [
    "from bokeh.io import show, output_file\n",
    "from bokeh.models import ColumnDataSource\n",
    "from bokeh.plotting import figure\n",
    "from bokeh.sampledata.commits import data\n",
    "from bokeh.transform import jitter\n",
    "\n",
    "output_file('bars.html')\n",
    "\n",
    "DAYS = ['Sun', 'Sat', 'Fri', 'Thu', 'Wed', 'Tue', 'Mon']\n",
    "\n",
    "source = ColumnDataSource(data)\n",
    "\n",
    "p = figure(plot_width = 800, plot_height = 300, y_range = DAYS, x_axis_type = 'datetime',\n",
    "           title = 'Commits by Time of Day (US/Central) 2012-2016')\n",
    "\n",
    "p.circle(x = 'time', y = jitter('day', width = 0.6, range = p.y_range), source = source, alpha = 0.3)\n",
    "\n",
    "p.xaxis[0].formatter.days = ['$Hh']\n",
    "p.x_range.range_padding = 0\n",
    "p.ygrid.grid_line_color = None\n",
    "\n",
    "show(p)"
   ]
  },
  {
   "cell_type": "markdown",
   "metadata": {
    "heading_collapsed": true
   },
   "source": [
    "# [Categorical Offsets](https://bokeh.pydata.org/en/latest/docs/user_guide/categorical.html#categorical-offsets)"
   ]
  },
  {
   "cell_type": "markdown",
   "metadata": {
    "hidden": true
   },
   "source": [
    "We've seen above how categorical locations can be modified by operations like *dodge* and *jitter*. It is also possible to supply an offset to a categorical location explicitly. This is done by adding a numeric value to the end of a category, e.g. `['Jan', 0.2]` is the category \"Jan\" offset by a value of 0.2. FOr hierarchical categories, the value is added at the end of the existing list, e.g. `['West', 'Sales', -0.2]`. Any numeric value at the end of a list of categories is always interpreted as an offset.\n",
    "\n",
    "As an example, suppose we took our first example form the beginning and modified it like this:"
   ]
  },
  {
   "cell_type": "code",
   "execution_count": null,
   "metadata": {
    "hidden": true
   },
   "outputs": [],
   "source": [
    "fruits = ['Apples', 'Pears', 'Nectarines', 'Plums', 'Grapes', 'Strawberries']\n",
    "\n",
    "offsets = [-0.5, -0.2, 0.0, 0.3, 0.1, 0.3]\n",
    "\n",
    "# This results in [['Apples', -0.5], ['Pears', -0.2], ...]\n",
    "x = list(zip(fruits, offsets))\n",
    "\n",
    "p.vbar(x = x, top = [5, 3, 4, 2, 4, 6], width = 0.8)"
   ]
  },
  {
   "cell_type": "markdown",
   "metadata": {
    "hidden": true
   },
   "source": [
    "Then the resulting plot has bars that are horizontally shifted by the amount of each corresponding offset:\n",
    "\n",
    "Below is a more sophisticated example of a Joy Plot that displays timeseries associated with different categories. It uses categorical offsets to specify patch coordinates for the timeseries inside each category."
   ]
  },
  {
   "cell_type": "code",
   "execution_count": null,
   "metadata": {
    "hidden": true
   },
   "outputs": [],
   "source": [
    "from numpy import linspace\n",
    "from scipy.stats.kde import gaussian_kde\n",
    "\n",
    "from bokeh.io import output_file, show\n",
    "from bokeh.models import ColumnDataSource, FixedTicker, PrintfTickFormatter\n",
    "from bokeh.plotting import figure\n",
    "from bokeh.sampledata.perceptions import probly\n",
    "\n",
    "import colorcet as cc\n",
    "\n",
    "output_file('joyplot.html')\n",
    "\n",
    "def joy(category, data, scale = 20):\n",
    "    return list(zip([category]*len(data), scale*data))\n",
    "\n",
    "cats = list(reversed(probly.keys()))\n",
    "\n",
    "palette = [cc.rainbow[i*15] for i in range(17)]\n",
    "\n",
    "x = linspace(-20, 110, 500)\n",
    "\n",
    "source = ColumnDataSource(data = dict(x = x))\n",
    "\n",
    "p = figure(y_range = cats, plot_width = 700, x_range = (-5, 105), toolbar_location = None)\n",
    "\n",
    "for i, cat in enumerate(reversed(cats)):\n",
    "    pdf = gaussian_kde(probly[cat])\n",
    "    y = joy(cat, pdf(x))\n",
    "    source.add(y, cat)\n",
    "    p.patch('x', cat, color = palette[i], alpha = 0.6, line_color = 'black', source = source)\n",
    "\n",
    "p.outline_line_color = None\n",
    "p.background_fill_color = '#efefef'\n",
    "\n",
    "p.xaxis.ticker = FixedTicker(ticks = list(range(0, 101, 10)))\n",
    "p.xaxis.formatter = PrintfTickFormatter(format = '%d%%')\n",
    "\n",
    "p.ygrid.grid_line_color = None\n",
    "p.xgrid.grid_line_color = '#dddddd'\n",
    "p.xgrid.ticker = p.xaxis[0].ticker\n",
    "\n",
    "p.axis.minor_tick_line_color = None\n",
    "p.axis.major_tick_line_color = None\n",
    "p.axis.axis_line_color = None\n",
    "\n",
    "p.y_range.range_padding = 0.12\n",
    "\n",
    "show(p)"
   ]
  },
  {
   "cell_type": "markdown",
   "metadata": {
    "heading_collapsed": true
   },
   "source": [
    "# [Heat Map](https://bokeh.pydata.org/en/latest/docs/user_guide/categorical.html#heat-maps)"
   ]
  },
  {
   "cell_type": "markdown",
   "metadata": {
    "hidden": true
   },
   "source": [
    "In all of the cases above, we have had one categorical axis, and one continuous axis. It is possible to have plots with two categorical axes. If we shade the rectangle that defines each pair  of categories, we end up with a *Categorical Heatmap*.\n",
    "\n",
    "The plot below show such a plot, where the x-axis categories are a list of years from 1948 to 2016, and the y-axis categories are the months of the years. Each rectangle corresponding to a `(year, month)` combination is color mapped by the unemployment rate for that month and year. Since the unemployment rate is a continuous variable, a `LinearColorMapper` is used to colormap the plot, and is also passed to a color bar to provide a visual legend on the right:"
   ]
  },
  {
   "cell_type": "code",
   "execution_count": null,
   "metadata": {
    "hidden": true
   },
   "outputs": [],
   "source": [
    "import pandas as pd\n",
    "\n",
    "from bokeh.io import output_file, show\n",
    "from bokeh.models import BasicTicker, ColorBar, ColumnDataSource, LinearColorMapper, PrintfTickFormatter\n",
    "from bokeh.plotting import figure\n",
    "from bokeh.sampledata.unemployment1948 import data\n",
    "from bokeh.transform import transform\n",
    "\n",
    "output_file('unemployment.html')\n",
    "\n",
    "data.Year = data.Year.astype(str)\n",
    "data = data.set_index('Year')\n",
    "data.drop('Annual', axis = 1, inplace = True)\n",
    "data.columns.name = 'Month'\n",
    "\n",
    "# reshape to 1D array or rates with a month and year for each row\n",
    "df = pd.DataFrame(data.stack(), columns = ['rate']).reset_index()\n",
    "\n",
    "source = ColumnDataSource(df)\n",
    "\n",
    "# this is the colormap from the original NYTimes plot\n",
    "colors = ['#75968f', '#a5bab7', '#c9d9d3', '#e2e2e2', '#dfccce', '#ddb7b1', '#cc7878', '#933b41', '#550b1d']\n",
    "mapper = LinearColorMapper(palette  = colors, low = df.rate.min(), high = df.rate.max())\n",
    "\n",
    "p = figure(plot_width = 800, plot_height = 300, title = 'US Unemployment 1948-2016',\n",
    "           x_range = list(data.index), y_range = list(reversed(data.columns)),\n",
    "           toolbar_location = None, tools = '', x_axis_location = None)\n",
    "\n",
    "p.rect(x = 'Year', y = 'Month', width = 1, height = 1, source = source,\n",
    "       line_color = None, fill_color = transform('rate', mapper))\n",
    "\n",
    "color_bar = ColorBar(color_mapper = mapper, location = (0, 0),\n",
    "                      ticker = BasicTicker(desired_num_ticks = len(colors)),\n",
    "                      formatter = PrintfTickFormatter(format = '%d%%'))\n",
    "\n",
    "p.add_layout(color_bar, 'right')\n",
    "\n",
    "p.axis.axis_line_color = None\n",
    "p.axis.major_tick_line_color = None\n",
    "p.axis.major_label_text_font_size = '5pt'\n",
    "p.axis.major_label_standoff = 0\n",
    "p.xaxis.major_label_orientation = 1.0\n",
    "\n",
    "show(p)"
   ]
  },
  {
   "cell_type": "markdown",
   "metadata": {
    "hidden": true
   },
   "source": [
    "A final example combines many of the techniques in this chapter: color mappers, visual dodges, and Pandas DataFrames. These are used to create a different sort of \"heatmap\" that results in a periodic table of the elements. A hover tool has also been added so that additional information about each element can be inspected:"
   ]
  },
  {
   "cell_type": "code",
   "execution_count": null,
   "metadata": {
    "hidden": true
   },
   "outputs": [],
   "source": [
    "from bokeh.io import output_file, show\n",
    "from bokeh.models import ColumnDataSource, HoverTool\n",
    "from bokeh.plotting import figure\n",
    "from bokeh.sampledata.periodic_table import elements\n",
    "from bokeh.transform import dodge, factor_cmap\n",
    "\n",
    "output_file('periodic.html')\n",
    "\n",
    "periods = ['I', 'II', 'III', 'IV', 'V', 'VI', 'VII']\n",
    "groups = [str(x) for x in range(1, 19)]\n",
    "\n",
    "df = elements.copy()\n",
    "df['atomic mass'] = df['atomic mass'].astype(str)\n",
    "df['group'] = df['group'].astype(str)\n",
    "df['period'] = [periods[x - 1] for x in df.period]\n",
    "df = df[df.group != '-']\n",
    "df = df[df.symbol != 'Lr']\n",
    "df = df[df.symbol != 'Lu']\n",
    "\n",
    "cmap = {\n",
    "    'alkali metal' : '#a6cee3',\n",
    "    'alkaline earth metal' : '#1f78b4',\n",
    "    'metal' : '#d93b43',\n",
    "    'halogen' : '#999d9a',\n",
    "    'metalloid' : '#e08d49',\n",
    "    'noble gas' : '#eaeaea',\n",
    "    'nonmetal' : '#f1d4Af',\n",
    "    'transition metal' : '#599d7A'\n",
    "}\n",
    "\n",
    "source = ColumnDataSource(df)\n",
    "\n",
    "p = figure(plot_width = 900, plot_height = 500, title = 'Periodic Table (omitting LA and AC Series)',\n",
    "           x_range = groups, y_range = list(reversed(periods)), toolbar_location = None, tools = '')\n",
    "\n",
    "p.rect('group', 'period', 0.95, 0.95, source = source, fill_alpha = 0.6, legend = \"metal\",\n",
    "       color = factor_cmap('metal', palette = list(cmap.values()), factors = list(cmap.keys())))\n",
    "\n",
    "text_props = {'source' : source, 'text_align' : 'left', 'text_baseline' : 'middle'}\n",
    "\n",
    "x = dodge('group', -0.4, range = p.x_range)\n",
    "\n",
    "r = p.text(x = x, y = 'period', text = 'symbol', **text_props)\n",
    "r.glyph.text_font_style = 'bold'\n",
    "\n",
    "r = p.text(x = x, y = dodge('period', 0.3, range = p.y_range), text = 'atomic number', **text_props)\n",
    "r.glyph.text_font_size = '8pt'\n",
    "\n",
    "r = p.text(x = x, y = dodge('period', -0.35, range = p.y_range), text = 'name', **text_props)\n",
    "r.glyph.text_font_size = '5pt'\n",
    "\n",
    "r = p.text(x = x, y = dodge('period', -0.2, range = p.y_range), text = 'atomic mass', **text_props)\n",
    "r.glyph.text_font_size = '5pt'\n",
    "\n",
    "p.text(x = ['3', '3'], y = ['VI', 'VII'], text = ['LA', 'AC'], text_align = 'center', text_baseline = 'middle')\n",
    "\n",
    "p.add_tools(HoverTool(tooltips = [\n",
    "    ('Name', '@name'),\n",
    "    ('Atomic number', '@{atomic number}'),\n",
    "    ('Atomic mass', '@{atomic mass}'),\n",
    "    ('Type', '@metal'),\n",
    "    ('CPK color', '$color[hex, swatch]:CPK'),\n",
    "    ('Electronic configuration', '@{electronic configuration}'),\n",
    "]))\n",
    "\n",
    "p.outline_line_color = None\n",
    "p.grid.grid_line_color = None\n",
    "p.axis.axis_line_color = None\n",
    "p.axis.major_tick_line_color = None\n",
    "p.axis.major_label_standoff = 0\n",
    "p.legend.orientation = 'horizontal'\n",
    "p.legend.location = 'top_center'\n",
    "\n",
    "show(p)"
   ]
  }
 ],
 "metadata": {
  "anaconda-cloud": {},
  "kernelspec": {
   "display_name": "Python [default]",
   "language": "python",
   "name": "python3"
  },
  "language_info": {
   "codemirror_mode": {
    "name": "ipython",
    "version": 3
   },
   "file_extension": ".py",
   "mimetype": "text/x-python",
   "name": "python",
   "nbconvert_exporter": "python",
   "pygments_lexer": "ipython3",
   "version": "3.5.4"
  },
  "varInspector": {
   "cols": {
    "lenName": 16,
    "lenType": 16,
    "lenVar": 40
   },
   "kernels_config": {
    "python": {
     "delete_cmd_postfix": "",
     "delete_cmd_prefix": "del ",
     "library": "var_list.py",
     "varRefreshCmd": "print(var_dic_list())"
    },
    "r": {
     "delete_cmd_postfix": ") ",
     "delete_cmd_prefix": "rm(",
     "library": "var_list.r",
     "varRefreshCmd": "cat(var_dic_list()) "
    }
   },
   "types_to_exclude": [
    "module",
    "function",
    "builtin_function_or_method",
    "instance",
    "_Feature"
   ],
   "window_display": false
  }
 },
 "nbformat": 4,
 "nbformat_minor": 2
}

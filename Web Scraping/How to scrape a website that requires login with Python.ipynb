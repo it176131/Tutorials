{
 "cells": [
  {
   "cell_type": "markdown",
   "metadata": {},
   "source": [
    "# [How to scrape a website that requires login with Python](http://kazuar.github.io/scraping-tutorial/)"
   ]
  },
  {
   "cell_type": "markdown",
   "metadata": {},
   "source": [
    "I've recently had to perform some web scraping from a site that required login. It wasn't very straight forward as I expected so I've decided to write a tutorial for it.\n",
    "\n",
    "For this tutorial we will scrape a list of projects from our bitbucket account.\n",
    "\n",
    "The code from this tutorial can be found on my [Github](https://github.com/kazuar/login_scraper_example).\n",
    "\n",
    "We will perform the following steps:\n",
    "1. Extract the details that we need for the login\n",
    "2. Perform login to the site\n",
    "3. Scrape the required data\n",
    "\n",
    "For this tutorial, I've used the following packages (can be found in the [requirements.txt](https://github.com/kazuar/login_scraper_example/blob/master/requirements.txt):"
   ]
  },
  {
   "cell_type": "markdown",
   "metadata": {},
   "source": [
    "## Step 1: Study the website"
   ]
  },
  {
   "cell_type": "markdown",
   "metadata": {},
   "source": [
    "### Open the login page"
   ]
  },
  {
   "cell_type": "markdown",
   "metadata": {},
   "source": [
    "Go to the following page \"[bitbucket.org/account/signin](https://bitbucket.org/account/signin/?next=/)\". You will see the following page (perform logout in case you're already logged in)\n",
    "<img src = 'http://kazuar.github.io/images/scrape_login_page.png'>"
   ]
  },
  {
   "cell_type": "markdown",
   "metadata": {},
   "source": [
    "### Check the details that we need to extract in order to login"
   ]
  },
  {
   "cell_type": "markdown",
   "metadata": {},
   "source": [
    "In this section we will build a dictionary that will hold our details for performing login:\n",
    "1. Right click on the \"Username or email\" field and select \"inspect element\". We will use the value of the \"name\" attribute for this input which is \"username\". \"username\" will be the key andour user name / email will be the value (on other sites this might be \"email\", \"user_name\", \"login\", etc.).\n",
    "<img src = 'http://kazuar.github.io/images/scrape_username.png'>\n",
    "<img src = 'http://kazuar.github.io/images/login_source_html.png'>\n",
    "2. Right click on the \"Password\" field and select \"inspect element\". In this script we will need to use the value of the \"name\" attribute for this input which is \"password\". \"password\" will be thekey in the dictionary and our password will be the value (on other sites this might be \"user_password\", \"login_password\", \"pwd\", etc.).\n",
    "<img src = 'http://kazuar.github.io/images/scrape_password.png'>\n",
    "<img src = 'http://kazuar.github.io/images/password_source_html.png'>\n",
    "3. In the page source, search for a hidden input tag called \"csrfmiddlewaretoken\". \"csrfmiddlewaretoken\" will be the key and value will be the hidden input value (on other sites this might be a hidden input with the name \"csrf_token\", \"authentication_token\", etc.). For example \"Vy00PE3Ra6aISwKBrPn72SFml00IcUV8\".\n",
    "<img src = 'http://kazuar.github.io/images/scrape_csrf.png'>\n",
    "<img src = 'http://kazuar.github.io/images/csrf_token_source_html.png'>\n",
    "We will end up with a dict that will look like this:"
   ]
  },
  {
   "cell_type": "raw",
   "metadata": {},
   "source": [
    "payload = {\n",
    "    'username' : '<USERNAME>',\n",
    "    'password' : '<PASSWORD>',\n",
    "    'csrfmiddlewaretoken' : '<CSRF_TOKEN>'\n",
    "}"
   ]
  },
  {
   "cell_type": "markdown",
   "metadata": {},
   "source": [
    "Keep in mind that this is the specific case for this site. While this login form is simple, other sites might require us to check the request log of the browser and find the relevant keys and values that we should use for the login step."
   ]
  },
  {
   "cell_type": "markdown",
   "metadata": {},
   "source": [
    "## Step 2: Perform login to the site"
   ]
  },
  {
   "cell_type": "markdown",
   "metadata": {},
   "source": [
    "For this script we will only need to import the following:"
   ]
  },
  {
   "cell_type": "code",
   "execution_count": 13,
   "metadata": {},
   "outputs": [],
   "source": [
    "import requests\n",
    "from lxml import html"
   ]
  },
  {
   "cell_type": "markdown",
   "metadata": {},
   "source": [
    "First, we would like to create our [session object](http://docs.python-requests.org/en/latest/user/advanced/). This object will allow us to persist the login session across all our requests."
   ]
  },
  {
   "cell_type": "code",
   "execution_count": 14,
   "metadata": {},
   "outputs": [],
   "source": [
    "session_requests = requests.session()"
   ]
  },
  {
   "cell_type": "markdown",
   "metadata": {},
   "source": [
    "Second, we would like to extract the csrf token from the web page, this token is used during login. For this example we are using lxml and xpath, we could have used regular expression or any other method that will extract this data."
   ]
  },
  {
   "cell_type": "code",
   "execution_count": 15,
   "metadata": {},
   "outputs": [],
   "source": [
    "login_url = 'https://bitbucket.org/account/signin/?next=/'\n",
    "result = session_requests.get(login_url)\n",
    "\n",
    "tree = html.fromstring(result.text)\n",
    "authenticity_token = list(set(tree.xpath(\"//input[@name='csrfmiddlewaretoken']/@value\")))"
   ]
  },
  {
   "cell_type": "code",
   "execution_count": 16,
   "metadata": {},
   "outputs": [],
   "source": [
    "payload = {\n",
    "    'username' : 'ianiat11@gmail.com',\n",
    "    'password' : 's#0R9!op.,',\n",
    "    'csrfmiddlewaretoken' : authenticity_token\n",
    "}"
   ]
  },
  {
   "cell_type": "markdown",
   "metadata": {},
   "source": [
    "** More about xpath and lxml can be found [here](http://lxml.de/xpathxslt.html).\n",
    "\n",
    "Next, we would like to perform the login phase. In this phase, we send a POST request to the login url. We use the payload that we created in the previous step as the data. We also use a header for the request and add a referer key to it for the same url."
   ]
  },
  {
   "cell_type": "code",
   "execution_count": 17,
   "metadata": {},
   "outputs": [],
   "source": [
    "result = session_requests.post(login_url, data = payload, headers = dict(referer = login_url))"
   ]
  },
  {
   "cell_type": "markdown",
   "metadata": {},
   "source": [
    "## Step 3: Scrape content"
   ]
  },
  {
   "cell_type": "markdown",
   "metadata": {},
   "source": [
    "Now, that we were able to successfully login, we will perform the actual scraping from [bitbucket dashboard page](https://bitbucket.org/dashboard/overview)"
   ]
  },
  {
   "cell_type": "code",
   "execution_count": 22,
   "metadata": {},
   "outputs": [],
   "source": [
    "url = 'https://bitbucket.org/dashboard/repositories'\n",
    "result = session_requests.get(url, headers = dict(referer = url))"
   ]
  },
  {
   "cell_type": "markdown",
   "metadata": {},
   "source": [
    "In order to test this, let's scrape the list of projects from the bitbucket dasboard page. Again, we will use xpath to find the target elements and print out the results. If everything went OK, the output should be the list of buckets / project that are in your bitbucket account."
   ]
  },
  {
   "cell_type": "code",
   "execution_count": 24,
   "metadata": {},
   "outputs": [
    {
     "name": "stdout",
     "output_type": "stream",
     "text": [
      "['Scrape Test']\n"
     ]
    }
   ],
   "source": [
    "tree = html.fromstring(result.content)\n",
    "bucket_names = tree.xpath(\"//div[@class='repo-list--repo']/a/text()\")\n",
    "\n",
    "print(bucket_names)"
   ]
  },
  {
   "cell_type": "markdown",
   "metadata": {},
   "source": [
    "You can also validate the requests results by checking the returned status code from each request. It won't always let you know that the login phase was successful but it can be used as an indicator.\n",
    "\n",
    "For example"
   ]
  },
  {
   "cell_type": "code",
   "execution_count": 27,
   "metadata": {},
   "outputs": [
    {
     "name": "stdout",
     "output_type": "stream",
     "text": [
      "True\n",
      "200\n"
     ]
    }
   ],
   "source": [
    "print(result.ok) # Will tell us if the last request was ok\n",
    "print(result.status_code) # Will give us the status from the last request"
   ]
  },
  {
   "cell_type": "markdown",
   "metadata": {},
   "source": [
    "That's it.\n",
    "\n",
    "Full code sample can be found on [GitHub](https://github.com/kazuar/login_scraper_example)."
   ]
  }
 ],
 "metadata": {
  "anaconda-cloud": {},
  "kernelspec": {
   "display_name": "Python [default]",
   "language": "python",
   "name": "python3"
  },
  "language_info": {
   "codemirror_mode": {
    "name": "ipython",
    "version": 3
   },
   "file_extension": ".py",
   "mimetype": "text/x-python",
   "name": "python",
   "nbconvert_exporter": "python",
   "pygments_lexer": "ipython3",
   "version": "3.5.5"
  },
  "varInspector": {
   "cols": {
    "lenName": 16,
    "lenType": 16,
    "lenVar": 40
   },
   "kernels_config": {
    "python": {
     "delete_cmd_postfix": "",
     "delete_cmd_prefix": "del ",
     "library": "var_list.py",
     "varRefreshCmd": "print(var_dic_list())"
    },
    "r": {
     "delete_cmd_postfix": ") ",
     "delete_cmd_prefix": "rm(",
     "library": "var_list.r",
     "varRefreshCmd": "cat(var_dic_list()) "
    }
   },
   "types_to_exclude": [
    "module",
    "function",
    "builtin_function_or_method",
    "instance",
    "_Feature"
   ],
   "window_display": false
  }
 },
 "nbformat": 4,
 "nbformat_minor": 2
}

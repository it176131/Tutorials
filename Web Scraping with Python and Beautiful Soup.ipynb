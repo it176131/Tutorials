{
 "cells": [
  {
   "cell_type": "markdown",
   "metadata": {
    "heading_collapsed": true
   },
   "source": [
    "# [Learn to love web scraping with Python and BeautifulSoup](http://altitudelabs.com/blog/web-scraping-with-python-and-beautiful-soup/)"
   ]
  },
  {
   "cell_type": "markdown",
   "metadata": {
    "hidden": true
   },
   "source": [
    "The Internet provides abundant sources of information for professionals and enthusiasts from various industries. Extracting data from websites, however, can be tedious, especially if you need to repeatedly retrieve data in the same format everyday.\n",
    "\n",
    "That's where web scraping comes in. Web scraping is automating the extraction of data into a format so that you can easily analyze or make use of it. In this particular use case we detail below, we focus these techniques on financial market uses, but they can be easily adapted and utilized for regular data extraction on other websites for different industries.\n",
    "\n",
    "If you follow the stock market, getting closing prices everyday can be a pain, especially when you have to open several webpages to record them regularly. So in this article, we will show you how to make your data extraction easier by building your own web scraper to retrieve stock indices automatically from the Internet using **Python** to help us group the data."
   ]
  },
  {
   "cell_type": "markdown",
   "metadata": {
    "heading_collapsed": true,
    "hidden": true
   },
   "source": [
    "## Getting Setup"
   ]
  },
  {
   "cell_type": "markdown",
   "metadata": {
    "hidden": true
   },
   "source": [
    "We are going to use **Python** as our scraping language, together with a simple and powerful library, **BeautifulSoup**.\n",
    "* For MAC users, **Python** is pre-installed in OSX. Open up your **Terminal** and type `python --version`. You should see your python version is 2.7.x.\n",
    "* For Windows users, please install **Python** through the official website [here](https://www.python.org/downloads/).\n",
    "\n",
    "Next we need to get the **BeautifulSoup** library using `pip`, a package management tool for **Python**.\n",
    "\n",
    "In terminal, type\n",
    "> `easy_install pip`\n",
    "\n",
    "> `pip install BeautifulSoup4`\n",
    "\n",
    "**Note:** If you fail to execute the above command line, try adding `sudo` in front of each line."
   ]
  },
  {
   "cell_type": "markdown",
   "metadata": {
    "heading_collapsed": true,
    "hidden": true
   },
   "source": [
    "## Before We Start"
   ]
  },
  {
   "cell_type": "markdown",
   "metadata": {
    "hidden": true
   },
   "source": [
    "Before we start jumping into the code, let's understand the basics of HTML and some rules of scraping."
   ]
  },
  {
   "cell_type": "markdown",
   "metadata": {
    "heading_collapsed": true,
    "hidden": true
   },
   "source": [
    "### HTML tags"
   ]
  },
  {
   "cell_type": "markdown",
   "metadata": {
    "hidden": true
   },
   "source": [
    "If you already know the basics of HTML tags, feel free to skip this part."
   ]
  },
  {
   "cell_type": "raw",
   "metadata": {
    "hidden": true
   },
   "source": [
    "<!DOCTYPE html>\n",
    "<html>\n",
    "    <head>\n",
    "    </head>\n",
    "    <body>\n",
    "        <h1> First Scraping </h1>\n",
    "        <p> Hello World </p>\n",
    "    <body>\n",
    "</html>"
   ]
  },
  {
   "cell_type": "markdown",
   "metadata": {
    "hidden": true
   },
   "source": [
    "This is the basic syntax of a HTML webpage. Every `<tag>` serves a block inside the webpage:\n",
    "1. `<!DOCTYPE html>`: HTML documents must start with a type declaration.\n",
    "2. The HTML document is contained between `<html>` and `</html>`.\n",
    "3. The meta and script declaration of the HTML document is between `<head>` and `</head>`.\n",
    "4. The visible part of the HTML document is between `<body>` and `</body>`.\n",
    "5. Title headings are defined with the `<h1>` to `<h6>` tags.\n",
    "6. Paragraphs are defined with the `<p>` tag.\n",
    "\n",
    "There are other useful tags like `<a>` for hyperlinks, `<table>` for tables, with `<tr>` for rows and `<td>` for columns.\n",
    "    \n",
    "Also, HTML tags sometimes come with `id` and `class` as attributes. The `id` attributes specifies a unique id for an HTML tag and the value must be unique within the HTML document. The `class` attribute is used to define equal styles for HTML tags with same class. We can make use of these ids and classes to help us locate the data we want.\n",
    "\n",
    "For more information on HTML [tags](http://www.w3schools.com/html/), [id](http://www.w3schools.com/tags/att_global_id.asp) and [class](http://www.w3schools.com/html/html_classes.asp), please refer to [W3Schools Tutorials](http://www.w3schools.com/)."
   ]
  },
  {
   "cell_type": "markdown",
   "metadata": {
    "heading_collapsed": true,
    "hidden": true
   },
   "source": [
    "### Scraping Rules"
   ]
  },
  {
   "cell_type": "markdown",
   "metadata": {
    "hidden": true
   },
   "source": [
    "1. You should check a website's **Terms and Conditions** before you scrape them. Be careful to read the statements about legal use of data, as usually, the data you scrape should not be used for commercial purposes.\n",
    "2. Do not request data from the website too aggressively with your program (also known as spamming), as this may break the website. Make sure your program behaves in a reasonable manner (i.e. acts like a human), one request for one webpage per second is good practice.\n",
    "3. The layout of a website may change from time to time, so make sure to revisit the site and rewrite your code as needed."
   ]
  },
  {
   "cell_type": "markdown",
   "metadata": {
    "heading_collapsed": true,
    "hidden": true
   },
   "source": [
    "## Inspecting the Page"
   ]
  },
  {
   "cell_type": "markdown",
   "metadata": {
    "hidden": true
   },
   "source": [
    "Let's take one page from the [Bloomberg Quote](http://www.bloomberg.com/quote/SPX:IND) website as an example.\n",
    "\n",
    "As someone following the stock market, we would like to get the index name (S&P 500) and its price from this page. First **right-click** and open your browser's **inpsector** to inspect the webpage.\n",
    "<img src = 'http://altitudelabs.com/blog/content/images/2016/03/Screen-Shot-2016-03-13-at-12-47-23.png'>\n",
    "Try hovering your cursor on the price and you should be able to see a blue box surrounding it. Click and the related HTML will be selected in the browser console.\n",
    "<img src = 'http://altitudelabs.com/blog/content/images/2016/03/Screen-Shot-2016-03-13-at-12-48-11.png'>\n",
    "From the result, we can see that the price is inside a few levels of HTML tags, which is\n",
    "\n",
    "`<div class=\"basic-quote\">` $\\rightarrow$ `<div class=\"price-container up\">` $\\rightarrow$ `<div class=\"price\">`\n",
    "\n",
    "Similarly, if you hover and click the name \"S&P 500 Index\", it is inside `<div class=\"basic-quote\">` and `<h1 class=\"name\">`\n",
    "<img src = 'http://altitudelabs.com/blog/content/images/2016/03/Screen-Shot-2016-03-13-at-12-51-04.png'>\n",
    "Now we know the unique location of our data with the help of `id` and `class` (though in this case, Bloomberg do not use `id`)."
   ]
  },
  {
   "cell_type": "markdown",
   "metadata": {
    "heading_collapsed": true,
    "hidden": true
   },
   "source": [
    "## Jump into the Code"
   ]
  },
  {
   "cell_type": "markdown",
   "metadata": {
    "hidden": true
   },
   "source": [
    "Now that we know where our data is, we can start coding our web scraper. **Open your text editor now!**\n",
    "\n",
    "First, we need to import all the libraries that we are going to use."
   ]
  },
  {
   "cell_type": "code",
   "execution_count": 11,
   "metadata": {
    "hidden": true
   },
   "outputs": [],
   "source": [
    "# import libraries\n",
    "from urllib import request # replaced urllib2\n",
    "from bs4 import BeautifulSoup"
   ]
  },
  {
   "cell_type": "markdown",
   "metadata": {
    "hidden": true
   },
   "source": [
    "Next, declare a variable for the url of the page."
   ]
  },
  {
   "cell_type": "code",
   "execution_count": 12,
   "metadata": {
    "hidden": true
   },
   "outputs": [],
   "source": [
    "# specify the url\n",
    "quote_page = 'https://www.bloomberg.com/quote/SPX:IND'"
   ]
  },
  {
   "cell_type": "markdown",
   "metadata": {
    "hidden": true
   },
   "source": [
    "Then, make use of the **Python urllib.request** to get the HTML page of the url declared."
   ]
  },
  {
   "cell_type": "code",
   "execution_count": 13,
   "metadata": {
    "hidden": true
   },
   "outputs": [],
   "source": [
    "# query the website and return the html to the variable 'page'\n",
    "page = request.urlopen(quote_page)"
   ]
  },
  {
   "cell_type": "markdown",
   "metadata": {
    "hidden": true
   },
   "source": [
    "Finally, parse the page into BeautifulSoup format so we can use **BeautifulSoup** to work on it."
   ]
  },
  {
   "cell_type": "code",
   "execution_count": 15,
   "metadata": {
    "hidden": true
   },
   "outputs": [],
   "source": [
    "# parse the html using beautiful soup and store in variable 'soup'\n",
    "soup = BeautifulSoup(page, 'html.parser')"
   ]
  },
  {
   "cell_type": "markdown",
   "metadata": {
    "hidden": true
   },
   "source": [
    "now we have a variable `soup` containing the HTML of the page. Here's where we can start coding the part that extracts the data.\n",
    "\n",
    "Remember the unique layers of our data? **BeautifulSoup** can help us get into these layers and extract the content out easily by using `find()`. In this case, since the HTML tag of name is very unique on this page, we can simple query `<div class=\"name\">`."
   ]
  },
  {
   "cell_type": "code",
   "execution_count": 17,
   "metadata": {
    "hidden": true
   },
   "outputs": [],
   "source": [
    "# Take out the <div> of name and get its value\n",
    "name_box = soup.find('h1', attrs = {'class' : 'name'})"
   ]
  },
  {
   "cell_type": "markdown",
   "metadata": {
    "hidden": true
   },
   "source": [
    "After we have the tag, we can get the data by getting its `text`."
   ]
  },
  {
   "cell_type": "code",
   "execution_count": 19,
   "metadata": {
    "hidden": true
   },
   "outputs": [
    {
     "name": "stdout",
     "output_type": "stream",
     "text": [
      "S&P 500 Index\n"
     ]
    }
   ],
   "source": [
    "name = name_box.text.strip() # strip() is used to remove starting and trailing white space\n",
    "print(name)"
   ]
  },
  {
   "cell_type": "markdown",
   "metadata": {
    "hidden": true
   },
   "source": [
    "Similarly, we can get the price too."
   ]
  },
  {
   "cell_type": "code",
   "execution_count": 20,
   "metadata": {
    "hidden": true
   },
   "outputs": [
    {
     "name": "stdout",
     "output_type": "stream",
     "text": [
      "2,610.80\n"
     ]
    }
   ],
   "source": [
    "# get the index price\n",
    "price_box = soup.find('div', attrs = {'class' : 'price'})\n",
    "price = price_box.text\n",
    "print(price)"
   ]
  },
  {
   "cell_type": "markdown",
   "metadata": {
    "hidden": true
   },
   "source": [
    "When you run the program, you should be able to see that it prints out the current price of the S&P 500 Index.\n",
    "<img src = 'http://altitudelabs.com/blog/content/images/2016/03/Screen-Shot-2016-03-13-at-13-08-55.png'>"
   ]
  },
  {
   "cell_type": "markdown",
   "metadata": {
    "heading_collapsed": true,
    "hidden": true
   },
   "source": [
    "## Export to Excel CSV"
   ]
  },
  {
   "cell_type": "markdown",
   "metadata": {
    "hidden": true
   },
   "source": [
    "Now that we have the data, it is time to save it. The Excel Comma Separated Format is a nice choice, as it can be opened in Excel so you can see the data and process it easily.\n",
    "\n",
    "But first, we have to import the **Python csv module** and the **datetime module** to get the record date. Insert these lines to your code in the import section."
   ]
  },
  {
   "cell_type": "code",
   "execution_count": 21,
   "metadata": {
    "hidden": true
   },
   "outputs": [],
   "source": [
    "import csv\n",
    "from datetime import datetime"
   ]
  },
  {
   "cell_type": "markdown",
   "metadata": {
    "hidden": true
   },
   "source": [
    "At the bottom of your code, add the code for writing data to a csv file."
   ]
  },
  {
   "cell_type": "code",
   "execution_count": 22,
   "metadata": {
    "hidden": true
   },
   "outputs": [],
   "source": [
    "# open a csv file with append, so old data will not be erased\n",
    "with open('index.csv', 'a') as csv_file:\n",
    "    writer = csv.writer(csv_file)\n",
    "    writer.writerow([name, price, datetime.now()])"
   ]
  },
  {
   "cell_type": "markdown",
   "metadata": {
    "hidden": true
   },
   "source": [
    "Now if you run the program, you should be able to export a `index.csv` file, which you can then open with Excel, where you should see a line of data.\n",
    "<img src = 'http://altitudelabs.com/blog/content/images/2016/03/Screen-Shot-2016-03-13-at-13-18-59.png'>"
   ]
  },
  {
   "cell_type": "markdown",
   "metadata": {
    "heading_collapsed": true,
    "hidden": true
   },
   "source": [
    "## Going Further (Advanced uses)"
   ]
  },
  {
   "cell_type": "markdown",
   "metadata": {
    "heading_collapsed": true,
    "hidden": true
   },
   "source": [
    "### Multiple Indices?"
   ]
  },
  {
   "cell_type": "markdown",
   "metadata": {
    "hidden": true
   },
   "source": [
    "So scraping one index is not enough for you, right? We can try to extract multiple indices at the same time.\n",
    "\n",
    "First, modify the `quote_page` into an array of URLs."
   ]
  },
  {
   "cell_type": "code",
   "execution_count": 24,
   "metadata": {
    "hidden": true
   },
   "outputs": [],
   "source": [
    "quote_page = ['https://www.bloomberg.com/quote/SPX:IND', 'https://www.bloomberg.com/quote/CCMP:IND']"
   ]
  },
  {
   "cell_type": "markdown",
   "metadata": {
    "hidden": true
   },
   "source": [
    "Then we change the data extraction code into a 'for loop', which will process the URLs one by one and store all the data into a variable `data` in tuples."
   ]
  },
  {
   "cell_type": "code",
   "execution_count": 26,
   "metadata": {
    "hidden": true
   },
   "outputs": [],
   "source": [
    "# for loop\n",
    "data = []\n",
    "for pg in quote_page:\n",
    "#     query the website and return the html to the variable `page`\n",
    "    page = request.urlopen(pg)\n",
    "    \n",
    "#     parse the html using beautiful soup and store in variable `soup`\n",
    "    soup = BeautifulSoup(page, 'html.parser')\n",
    "    \n",
    "#     Take out the <div> of name and get its value\n",
    "    name_box = soup.find('h1', attrs = {'class' : 'name'})\n",
    "    name = name_box.text.strip() # strip() is used to remove starting and trailing white space\n",
    "    \n",
    "#     get the index price\n",
    "    price_box = soup.find('div', attrs = {'class' : 'price'})\n",
    "    price = price_box.text\n",
    "    \n",
    "#     save the data in tuple\n",
    "    data.append((name, price))"
   ]
  },
  {
   "cell_type": "markdown",
   "metadata": {
    "hidden": true
   },
   "source": [
    "Rerun the program and you should be able to extract two indices at the same time!"
   ]
  },
  {
   "cell_type": "markdown",
   "metadata": {
    "heading_collapsed": true,
    "hidden": true
   },
   "source": [
    "## Advance Scraping Techniques"
   ]
  },
  {
   "cell_type": "markdown",
   "metadata": {
    "hidden": true
   },
   "source": [
    "**BeautifulSoup** is simple and great for small-scale web scraping. But if you are interested in scraping data at a larger scale, you should consider using these other alternatives:\n",
    "1. [Scrapy](http://scrapy.org/), a powerful python scraping framework\n",
    "2. Try to integrate your code with some public APIs. The efficiency of data retrieval is much higher than scraping webpages. For example, take a look at [Facebook Graph API](https://developers.facebook.com/docs/graph-api), which can help you get hidden data which is not shown on Facebook webpages.\n",
    "3. Consider using a database backend like [MySQL](https://www.mysql.com/) to store your data when it gets too large."
   ]
  },
  {
   "cell_type": "markdown",
   "metadata": {
    "heading_collapsed": true,
    "hidden": true
   },
   "source": [
    "## Adopt the DRY Method"
   ]
  },
  {
   "cell_type": "markdown",
   "metadata": {
    "hidden": true
   },
   "source": [
    "DRY stands for \"Don't Repeat Yourself\", try to automate your everyday tasks like this person ([LINK](http://www.businessinsider.com/programmer-automates-his-job-2015-11)). Some other fun projects to consider might be keeping track of your Facebook friend's active time (with their consent of course), or grabbing a list of topics in a forum and trying out natural language processing (which is a hot topic for Artificial Intelligence right now)!\n",
    "\n",
    "If you have any questions, please feel free to leave a comment below."
   ]
  },
  {
   "cell_type": "markdown",
   "metadata": {
    "heading_collapsed": true,
    "hidden": true
   },
   "source": [
    "### References"
   ]
  },
  {
   "cell_type": "markdown",
   "metadata": {
    "hidden": true
   },
   "source": [
    "* http://www.gregreda.com/2013/03/03/web-scraping-101-with-python/\n",
    "* http://www.analyticsvidhya.com/blog/2015/10/beginner-guide-web-scraping-beautiful-soup-python/"
   ]
  }
 ],
 "metadata": {
  "anaconda-cloud": {},
  "kernelspec": {
   "display_name": "Python [default]",
   "language": "python",
   "name": "python3"
  },
  "language_info": {
   "codemirror_mode": {
    "name": "ipython",
    "version": 3
   },
   "file_extension": ".py",
   "mimetype": "text/x-python",
   "name": "python",
   "nbconvert_exporter": "python",
   "pygments_lexer": "ipython3",
   "version": "3.5.5"
  },
  "varInspector": {
   "cols": {
    "lenName": 16,
    "lenType": 16,
    "lenVar": 40
   },
   "kernels_config": {
    "python": {
     "delete_cmd_postfix": "",
     "delete_cmd_prefix": "del ",
     "library": "var_list.py",
     "varRefreshCmd": "print(var_dic_list())"
    },
    "r": {
     "delete_cmd_postfix": ") ",
     "delete_cmd_prefix": "rm(",
     "library": "var_list.r",
     "varRefreshCmd": "cat(var_dic_list()) "
    }
   },
   "types_to_exclude": [
    "module",
    "function",
    "builtin_function_or_method",
    "instance",
    "_Feature"
   ],
   "window_display": false
  }
 },
 "nbformat": 4,
 "nbformat_minor": 2
}

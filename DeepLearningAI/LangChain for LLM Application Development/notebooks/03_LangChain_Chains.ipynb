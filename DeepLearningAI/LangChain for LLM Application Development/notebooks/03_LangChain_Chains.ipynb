{
 "cells": [
  {
   "cell_type": "markdown",
   "id": "bdfbff51-4599-43ff-b312-03e228324ab2",
   "metadata": {},
   "source": [
    "The most important key building block in `LangChain` is the `chain`.\n",
    "A `chain` usually combines an LLM with a prompt, but also allows us to combine other chains and perform several operations on text.\n",
    "One of the powers of a `chain` is running it over many inputs at a time."
   ]
  },
  {
   "cell_type": "markdown",
   "id": "2fbdda14-828e-488d-8505-2e8baeedb2ec",
   "metadata": {},
   "source": [
    "# `LLMChain`"
   ]
  },
  {
   "cell_type": "markdown",
   "id": "9ce1c030-a023-4b70-bcc1-788e9a7a3526",
   "metadata": {},
   "source": [
    "The `LLMChain` is a simple, but powerful chain that underpins a lot of the chains covered in this lesson."
   ]
  },
  {
   "cell_type": "code",
   "execution_count": 1,
   "id": "b60b498c-e11a-4ec7-afbd-daf64250f9f5",
   "metadata": {},
   "outputs": [],
   "source": [
    "from langchain.chains import LLMChain\n",
    "from langchain.chat_models import AzureChatOpenAI\n",
    "from langchain.prompts import ChatPromptTemplate"
   ]
  },
  {
   "cell_type": "code",
   "execution_count": 2,
   "id": "1b82e217-ad3c-4374-a132-8ff05f388cf4",
   "metadata": {},
   "outputs": [],
   "source": [
    "api_version = \"2023-12-01-preview\"\n",
    "model = \"gpt-35-turbo-16k\""
   ]
  },
  {
   "cell_type": "markdown",
   "id": "4f19e542-bfbc-4ec1-877d-7703a185d2f1",
   "metadata": {},
   "source": [
    "We initialize our model with a high temperature to elicit more randomness (\"creativity\") in the response."
   ]
  },
  {
   "cell_type": "code",
   "execution_count": 3,
   "id": "9d117cc9-a06a-4257-840b-7cc0a995e998",
   "metadata": {},
   "outputs": [],
   "source": [
    "chat = AzureChatOpenAI(model=model, temperature=0.9, api_version=api_version)"
   ]
  },
  {
   "cell_type": "code",
   "execution_count": 4,
   "id": "7d01146d-7391-4877-813c-8cbf6001e13c",
   "metadata": {},
   "outputs": [],
   "source": [
    "prompt = ChatPromptTemplate.from_template(\n",
    "    template=\"What is the best name to describe a company that makes {product}?\"\n",
    ")"
   ]
  },
  {
   "cell_type": "markdown",
   "id": "bd0b68cb-9ee5-4a92-9c28-b16ba91776f8",
   "metadata": {},
   "source": [
    "We combine the prompt and the model using the `LLMChain`."
   ]
  },
  {
   "cell_type": "code",
   "execution_count": 5,
   "id": "cda5adc0-44cf-4b22-896d-d348fd11c955",
   "metadata": {},
   "outputs": [],
   "source": [
    "chain = LLMChain(prompt=prompt, llm=chat)"
   ]
  },
  {
   "cell_type": "markdown",
   "id": "e59bd968-4462-477a-b9ec-56c048e637ee",
   "metadata": {},
   "source": [
    "We can run the chain by providing an input to the `run` method."
   ]
  },
  {
   "cell_type": "code",
   "execution_count": 6,
   "id": "13a6f91d-c8d6-4a78-94c0-b95aec8b2bf7",
   "metadata": {},
   "outputs": [
    {
     "data": {
      "text/plain": [
       "'\"Regal Rest Linens\"'"
      ]
     },
     "execution_count": 6,
     "metadata": {},
     "output_type": "execute_result"
    }
   ],
   "source": [
    "product = \"Queen Size Sheet Set\"\n",
    "chain.run(product)"
   ]
  },
  {
   "cell_type": "markdown",
   "id": "9ffdcd40-32fd-4663-b0aa-9f72ba2a0aa0",
   "metadata": {},
   "source": [
    "# `SimpleSequentialChain`"
   ]
  },
  {
   "cell_type": "markdown",
   "id": "05147575-d03a-4ca5-8687-77b6cb5693d8",
   "metadata": {},
   "source": [
    "The `LLMChain` is the most simple, basic type of chain in `LangChain`.\n",
    "The `SimpleSequentialChain` runs a sequence of chains one after another.\n",
    "This works well when we have chains that expect one input and return one output."
   ]
  },
  {
   "cell_type": "code",
   "execution_count": 7,
   "id": "164aeb27-802a-4ce7-aac8-a18e76e0b5a7",
   "metadata": {},
   "outputs": [],
   "source": [
    "from langchain.chains import SimpleSequentialChain"
   ]
  },
  {
   "cell_type": "markdown",
   "id": "39a83d4c-bf7c-46a6-9a4a-604c47ad138a",
   "metadata": {},
   "source": [
    "To demonstrate, we'll treat our prior `LLMChain` as our first chain in a sequence of chains."
   ]
  },
  {
   "cell_type": "code",
   "execution_count": 8,
   "id": "7198041b-7f59-4ce1-8ac9-9e98f1f2cffd",
   "metadata": {},
   "outputs": [],
   "source": [
    "chain_one = chain.copy()"
   ]
  },
  {
   "cell_type": "markdown",
   "id": "51fdecba-cf92-4ac8-b553-1f75bed7274b",
   "metadata": {},
   "source": [
    "Now we create a second chain to take the output of the first chain (`chain_one`), a company name, and pass it into a second chain."
   ]
  },
  {
   "cell_type": "code",
   "execution_count": 9,
   "id": "20b32aaf-1154-4566-a80c-5d743109cf24",
   "metadata": {},
   "outputs": [],
   "source": [
    "second_prompt = ChatPromptTemplate.from_template(\n",
    "    template=\"Write a 20 word description for the following company: {company_name}\"\n",
    ")\n",
    "\n",
    "chain_two = LLMChain(prompt=second_prompt, llm=chat)"
   ]
  },
  {
   "cell_type": "markdown",
   "id": "413c8ea8-f766-4a1e-b72c-0786bcf29b59",
   "metadata": {},
   "source": [
    "We supply both chains to `SimpleSequentialChain` in the order we want to run."
   ]
  },
  {
   "cell_type": "code",
   "execution_count": 10,
   "id": "63c9da46-a554-467f-bb68-1546125b73e9",
   "metadata": {},
   "outputs": [],
   "source": [
    "simple_chain = SimpleSequentialChain(chains=[chain_one, chain_two], verbose=True)"
   ]
  },
  {
   "cell_type": "markdown",
   "id": "51da2207-aed3-4210-b11c-93055e7100fc",
   "metadata": {},
   "source": [
    "We run the `simple_chain` like any other chain using the `run` method.\n",
    "Remember that we are inputting a product as that is what the first chain (`chain_one`) expects."
   ]
  },
  {
   "cell_type": "code",
   "execution_count": 11,
   "id": "945c116b-7b8c-4646-a130-45d4822f0918",
   "metadata": {
    "scrolled": true
   },
   "outputs": [
    {
     "name": "stdout",
     "output_type": "stream",
     "text": [
      "\n",
      "\n",
      "\u001b[1m> Entering new SimpleSequentialChain chain...\u001b[0m\n"
     ]
    },
    {
     "ename": "AttributeError",
     "evalue": "'LLMChain' object has no attribute 'callbacks'",
     "output_type": "error",
     "traceback": [
      "\u001b[1;31m---------------------------------------------------------------------------\u001b[0m",
      "\u001b[1;31mAttributeError\u001b[0m                            Traceback (most recent call last)",
      "Cell \u001b[1;32mIn[11], line 1\u001b[0m\n\u001b[1;32m----> 1\u001b[0m \u001b[43msimple_chain\u001b[49m\u001b[38;5;241;43m.\u001b[39;49m\u001b[43mrun\u001b[49m\u001b[43m(\u001b[49m\u001b[43mproduct\u001b[49m\u001b[43m)\u001b[49m\n",
      "File \u001b[1;32m~\\Sandbox\\PRIVATE-RAI\\env\\Lib\\site-packages\\langchain\\chains\\base.py:511\u001b[0m, in \u001b[0;36mChain.run\u001b[1;34m(self, callbacks, tags, metadata, *args, **kwargs)\u001b[0m\n\u001b[0;32m    509\u001b[0m     \u001b[38;5;28;01mif\u001b[39;00m \u001b[38;5;28mlen\u001b[39m(args) \u001b[38;5;241m!=\u001b[39m \u001b[38;5;241m1\u001b[39m:\n\u001b[0;32m    510\u001b[0m         \u001b[38;5;28;01mraise\u001b[39;00m \u001b[38;5;167;01mValueError\u001b[39;00m(\u001b[38;5;124m\"\u001b[39m\u001b[38;5;124m`run` supports only one positional argument.\u001b[39m\u001b[38;5;124m\"\u001b[39m)\n\u001b[1;32m--> 511\u001b[0m     \u001b[38;5;28;01mreturn\u001b[39;00m \u001b[38;5;28;43mself\u001b[39;49m\u001b[43m(\u001b[49m\u001b[43margs\u001b[49m\u001b[43m[\u001b[49m\u001b[38;5;241;43m0\u001b[39;49m\u001b[43m]\u001b[49m\u001b[43m,\u001b[49m\u001b[43m \u001b[49m\u001b[43mcallbacks\u001b[49m\u001b[38;5;241;43m=\u001b[39;49m\u001b[43mcallbacks\u001b[49m\u001b[43m,\u001b[49m\u001b[43m \u001b[49m\u001b[43mtags\u001b[49m\u001b[38;5;241;43m=\u001b[39;49m\u001b[43mtags\u001b[49m\u001b[43m,\u001b[49m\u001b[43m \u001b[49m\u001b[43mmetadata\u001b[49m\u001b[38;5;241;43m=\u001b[39;49m\u001b[43mmetadata\u001b[49m\u001b[43m)\u001b[49m[\n\u001b[0;32m    512\u001b[0m         _output_key\n\u001b[0;32m    513\u001b[0m     ]\n\u001b[0;32m    515\u001b[0m \u001b[38;5;28;01mif\u001b[39;00m kwargs \u001b[38;5;129;01mand\u001b[39;00m \u001b[38;5;129;01mnot\u001b[39;00m args:\n\u001b[0;32m    516\u001b[0m     \u001b[38;5;28;01mreturn\u001b[39;00m \u001b[38;5;28mself\u001b[39m(kwargs, callbacks\u001b[38;5;241m=\u001b[39mcallbacks, tags\u001b[38;5;241m=\u001b[39mtags, metadata\u001b[38;5;241m=\u001b[39mmetadata)[\n\u001b[0;32m    517\u001b[0m         _output_key\n\u001b[0;32m    518\u001b[0m     ]\n",
      "File \u001b[1;32m~\\Sandbox\\PRIVATE-RAI\\env\\Lib\\site-packages\\langchain\\chains\\base.py:316\u001b[0m, in \u001b[0;36mChain.__call__\u001b[1;34m(self, inputs, return_only_outputs, callbacks, tags, metadata, run_name, include_run_info)\u001b[0m\n\u001b[0;32m    314\u001b[0m \u001b[38;5;28;01mexcept\u001b[39;00m \u001b[38;5;167;01mBaseException\u001b[39;00m \u001b[38;5;28;01mas\u001b[39;00m e:\n\u001b[0;32m    315\u001b[0m     run_manager\u001b[38;5;241m.\u001b[39mon_chain_error(e)\n\u001b[1;32m--> 316\u001b[0m     \u001b[38;5;28;01mraise\u001b[39;00m e\n\u001b[0;32m    317\u001b[0m run_manager\u001b[38;5;241m.\u001b[39mon_chain_end(outputs)\n\u001b[0;32m    318\u001b[0m final_outputs: Dict[\u001b[38;5;28mstr\u001b[39m, Any] \u001b[38;5;241m=\u001b[39m \u001b[38;5;28mself\u001b[39m\u001b[38;5;241m.\u001b[39mprep_outputs(\n\u001b[0;32m    319\u001b[0m     inputs, outputs, return_only_outputs\n\u001b[0;32m    320\u001b[0m )\n",
      "File \u001b[1;32m~\\Sandbox\\PRIVATE-RAI\\env\\Lib\\site-packages\\langchain\\chains\\base.py:310\u001b[0m, in \u001b[0;36mChain.__call__\u001b[1;34m(self, inputs, return_only_outputs, callbacks, tags, metadata, run_name, include_run_info)\u001b[0m\n\u001b[0;32m    303\u001b[0m run_manager \u001b[38;5;241m=\u001b[39m callback_manager\u001b[38;5;241m.\u001b[39mon_chain_start(\n\u001b[0;32m    304\u001b[0m     dumpd(\u001b[38;5;28mself\u001b[39m),\n\u001b[0;32m    305\u001b[0m     inputs,\n\u001b[0;32m    306\u001b[0m     name\u001b[38;5;241m=\u001b[39mrun_name,\n\u001b[0;32m    307\u001b[0m )\n\u001b[0;32m    308\u001b[0m \u001b[38;5;28;01mtry\u001b[39;00m:\n\u001b[0;32m    309\u001b[0m     outputs \u001b[38;5;241m=\u001b[39m (\n\u001b[1;32m--> 310\u001b[0m         \u001b[38;5;28;43mself\u001b[39;49m\u001b[38;5;241;43m.\u001b[39;49m\u001b[43m_call\u001b[49m\u001b[43m(\u001b[49m\u001b[43minputs\u001b[49m\u001b[43m,\u001b[49m\u001b[43m \u001b[49m\u001b[43mrun_manager\u001b[49m\u001b[38;5;241;43m=\u001b[39;49m\u001b[43mrun_manager\u001b[49m\u001b[43m)\u001b[49m\n\u001b[0;32m    311\u001b[0m         \u001b[38;5;28;01mif\u001b[39;00m new_arg_supported\n\u001b[0;32m    312\u001b[0m         \u001b[38;5;28;01melse\u001b[39;00m \u001b[38;5;28mself\u001b[39m\u001b[38;5;241m.\u001b[39m_call(inputs)\n\u001b[0;32m    313\u001b[0m     )\n\u001b[0;32m    314\u001b[0m \u001b[38;5;28;01mexcept\u001b[39;00m \u001b[38;5;167;01mBaseException\u001b[39;00m \u001b[38;5;28;01mas\u001b[39;00m e:\n\u001b[0;32m    315\u001b[0m     run_manager\u001b[38;5;241m.\u001b[39mon_chain_error(e)\n",
      "File \u001b[1;32m~\\Sandbox\\PRIVATE-RAI\\env\\Lib\\site-packages\\langchain\\chains\\sequential.py:180\u001b[0m, in \u001b[0;36mSimpleSequentialChain._call\u001b[1;34m(self, inputs, run_manager)\u001b[0m\n\u001b[0;32m    178\u001b[0m color_mapping \u001b[38;5;241m=\u001b[39m get_color_mapping([\u001b[38;5;28mstr\u001b[39m(i) \u001b[38;5;28;01mfor\u001b[39;00m i \u001b[38;5;129;01min\u001b[39;00m \u001b[38;5;28mrange\u001b[39m(\u001b[38;5;28mlen\u001b[39m(\u001b[38;5;28mself\u001b[39m\u001b[38;5;241m.\u001b[39mchains))])\n\u001b[0;32m    179\u001b[0m \u001b[38;5;28;01mfor\u001b[39;00m i, chain \u001b[38;5;129;01min\u001b[39;00m \u001b[38;5;28menumerate\u001b[39m(\u001b[38;5;28mself\u001b[39m\u001b[38;5;241m.\u001b[39mchains):\n\u001b[1;32m--> 180\u001b[0m     _input \u001b[38;5;241m=\u001b[39m \u001b[43mchain\u001b[49m\u001b[38;5;241;43m.\u001b[39;49m\u001b[43mrun\u001b[49m\u001b[43m(\u001b[49m\u001b[43m_input\u001b[49m\u001b[43m,\u001b[49m\u001b[43m \u001b[49m\u001b[43mcallbacks\u001b[49m\u001b[38;5;241;43m=\u001b[39;49m\u001b[43m_run_manager\u001b[49m\u001b[38;5;241;43m.\u001b[39;49m\u001b[43mget_child\u001b[49m\u001b[43m(\u001b[49m\u001b[38;5;124;43mf\u001b[39;49m\u001b[38;5;124;43m\"\u001b[39;49m\u001b[38;5;124;43mstep_\u001b[39;49m\u001b[38;5;132;43;01m{\u001b[39;49;00m\u001b[43mi\u001b[49m\u001b[38;5;241;43m+\u001b[39;49m\u001b[38;5;241;43m1\u001b[39;49m\u001b[38;5;132;43;01m}\u001b[39;49;00m\u001b[38;5;124;43m\"\u001b[39;49m\u001b[43m)\u001b[49m\u001b[43m)\u001b[49m\n\u001b[0;32m    181\u001b[0m     \u001b[38;5;28;01mif\u001b[39;00m \u001b[38;5;28mself\u001b[39m\u001b[38;5;241m.\u001b[39mstrip_outputs:\n\u001b[0;32m    182\u001b[0m         _input \u001b[38;5;241m=\u001b[39m _input\u001b[38;5;241m.\u001b[39mstrip()\n",
      "File \u001b[1;32m~\\Sandbox\\PRIVATE-RAI\\env\\Lib\\site-packages\\langchain\\chains\\base.py:511\u001b[0m, in \u001b[0;36mChain.run\u001b[1;34m(self, callbacks, tags, metadata, *args, **kwargs)\u001b[0m\n\u001b[0;32m    509\u001b[0m     \u001b[38;5;28;01mif\u001b[39;00m \u001b[38;5;28mlen\u001b[39m(args) \u001b[38;5;241m!=\u001b[39m \u001b[38;5;241m1\u001b[39m:\n\u001b[0;32m    510\u001b[0m         \u001b[38;5;28;01mraise\u001b[39;00m \u001b[38;5;167;01mValueError\u001b[39;00m(\u001b[38;5;124m\"\u001b[39m\u001b[38;5;124m`run` supports only one positional argument.\u001b[39m\u001b[38;5;124m\"\u001b[39m)\n\u001b[1;32m--> 511\u001b[0m     \u001b[38;5;28;01mreturn\u001b[39;00m \u001b[38;5;28;43mself\u001b[39;49m\u001b[43m(\u001b[49m\u001b[43margs\u001b[49m\u001b[43m[\u001b[49m\u001b[38;5;241;43m0\u001b[39;49m\u001b[43m]\u001b[49m\u001b[43m,\u001b[49m\u001b[43m \u001b[49m\u001b[43mcallbacks\u001b[49m\u001b[38;5;241;43m=\u001b[39;49m\u001b[43mcallbacks\u001b[49m\u001b[43m,\u001b[49m\u001b[43m \u001b[49m\u001b[43mtags\u001b[49m\u001b[38;5;241;43m=\u001b[39;49m\u001b[43mtags\u001b[49m\u001b[43m,\u001b[49m\u001b[43m \u001b[49m\u001b[43mmetadata\u001b[49m\u001b[38;5;241;43m=\u001b[39;49m\u001b[43mmetadata\u001b[49m\u001b[43m)\u001b[49m[\n\u001b[0;32m    512\u001b[0m         _output_key\n\u001b[0;32m    513\u001b[0m     ]\n\u001b[0;32m    515\u001b[0m \u001b[38;5;28;01mif\u001b[39;00m kwargs \u001b[38;5;129;01mand\u001b[39;00m \u001b[38;5;129;01mnot\u001b[39;00m args:\n\u001b[0;32m    516\u001b[0m     \u001b[38;5;28;01mreturn\u001b[39;00m \u001b[38;5;28mself\u001b[39m(kwargs, callbacks\u001b[38;5;241m=\u001b[39mcallbacks, tags\u001b[38;5;241m=\u001b[39mtags, metadata\u001b[38;5;241m=\u001b[39mmetadata)[\n\u001b[0;32m    517\u001b[0m         _output_key\n\u001b[0;32m    518\u001b[0m     ]\n",
      "File \u001b[1;32m~\\Sandbox\\PRIVATE-RAI\\env\\Lib\\site-packages\\langchain\\chains\\base.py:295\u001b[0m, in \u001b[0;36mChain.__call__\u001b[1;34m(self, inputs, return_only_outputs, callbacks, tags, metadata, run_name, include_run_info)\u001b[0m\n\u001b[0;32m    267\u001b[0m \u001b[38;5;250m\u001b[39m\u001b[38;5;124;03m\"\"\"Execute the chain.\u001b[39;00m\n\u001b[0;32m    268\u001b[0m \n\u001b[0;32m    269\u001b[0m \u001b[38;5;124;03mArgs:\u001b[39;00m\n\u001b[1;32m   (...)\u001b[0m\n\u001b[0;32m    290\u001b[0m \u001b[38;5;124;03m        `Chain.output_keys`.\u001b[39;00m\n\u001b[0;32m    291\u001b[0m \u001b[38;5;124;03m\"\"\"\u001b[39;00m\n\u001b[0;32m    292\u001b[0m inputs \u001b[38;5;241m=\u001b[39m \u001b[38;5;28mself\u001b[39m\u001b[38;5;241m.\u001b[39mprep_inputs(inputs)\n\u001b[0;32m    293\u001b[0m callback_manager \u001b[38;5;241m=\u001b[39m CallbackManager\u001b[38;5;241m.\u001b[39mconfigure(\n\u001b[0;32m    294\u001b[0m     callbacks,\n\u001b[1;32m--> 295\u001b[0m     \u001b[38;5;28;43mself\u001b[39;49m\u001b[38;5;241;43m.\u001b[39;49m\u001b[43mcallbacks\u001b[49m,\n\u001b[0;32m    296\u001b[0m     \u001b[38;5;28mself\u001b[39m\u001b[38;5;241m.\u001b[39mverbose,\n\u001b[0;32m    297\u001b[0m     tags,\n\u001b[0;32m    298\u001b[0m     \u001b[38;5;28mself\u001b[39m\u001b[38;5;241m.\u001b[39mtags,\n\u001b[0;32m    299\u001b[0m     metadata,\n\u001b[0;32m    300\u001b[0m     \u001b[38;5;28mself\u001b[39m\u001b[38;5;241m.\u001b[39mmetadata,\n\u001b[0;32m    301\u001b[0m )\n\u001b[0;32m    302\u001b[0m new_arg_supported \u001b[38;5;241m=\u001b[39m inspect\u001b[38;5;241m.\u001b[39msignature(\u001b[38;5;28mself\u001b[39m\u001b[38;5;241m.\u001b[39m_call)\u001b[38;5;241m.\u001b[39mparameters\u001b[38;5;241m.\u001b[39mget(\u001b[38;5;124m\"\u001b[39m\u001b[38;5;124mrun_manager\u001b[39m\u001b[38;5;124m\"\u001b[39m)\n\u001b[0;32m    303\u001b[0m run_manager \u001b[38;5;241m=\u001b[39m callback_manager\u001b[38;5;241m.\u001b[39mon_chain_start(\n\u001b[0;32m    304\u001b[0m     dumpd(\u001b[38;5;28mself\u001b[39m),\n\u001b[0;32m    305\u001b[0m     inputs,\n\u001b[0;32m    306\u001b[0m     name\u001b[38;5;241m=\u001b[39mrun_name,\n\u001b[0;32m    307\u001b[0m )\n",
      "\u001b[1;31mAttributeError\u001b[0m: 'LLMChain' object has no attribute 'callbacks'"
     ]
    }
   ],
   "source": [
    "simple_chain.run(product)"
   ]
  },
  {
   "cell_type": "markdown",
   "id": "11227a7c-16d6-41cb-b063-147e11760f78",
   "metadata": {},
   "source": [
    "Nearly 200 versions of `LangChain` have come out since the the DeepLearningAI tutorial was created.\n",
    "After some searching on GitHub and StackOverflow, I haven't found a great answer to get around the following error:\n",
    "\n",
    "```python\n",
    "AttributeError: 'LLMChain' object has no attribute 'callbacks'\n",
    "```\n",
    "\n",
    "I could create different chains based on some prior experience, but the type would be `RunnableSequence` instead of `LLMChain`."
   ]
  },
  {
   "cell_type": "code",
   "execution_count": 12,
   "id": "b8465155-3c24-4e63-acb1-d5e7006ab7db",
   "metadata": {},
   "outputs": [
    {
     "data": {
      "text/plain": [
       "langchain.chains.llm.LLMChain"
      ]
     },
     "execution_count": 12,
     "metadata": {},
     "output_type": "execute_result"
    }
   ],
   "source": [
    "type(chain)"
   ]
  },
  {
   "cell_type": "code",
   "execution_count": 13,
   "id": "f29b965e-50ad-49d5-8bc5-b495de3e2d59",
   "metadata": {},
   "outputs": [],
   "source": [
    "chain_one = prompt | chat"
   ]
  },
  {
   "cell_type": "code",
   "execution_count": 14,
   "id": "f7275578-a9e1-4d97-8e0b-a02638c420dc",
   "metadata": {},
   "outputs": [
    {
     "data": {
      "text/plain": [
       "langchain_core.runnables.base.RunnableSequence"
      ]
     },
     "execution_count": 14,
     "metadata": {},
     "output_type": "execute_result"
    }
   ],
   "source": [
    "type(chain_one)"
   ]
  },
  {
   "cell_type": "code",
   "execution_count": 15,
   "id": "fbb73b7b-fa47-463e-b747-9e808e458907",
   "metadata": {},
   "outputs": [],
   "source": [
    "chain_two = second_prompt | chat"
   ]
  },
  {
   "cell_type": "code",
   "execution_count": 16,
   "id": "891e5e22-7ff3-4846-8e5e-0c2169d11f0a",
   "metadata": {},
   "outputs": [],
   "source": [
    "from langchain_core.runnables.base import RunnableSequence"
   ]
  },
  {
   "cell_type": "code",
   "execution_count": 17,
   "id": "04387462-ba8e-49bb-b77e-9c91803101ce",
   "metadata": {
    "scrolled": true
   },
   "outputs": [
    {
     "data": {
      "text/plain": [
       "\u001b[1;31mInit signature:\u001b[0m\n",
       "\u001b[0mRunnableSequence\u001b[0m\u001b[1;33m(\u001b[0m\u001b[1;33m\n",
       "\u001b[0m    \u001b[1;33m*\u001b[0m\u001b[0msteps\u001b[0m\u001b[1;33m:\u001b[0m \u001b[1;34m'RunnableLike'\u001b[0m\u001b[1;33m,\u001b[0m\u001b[1;33m\n",
       "\u001b[0m    \u001b[0mname\u001b[0m\u001b[1;33m:\u001b[0m \u001b[1;34m'Optional[str]'\u001b[0m \u001b[1;33m=\u001b[0m \u001b[1;32mNone\u001b[0m\u001b[1;33m,\u001b[0m\u001b[1;33m\n",
       "\u001b[0m    \u001b[0mfirst\u001b[0m\u001b[1;33m:\u001b[0m \u001b[1;34m'Optional[Runnable[Any, Any]]'\u001b[0m \u001b[1;33m=\u001b[0m \u001b[1;32mNone\u001b[0m\u001b[1;33m,\u001b[0m\u001b[1;33m\n",
       "\u001b[0m    \u001b[0mmiddle\u001b[0m\u001b[1;33m:\u001b[0m \u001b[1;34m'Optional[List[Runnable[Any, Any]]]'\u001b[0m \u001b[1;33m=\u001b[0m \u001b[1;32mNone\u001b[0m\u001b[1;33m,\u001b[0m\u001b[1;33m\n",
       "\u001b[0m    \u001b[0mlast\u001b[0m\u001b[1;33m:\u001b[0m \u001b[1;34m'Optional[Runnable[Any, Any]]'\u001b[0m \u001b[1;33m=\u001b[0m \u001b[1;32mNone\u001b[0m\u001b[1;33m,\u001b[0m\u001b[1;33m\n",
       "\u001b[0m\u001b[1;33m)\u001b[0m \u001b[1;33m->\u001b[0m \u001b[1;32mNone\u001b[0m\u001b[1;33m\u001b[0m\u001b[1;33m\u001b[0m\u001b[0m\n",
       "\u001b[1;31mDocstring:\u001b[0m     \n",
       "A sequence of runnables, where the output of each is the input of the next.\n",
       "\n",
       "RunnableSequence is the most important composition operator in LangChain as it is\n",
       "used in virtually every chain.\n",
       "\n",
       "A RunnableSequence can be instantiated directly or more commonly by using the `|`\n",
       "operator where either the left or right operands (or both) must be a Runnable.\n",
       "\n",
       "Any RunnableSequence automatically supports sync, async, batch.\n",
       "\n",
       "The default implementations of `batch` and `abatch` utilize threadpools and\n",
       "asyncio gather and will be faster than naive invocation of invoke or ainvoke\n",
       "for IO bound runnables.\n",
       "\n",
       "Batching is implemented by invoking the batch method on each component of the\n",
       "RunnableSequence in order.\n",
       "\n",
       "A RunnableSequence preserves the streaming properties of its components, so if all\n",
       "components of the sequence implement a `transform` method -- which\n",
       "is the method that implements the logic to map a streaming input to a streaming\n",
       "output -- then the sequence will be able to stream input to output!\n",
       "\n",
       "If any component of the sequence does not implement transform then the\n",
       "streaming will only begin after this component is run. If there are\n",
       "multiple blocking components, streaming begins after the last one.\n",
       "\n",
       "Please note: RunnableLambdas do not support `transform` by default! So if\n",
       "    you need to use a RunnableLambdas be careful about where you place them in a\n",
       "    RunnableSequence (if you need to use the .stream()/.astream() methods).\n",
       "\n",
       "    If you need arbitrary logic and need streaming, you can subclass\n",
       "    Runnable, and implement `transform` for whatever logic you need.\n",
       "\n",
       "Here is a simple example that uses simple functions to illustrate the use of\n",
       "RunnableSequence:\n",
       "\n",
       "    .. code-block:: python\n",
       "\n",
       "        from langchain_core.runnables import RunnableLambda\n",
       "\n",
       "        def add_one(x: int) -> int:\n",
       "            return x + 1\n",
       "\n",
       "        def mul_two(x: int) -> int:\n",
       "            return x * 2\n",
       "\n",
       "        runnable_1 = RunnableLambda(add_one)\n",
       "        runnable_2 = RunnableLambda(mul_two)\n",
       "        sequence = runnable_1 | runnable_2\n",
       "        # Or equivalently:\n",
       "        # sequence = RunnableSequence(first=runnable_1, last=runnable_2)\n",
       "        sequence.invoke(1)\n",
       "        await runnable.ainvoke(1)\n",
       "\n",
       "        sequence.batch([1, 2, 3])\n",
       "        await sequence.abatch([1, 2, 3])\n",
       "\n",
       "Here's an example that uses streams JSON output generated by an LLM:\n",
       "\n",
       "    .. code-block:: python\n",
       "\n",
       "        from langchain_core.output_parsers.json import SimpleJsonOutputParser\n",
       "        from langchain.chat_models.openai import ChatOpenAI\n",
       "\n",
       "        prompt = PromptTemplate.from_template(\n",
       "            'In JSON format, give me a list of {topic} and their '\n",
       "            'corresponding names in French, Spanish and in a '\n",
       "            'Cat Language.'\n",
       "        )\n",
       "\n",
       "        model = ChatOpenAI()\n",
       "        chain = prompt | model | SimpleJsonOutputParser()\n",
       "\n",
       "        async for chunk in chain.astream({'topic': 'colors'}):\n",
       "            print('-')\n",
       "            print(chunk, sep='', flush=True)\n",
       "\u001b[1;31mInit docstring:\u001b[0m\n",
       "Create a new RunnableSequence.\n",
       "\n",
       "Args:\n",
       "    steps: The steps to include in the sequence.\n",
       "\u001b[1;31mFile:\u001b[0m           c:\\users\\a2644752\\sandbox\\private-rai\\env\\lib\\site-packages\\langchain_core\\runnables\\base.py\n",
       "\u001b[1;31mType:\u001b[0m           ModelMetaclass\n",
       "\u001b[1;31mSubclasses:\u001b[0m     "
      ]
     },
     "metadata": {},
     "output_type": "display_data"
    }
   ],
   "source": [
    "RunnableSequence?"
   ]
  },
  {
   "cell_type": "code",
   "execution_count": 18,
   "id": "39bd4968-ab4e-4080-9e1d-a758b27d765f",
   "metadata": {},
   "outputs": [],
   "source": [
    "simple_chain = chain_one | chain_two"
   ]
  },
  {
   "cell_type": "code",
   "execution_count": 20,
   "id": "e1131471-a57e-4cc4-9246-5cb66d78a2d1",
   "metadata": {},
   "outputs": [
    {
     "data": {
      "text/plain": [
       "False"
      ]
     },
     "execution_count": 20,
     "metadata": {},
     "output_type": "execute_result"
    }
   ],
   "source": [
    "hasattr(simple_chain, \"run\")"
   ]
  },
  {
   "cell_type": "markdown",
   "id": "21dae3de-5b34-4493-9979-63f06451ad96",
   "metadata": {},
   "source": [
    "A `RunnableSequence` doesn't have a `run` method, so we use `invoke` instead."
   ]
  },
  {
   "cell_type": "code",
   "execution_count": 21,
   "id": "c5f8675c-a143-4d93-bf82-b9e425d8d421",
   "metadata": {
    "scrolled": true
   },
   "outputs": [
    {
     "ename": "TypeError",
     "evalue": "Expected mapping type as input to ChatPromptTemplate. Received <class 'langchain_core.messages.ai.AIMessage'>.",
     "output_type": "error",
     "traceback": [
      "\u001b[1;31m---------------------------------------------------------------------------\u001b[0m",
      "\u001b[1;31mTypeError\u001b[0m                                 Traceback (most recent call last)",
      "Cell \u001b[1;32mIn[21], line 1\u001b[0m\n\u001b[1;32m----> 1\u001b[0m \u001b[43msimple_chain\u001b[49m\u001b[38;5;241;43m.\u001b[39;49m\u001b[43minvoke\u001b[49m\u001b[43m(\u001b[49m\u001b[38;5;28;43minput\u001b[39;49m\u001b[38;5;241;43m=\u001b[39;49m\u001b[43m{\u001b[49m\u001b[38;5;124;43m\"\u001b[39;49m\u001b[38;5;124;43mproduct\u001b[39;49m\u001b[38;5;124;43m\"\u001b[39;49m\u001b[43m:\u001b[49m\u001b[43m \u001b[49m\u001b[38;5;124;43m\"\u001b[39;49m\u001b[38;5;124;43mproduct\u001b[39;49m\u001b[38;5;124;43m\"\u001b[39;49m\u001b[43m}\u001b[49m\u001b[43m)\u001b[49m\n",
      "File \u001b[1;32m~\\Sandbox\\PRIVATE-RAI\\env\\Lib\\site-packages\\langchain_core\\runnables\\base.py:1762\u001b[0m, in \u001b[0;36mRunnableSequence.invoke\u001b[1;34m(self, input, config)\u001b[0m\n\u001b[0;32m   1760\u001b[0m \u001b[38;5;28;01mtry\u001b[39;00m:\n\u001b[0;32m   1761\u001b[0m     \u001b[38;5;28;01mfor\u001b[39;00m i, step \u001b[38;5;129;01min\u001b[39;00m \u001b[38;5;28menumerate\u001b[39m(\u001b[38;5;28mself\u001b[39m\u001b[38;5;241m.\u001b[39msteps):\n\u001b[1;32m-> 1762\u001b[0m         \u001b[38;5;28minput\u001b[39m \u001b[38;5;241m=\u001b[39m \u001b[43mstep\u001b[49m\u001b[38;5;241;43m.\u001b[39;49m\u001b[43minvoke\u001b[49m\u001b[43m(\u001b[49m\n\u001b[0;32m   1763\u001b[0m \u001b[43m            \u001b[49m\u001b[38;5;28;43minput\u001b[39;49m\u001b[43m,\u001b[49m\n\u001b[0;32m   1764\u001b[0m \u001b[43m            \u001b[49m\u001b[38;5;66;43;03m# mark each step as a child run\u001b[39;49;00m\n\u001b[0;32m   1765\u001b[0m \u001b[43m            \u001b[49m\u001b[43mpatch_config\u001b[49m\u001b[43m(\u001b[49m\n\u001b[0;32m   1766\u001b[0m \u001b[43m                \u001b[49m\u001b[43mconfig\u001b[49m\u001b[43m,\u001b[49m\u001b[43m \u001b[49m\u001b[43mcallbacks\u001b[49m\u001b[38;5;241;43m=\u001b[39;49m\u001b[43mrun_manager\u001b[49m\u001b[38;5;241;43m.\u001b[39;49m\u001b[43mget_child\u001b[49m\u001b[43m(\u001b[49m\u001b[38;5;124;43mf\u001b[39;49m\u001b[38;5;124;43m\"\u001b[39;49m\u001b[38;5;124;43mseq:step:\u001b[39;49m\u001b[38;5;132;43;01m{\u001b[39;49;00m\u001b[43mi\u001b[49m\u001b[38;5;241;43m+\u001b[39;49m\u001b[38;5;241;43m1\u001b[39;49m\u001b[38;5;132;43;01m}\u001b[39;49;00m\u001b[38;5;124;43m\"\u001b[39;49m\u001b[43m)\u001b[49m\n\u001b[0;32m   1767\u001b[0m \u001b[43m            \u001b[49m\u001b[43m)\u001b[49m\u001b[43m,\u001b[49m\n\u001b[0;32m   1768\u001b[0m \u001b[43m        \u001b[49m\u001b[43m)\u001b[49m\n\u001b[0;32m   1769\u001b[0m \u001b[38;5;66;03m# finish the root run\u001b[39;00m\n\u001b[0;32m   1770\u001b[0m \u001b[38;5;28;01mexcept\u001b[39;00m \u001b[38;5;167;01mBaseException\u001b[39;00m \u001b[38;5;28;01mas\u001b[39;00m e:\n",
      "File \u001b[1;32m~\\Sandbox\\PRIVATE-RAI\\env\\Lib\\site-packages\\langchain_core\\prompts\\base.py:93\u001b[0m, in \u001b[0;36mBasePromptTemplate.invoke\u001b[1;34m(self, input, config)\u001b[0m\n\u001b[0;32m     90\u001b[0m \u001b[38;5;28;01mdef\u001b[39;00m \u001b[38;5;21minvoke\u001b[39m(\n\u001b[0;32m     91\u001b[0m     \u001b[38;5;28mself\u001b[39m, \u001b[38;5;28minput\u001b[39m: Dict, config: Optional[RunnableConfig] \u001b[38;5;241m=\u001b[39m \u001b[38;5;28;01mNone\u001b[39;00m\n\u001b[0;32m     92\u001b[0m ) \u001b[38;5;241m-\u001b[39m\u001b[38;5;241m>\u001b[39m PromptValue:\n\u001b[1;32m---> 93\u001b[0m     \u001b[38;5;28;01mreturn\u001b[39;00m \u001b[38;5;28;43mself\u001b[39;49m\u001b[38;5;241;43m.\u001b[39;49m\u001b[43m_call_with_config\u001b[49m\u001b[43m(\u001b[49m\n\u001b[0;32m     94\u001b[0m \u001b[43m        \u001b[49m\u001b[38;5;28;43mself\u001b[39;49m\u001b[38;5;241;43m.\u001b[39;49m\u001b[43m_format_prompt_with_error_handling\u001b[49m\u001b[43m,\u001b[49m\n\u001b[0;32m     95\u001b[0m \u001b[43m        \u001b[49m\u001b[38;5;28;43minput\u001b[39;49m\u001b[43m,\u001b[49m\n\u001b[0;32m     96\u001b[0m \u001b[43m        \u001b[49m\u001b[43mconfig\u001b[49m\u001b[43m,\u001b[49m\n\u001b[0;32m     97\u001b[0m \u001b[43m        \u001b[49m\u001b[43mrun_type\u001b[49m\u001b[38;5;241;43m=\u001b[39;49m\u001b[38;5;124;43m\"\u001b[39;49m\u001b[38;5;124;43mprompt\u001b[39;49m\u001b[38;5;124;43m\"\u001b[39;49m\u001b[43m,\u001b[49m\n\u001b[0;32m     98\u001b[0m \u001b[43m    \u001b[49m\u001b[43m)\u001b[49m\n",
      "File \u001b[1;32m~\\Sandbox\\PRIVATE-RAI\\env\\Lib\\site-packages\\langchain_core\\runnables\\base.py:975\u001b[0m, in \u001b[0;36mRunnable._call_with_config\u001b[1;34m(self, func, input, config, run_type, **kwargs)\u001b[0m\n\u001b[0;32m    971\u001b[0m     context \u001b[38;5;241m=\u001b[39m copy_context()\n\u001b[0;32m    972\u001b[0m     context\u001b[38;5;241m.\u001b[39mrun(var_child_runnable_config\u001b[38;5;241m.\u001b[39mset, child_config)\n\u001b[0;32m    973\u001b[0m     output \u001b[38;5;241m=\u001b[39m cast(\n\u001b[0;32m    974\u001b[0m         Output,\n\u001b[1;32m--> 975\u001b[0m         \u001b[43mcontext\u001b[49m\u001b[38;5;241;43m.\u001b[39;49m\u001b[43mrun\u001b[49m\u001b[43m(\u001b[49m\n\u001b[0;32m    976\u001b[0m \u001b[43m            \u001b[49m\u001b[43mcall_func_with_variable_args\u001b[49m\u001b[43m,\u001b[49m\n\u001b[0;32m    977\u001b[0m \u001b[43m            \u001b[49m\u001b[43mfunc\u001b[49m\u001b[43m,\u001b[49m\u001b[43m  \u001b[49m\u001b[38;5;66;43;03m# type: ignore[arg-type]\u001b[39;49;00m\n\u001b[0;32m    978\u001b[0m \u001b[43m            \u001b[49m\u001b[38;5;28;43minput\u001b[39;49m\u001b[43m,\u001b[49m\u001b[43m  \u001b[49m\u001b[38;5;66;43;03m# type: ignore[arg-type]\u001b[39;49;00m\n\u001b[0;32m    979\u001b[0m \u001b[43m            \u001b[49m\u001b[43mconfig\u001b[49m\u001b[43m,\u001b[49m\n\u001b[0;32m    980\u001b[0m \u001b[43m            \u001b[49m\u001b[43mrun_manager\u001b[49m\u001b[43m,\u001b[49m\n\u001b[0;32m    981\u001b[0m \u001b[43m            \u001b[49m\u001b[38;5;241;43m*\u001b[39;49m\u001b[38;5;241;43m*\u001b[39;49m\u001b[43mkwargs\u001b[49m\u001b[43m,\u001b[49m\n\u001b[0;32m    982\u001b[0m \u001b[43m        \u001b[49m\u001b[43m)\u001b[49m,\n\u001b[0;32m    983\u001b[0m     )\n\u001b[0;32m    984\u001b[0m \u001b[38;5;28;01mexcept\u001b[39;00m \u001b[38;5;167;01mBaseException\u001b[39;00m \u001b[38;5;28;01mas\u001b[39;00m e:\n\u001b[0;32m    985\u001b[0m     run_manager\u001b[38;5;241m.\u001b[39mon_chain_error(e)\n",
      "File \u001b[1;32m~\\Sandbox\\PRIVATE-RAI\\env\\Lib\\site-packages\\langchain_core\\runnables\\config.py:323\u001b[0m, in \u001b[0;36mcall_func_with_variable_args\u001b[1;34m(func, input, config, run_manager, **kwargs)\u001b[0m\n\u001b[0;32m    321\u001b[0m \u001b[38;5;28;01mif\u001b[39;00m run_manager \u001b[38;5;129;01mis\u001b[39;00m \u001b[38;5;129;01mnot\u001b[39;00m \u001b[38;5;28;01mNone\u001b[39;00m \u001b[38;5;129;01mand\u001b[39;00m accepts_run_manager(func):\n\u001b[0;32m    322\u001b[0m     kwargs[\u001b[38;5;124m\"\u001b[39m\u001b[38;5;124mrun_manager\u001b[39m\u001b[38;5;124m\"\u001b[39m] \u001b[38;5;241m=\u001b[39m run_manager\n\u001b[1;32m--> 323\u001b[0m \u001b[38;5;28;01mreturn\u001b[39;00m \u001b[43mfunc\u001b[49m\u001b[43m(\u001b[49m\u001b[38;5;28;43minput\u001b[39;49m\u001b[43m,\u001b[49m\u001b[43m \u001b[49m\u001b[38;5;241;43m*\u001b[39;49m\u001b[38;5;241;43m*\u001b[39;49m\u001b[43mkwargs\u001b[49m\u001b[43m)\u001b[49m\n",
      "File \u001b[1;32m~\\Sandbox\\PRIVATE-RAI\\env\\Lib\\site-packages\\langchain_core\\prompts\\base.py:77\u001b[0m, in \u001b[0;36mBasePromptTemplate._format_prompt_with_error_handling\u001b[1;34m(self, inner_input)\u001b[0m\n\u001b[0;32m     75\u001b[0m \u001b[38;5;28;01mdef\u001b[39;00m \u001b[38;5;21m_format_prompt_with_error_handling\u001b[39m(\u001b[38;5;28mself\u001b[39m, inner_input: Dict) \u001b[38;5;241m-\u001b[39m\u001b[38;5;241m>\u001b[39m PromptValue:\n\u001b[0;32m     76\u001b[0m     \u001b[38;5;28;01mif\u001b[39;00m \u001b[38;5;129;01mnot\u001b[39;00m \u001b[38;5;28misinstance\u001b[39m(inner_input, \u001b[38;5;28mdict\u001b[39m):\n\u001b[1;32m---> 77\u001b[0m         \u001b[38;5;28;01mraise\u001b[39;00m \u001b[38;5;167;01mTypeError\u001b[39;00m(\n\u001b[0;32m     78\u001b[0m             \u001b[38;5;124mf\u001b[39m\u001b[38;5;124m\"\u001b[39m\u001b[38;5;124mExpected mapping type as input to \u001b[39m\u001b[38;5;132;01m{\u001b[39;00m\u001b[38;5;28mself\u001b[39m\u001b[38;5;241m.\u001b[39m\u001b[38;5;18m__class__\u001b[39m\u001b[38;5;241m.\u001b[39m\u001b[38;5;18m__name__\u001b[39m\u001b[38;5;132;01m}\u001b[39;00m\u001b[38;5;124m. \u001b[39m\u001b[38;5;124m\"\u001b[39m\n\u001b[0;32m     79\u001b[0m             \u001b[38;5;124mf\u001b[39m\u001b[38;5;124m\"\u001b[39m\u001b[38;5;124mReceived \u001b[39m\u001b[38;5;132;01m{\u001b[39;00m\u001b[38;5;28mtype\u001b[39m(inner_input)\u001b[38;5;132;01m}\u001b[39;00m\u001b[38;5;124m.\u001b[39m\u001b[38;5;124m\"\u001b[39m\n\u001b[0;32m     80\u001b[0m         )\n\u001b[0;32m     81\u001b[0m     missing \u001b[38;5;241m=\u001b[39m \u001b[38;5;28mset\u001b[39m(\u001b[38;5;28mself\u001b[39m\u001b[38;5;241m.\u001b[39minput_variables)\u001b[38;5;241m.\u001b[39mdifference(inner_input)\n\u001b[0;32m     82\u001b[0m     \u001b[38;5;28;01mif\u001b[39;00m missing:\n",
      "\u001b[1;31mTypeError\u001b[0m: Expected mapping type as input to ChatPromptTemplate. Received <class 'langchain_core.messages.ai.AIMessage'>."
     ]
    }
   ],
   "source": [
    "simple_chain.invoke(input={\"product\": \"product\"})"
   ]
  },
  {
   "cell_type": "markdown",
   "id": "d94a3281-53d9-4cb6-95c3-4131e7413024",
   "metadata": {},
   "source": [
    "Executing this raises the following:\n",
    "\n",
    "```python\n",
    "TypeError: Expected mapping type as input to ChatPromptTemplate. Received <class 'langchain_core.messages.ai.AIMessage'>.\n",
    "```\n",
    "\n",
    "This is do to `chain_one` returning an `AIMessage`."
   ]
  },
  {
   "cell_type": "code",
   "execution_count": 22,
   "id": "b9f5634d-2cd5-4312-ace9-17477ef71e2e",
   "metadata": {},
   "outputs": [
    {
     "name": "stdout",
     "output_type": "stream",
     "text": [
      "<class 'langchain_core.messages.ai.AIMessage'>\n"
     ]
    }
   ],
   "source": [
    "output_one = chain_one.invoke(input={\"product\": product})\n",
    "print(type(output_one))"
   ]
  },
  {
   "cell_type": "markdown",
   "id": "8e79048e-e900-4f66-9ff8-234cd170d25a",
   "metadata": {},
   "source": [
    "`chain_two` expects a mapping type as input, i.e. a dictionary with the `input_variables` as keys and the necessay values."
   ]
  },
  {
   "cell_type": "code",
   "execution_count": 23,
   "id": "1965b488-e8fb-4791-af82-04a98ab92ff5",
   "metadata": {},
   "outputs": [
    {
     "data": {
      "text/plain": [
       "['company_name']"
      ]
     },
     "execution_count": 23,
     "metadata": {},
     "output_type": "execute_result"
    }
   ],
   "source": [
    "chain_two.first.input_variables"
   ]
  },
  {
   "cell_type": "markdown",
   "id": "cc845258-f0d3-45ab-aa7d-d4e2043516e9",
   "metadata": {},
   "source": [
    "To get this to work, I need to convert the output of `chain_one` into the required input type for `chain_two`.\n",
    "I can do this with a `RunnableLambda`."
   ]
  },
  {
   "cell_type": "code",
   "execution_count": 31,
   "id": "cff4aeff-d69e-414f-966f-5f12502942b0",
   "metadata": {},
   "outputs": [],
   "source": [
    "from langchain_core.runnables import RunnableLambda"
   ]
  },
  {
   "cell_type": "markdown",
   "id": "43beaceb-3789-488d-a554-66e3a962140f",
   "metadata": {},
   "source": [
    "This is what I want to return."
   ]
  },
  {
   "cell_type": "code",
   "execution_count": 60,
   "id": "9fe9431b-806f-4f43-8ea8-518ffb55ad33",
   "metadata": {},
   "outputs": [
    {
     "data": {
      "text/plain": [
       "{'company_name': '\"Regal Rest Linens\"'}"
      ]
     },
     "execution_count": 60,
     "metadata": {},
     "output_type": "execute_result"
    }
   ],
   "source": [
    "expect_output = {\"company_name\": output_one.content}\n",
    "expect_output"
   ]
  },
  {
   "cell_type": "code",
   "execution_count": 59,
   "id": "8a9209a0-d82d-4b09-b6ce-37d76aa2dc32",
   "metadata": {},
   "outputs": [
    {
     "data": {
      "text/plain": [
       "{'company_name': RunnableLambda(lambda x: x.content)}"
      ]
     },
     "execution_count": 59,
     "metadata": {},
     "output_type": "execute_result"
    }
   ],
   "source": [
    "runnable = {\"company_name\": RunnableLambda(func=lambda x: x.content)}\n",
    "runnable"
   ]
  },
  {
   "cell_type": "markdown",
   "id": "e0931b35-9130-4d09-8874-daa13e2363ac",
   "metadata": {},
   "source": [
    "Adding `runnable` to the end of `chain_one`, we can test if the result is as expected."
   ]
  },
  {
   "cell_type": "code",
   "execution_count": 54,
   "id": "a954f938-93ed-44b5-aae3-3dfbe3394f34",
   "metadata": {},
   "outputs": [],
   "source": [
    "test_chain = chain_one | runnable"
   ]
  },
  {
   "cell_type": "code",
   "execution_count": 62,
   "id": "5869e962-697b-4f5b-8c36-d610fe942f20",
   "metadata": {},
   "outputs": [
    {
     "data": {
      "text/plain": [
       "{'company_name': 'Royal Comfort Linens'}"
      ]
     },
     "execution_count": 62,
     "metadata": {},
     "output_type": "execute_result"
    }
   ],
   "source": [
    "test_chain_output = test_chain.invoke(input={\"product\": product})\n",
    "test_chain_output"
   ]
  },
  {
   "cell_type": "markdown",
   "id": "c9d65358-7988-421e-8500-7cc850760ce0",
   "metadata": {},
   "source": [
    "Testing as input to `chain_two`."
   ]
  },
  {
   "cell_type": "code",
   "execution_count": 57,
   "id": "1a9a87a3-cee4-417d-b63e-bb120edd7a40",
   "metadata": {},
   "outputs": [
    {
     "data": {
      "text/plain": [
       "AIMessage(content='RoyalRest is a luxury bedding company that provides exquisite and comfortable sleep experiences fit for royalty.')"
      ]
     },
     "execution_count": 57,
     "metadata": {},
     "output_type": "execute_result"
    }
   ],
   "source": [
    "chain_two.invoke(input=test_chain_output)"
   ]
  },
  {
   "cell_type": "markdown",
   "id": "7db0dd9e-b72c-4b8f-95c7-9b178d629901",
   "metadata": {},
   "source": [
    "Looks good to me!\n",
    "Let's combine everything together."
   ]
  },
  {
   "cell_type": "code",
   "execution_count": 63,
   "id": "1586517d-f87d-4ddf-ad83-83a7c460b6d6",
   "metadata": {},
   "outputs": [
    {
     "data": {
      "text/plain": [
       "AIMessage(content='RoyalLux Beddings is a luxury bedding company offering exquisite and comfortable linens, pillows, and blankets fit for royalty.')"
      ]
     },
     "execution_count": 63,
     "metadata": {},
     "output_type": "execute_result"
    }
   ],
   "source": [
    "simple_chain = chain_one | runnable | chain_two\n",
    "simple_chain.invoke(input={\"product\": product})"
   ]
  }
 ],
 "metadata": {
  "kernelspec": {
   "display_name": "Python 3 (ipykernel)",
   "language": "python",
   "name": "python3"
  },
  "language_info": {
   "codemirror_mode": {
    "name": "ipython",
    "version": 3
   },
   "file_extension": ".py",
   "mimetype": "text/x-python",
   "name": "python",
   "nbconvert_exporter": "python",
   "pygments_lexer": "ipython3",
   "version": "3.11.4"
  }
 },
 "nbformat": 4,
 "nbformat_minor": 5
}
